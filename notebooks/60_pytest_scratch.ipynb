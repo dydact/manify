{
 "cells": [
  {
   "cell_type": "code",
   "execution_count": 5,
   "id": "cfd9764c",
   "metadata": {},
   "outputs": [
    {
     "name": "stdout",
     "output_type": "stream",
     "text": [
      "The autoreload extension is already loaded. To reload it, use:\n",
      "  %reload_ext autoreload\n"
     ]
    }
   ],
   "source": [
    "%load_ext autoreload\n",
    "%autoreload 2\n",
    "\n",
    "import manify\n",
    "from manify.manifolds import Manifold\n",
    "import torch\n",
    "import geoopt"
   ]
  },
  {
   "cell_type": "code",
   "execution_count": 6,
   "id": "5a128e26",
   "metadata": {},
   "outputs": [
    {
     "ename": "NameError",
     "evalue": "name 'math' is not defined",
     "output_type": "error",
     "traceback": [
      "\u001b[31m---------------------------------------------------------------------------\u001b[39m",
      "\u001b[31mNameError\u001b[39m                                 Traceback (most recent call last)",
      "\u001b[36mCell\u001b[39m\u001b[36m \u001b[39m\u001b[32mIn[6]\u001b[39m\u001b[32m, line 73\u001b[39m\n\u001b[32m     68\u001b[39m lls = M.log_likelihood(X1)\n\u001b[32m     69\u001b[39m \u001b[38;5;28;01mif\u001b[39;00m curv == \u001b[32m0\u001b[39m:\n\u001b[32m     70\u001b[39m     \u001b[38;5;66;03m# Evaluate as ll of gaussian with mean 0, variance 1:\u001b[39;00m\n\u001b[32m     71\u001b[39m     \u001b[38;5;28;01massert\u001b[39;00m torch.allclose(\n\u001b[32m     72\u001b[39m         lls,\n\u001b[32m---> \u001b[39m\u001b[32m73\u001b[39m         -\u001b[32m0.5\u001b[39m * (torch.sum(X1**\u001b[32m2\u001b[39m, dim=-\u001b[32m1\u001b[39m) + X1.size(-\u001b[32m1\u001b[39m) * \u001b[43mmath\u001b[49m.log(\u001b[32m2\u001b[39m * math.pi)),\n\u001b[32m     74\u001b[39m     ), \u001b[33m\"\u001b[39m\u001b[33mLog-likelihood mismatch for Gaussian\u001b[39m\u001b[33m\"\u001b[39m\n\u001b[32m     75\u001b[39m \u001b[38;5;28;01massert\u001b[39;00m (lls <= \u001b[32m0\u001b[39m).all(), \u001b[33m\"\u001b[39m\u001b[33mLog-likelihood should be non-positive\u001b[39m\u001b[33m\"\u001b[39m\n\u001b[32m     77\u001b[39m \u001b[38;5;66;03m# Logmap and expmap\u001b[39;00m\n",
      "\u001b[31mNameError\u001b[39m: name 'math' is not defined"
     ]
    }
   ],
   "source": [
    "for curv, dim in [(-1, 2), (0, 2), (1, 2), (-1, 64), (0, 64), (1, 64)]:\n",
    "    M = Manifold(curvature=curv, dim=dim)\n",
    "\n",
    "    # Does device switching work?\n",
    "    M.to(\"cpu\")\n",
    "\n",
    "    # Do attributes work correctly?\n",
    "    if curv < 0:\n",
    "        assert M.type == \"H\" and isinstance(M.manifold.base, geoopt.Lorentz)\n",
    "    elif curv == 0:\n",
    "        assert M.type == \"E\" and isinstance(M.manifold.base, geoopt.Euclidean)\n",
    "    else:\n",
    "        assert M.type == \"S\" and isinstance(M.manifold.base, geoopt.Sphere)\n",
    "\n",
    "    # get some vectors via gaussian mixture\n",
    "    cov = torch.eye(M.dim) / M.dim / 100\n",
    "    means = torch.vstack([M.mu0] * 10)\n",
    "    covs = torch.stack([cov] * 10)\n",
    "    X1, _ = M.sample(z_mean=means, sigma=covs)\n",
    "    X2, _ = M.sample(z_mean=means[:5], sigma=covs[:5])\n",
    "\n",
    "    # Verify points are on manifold\n",
    "    assert M.manifold.check_point(X1), \"X1 is not on the manifold\"\n",
    "    assert M.manifold.check_point(X2), \"X2 is not on the manifold\"\n",
    "\n",
    "    # Inner products\n",
    "    ip_11 = M.inner(X1, X1)\n",
    "    assert ip_11.shape == (10, 10), \"Inner product shape mismatch for X1\"\n",
    "    ip_12 = M.inner(X1, X2)\n",
    "    assert ip_12.shape == (10, 5), \"Inner product shape mismatch for X1 and X2\"\n",
    "    if curv == 0:\n",
    "        assert torch.allclose(ip_11, X1 @ X1.T), \"Euclidean inner products do not match for X1\"\n",
    "        assert torch.allclose(ip_12, X1 @ X2.T), \"Euclidean inner products do not match for X1 and X2\"\n",
    "\n",
    "    # Dists\n",
    "    dists_11 = M.dist(X1, X1)\n",
    "    assert dists_11.shape == (10, 10), \"Distance shape mismatch for X1\"\n",
    "    dists_12 = M.dist(X1, X2)\n",
    "    assert dists_12.shape == (10, 5), \"Distance shape mismatch for X1 and X2\"\n",
    "    if curv == 0:\n",
    "        assert torch.allclose(\n",
    "            dists_12, torch.linalg.norm(X1[:, None] - X2[None, :], dim=-1)\n",
    "        ), \"Euclidean distances do not match for X1 and X2\"\n",
    "        assert torch.allclose(\n",
    "            dists_11, torch.linalg.norm(X1[:, None] - X1[None, :], dim=-1)\n",
    "        ), \"Euclidean distances do not match for X1\"\n",
    "    assert (dists_11.triu(1) >= 0).all(), \"Distances for X1 should be non-negative\"\n",
    "    assert (dists_12.triu(1) >= 0).all(), \"Distances for X2 should be non-negative\"\n",
    "    assert torch.allclose(dists_11.triu(1), M.pdist(X1).triu(1)), \"dist and pdist diverge for X1\"\n",
    "\n",
    "    # Square dists\n",
    "    sqdists_11 = M.dist2(X1, X1)\n",
    "    assert sqdists_11.shape == (10, 10), \"Squared distance shape mismatch for X1\"\n",
    "    sqdists_12 = M.dist2(X1, X2)\n",
    "    assert sqdists_12.shape == (10, 5), \"Squared distance shape mismatch for X1 and X2\"\n",
    "    if curv == 0:\n",
    "        assert torch.allclose(\n",
    "            sqdists_12, torch.linalg.norm(X1[:, None] - X2[None, :], dim=-1) ** 2\n",
    "        ), \"Euclidean squared distances do not match for X1 and X2\"\n",
    "        assert torch.allclose(\n",
    "            sqdists_11, torch.linalg.norm(X1[:, None] - X1[None, :], dim=-1) ** 2\n",
    "        ), \"Euclidean squared distances do not match for X1\"\n",
    "    assert (sqdists_11.triu(1) >= 0).all(), \"Squared distances for X1 should be non-negative\"\n",
    "    assert (sqdists_12.triu(1) >= 0).all(), \"Squared distances for X1 and X2 should be non-negative\"\n",
    "    assert torch.allclose(sqdists_11.triu(1), M.pdist2(X1).triu(1)), \"sqdists_11 and pdist2 diverge for X1\"\n",
    "\n",
    "    # Log-likelihood\n",
    "    lls = M.log_likelihood(X1)\n",
    "    if curv == 0:\n",
    "        # Evaluate as ll of gaussian with mean 0, variance 1:\n",
    "        assert torch.allclose(\n",
    "            lls,\n",
    "            -0.5 * (torch.sum(X1**2, dim=-1) + X1.size(-1) * math.log(2 * math.pi)),\n",
    "        ), \"Log-likelihood mismatch for Gaussian\"\n",
    "    assert (lls <= 0).all(), \"Log-likelihood should be non-positive\"\n",
    "\n",
    "    # Logmap and expmap\n",
    "    logmap_x1 = M.logmap(X1)\n",
    "    assert M.manifold.check_vector(logmap_x1), \"Logmap point should be in the tangent plane\"\n",
    "    expmap_x1 = M.expmap(logmap_x1)\n",
    "    assert M.manifold.check_point(expmap_x1), \"Expmap point should be on the manifold\"\n",
    "    assert torch.allclose(expmap_x1, X1, atol=1e-5), \"Expmap does not return the original points\"\n",
    "\n",
    "    # Stereographic conversions\n",
    "    M_stereo, X1_stereo, X2_stereo = M.stereographic(X1, X2)\n",
    "    assert M_stereo.is_stereographic\n",
    "    X_inv_stereo, X1_inv_stereo, X2_inv_stereo = M_stereo.inverse_stereographic(X1_stereo, X2_stereo)\n",
    "    assert not X_inv_stereo.is_stereographic\n",
    "    assert torch.allclose(X1_inv_stereo, X1), \"Inverse stereographic conversion mismatch for X1\"\n",
    "    assert torch.allclose(X2_inv_stereo, X2), \"Inverse stereographic conversion mismatch for X2\"\n",
    "\n",
    "    # Apply\n",
    "    @M.apply\n",
    "    def apply_function(x):\n",
    "        return torch.nn.functional.relu(x)\n",
    "\n",
    "    result = apply_function(X1)\n",
    "    assert result.shape == X1.shape, \"Result shape mismatch for apply_function\"\n",
    "    assert M.manifold.check_point(result)"
   ]
  },
  {
   "cell_type": "code",
   "execution_count": null,
   "id": "84491262",
   "metadata": {},
   "outputs": [
    {
     "data": {
      "text/plain": [
       "tensor([[ 1.0011,  0.0458,  0.0055],\n",
       "        [ 1.0001, -0.0142, -0.0087],\n",
       "        [ 1.0121,  0.1557,  0.0073],\n",
       "        [ 1.0099, -0.0979,  0.1019],\n",
       "        [ 1.0033,  0.0339,  0.0737],\n",
       "        [ 1.0008,  0.0300,  0.0255],\n",
       "        [ 1.0006,  0.0211,  0.0289],\n",
       "        [ 1.0040, -0.0701, -0.0553],\n",
       "        [ 1.0160,  0.1332, -0.1208],\n",
       "        [ 1.0026,  0.0174,  0.0700]], grad_fn=<CatBackward0>)"
      ]
     },
     "execution_count": 72,
     "metadata": {},
     "output_type": "execute_result"
    }
   ],
   "source": [
    "expmap_x1"
   ]
  },
  {
   "cell_type": "markdown",
   "id": "be661a96",
   "metadata": {},
   "source": []
  },
  {
   "cell_type": "code",
   "execution_count": null,
   "id": "a3edd57e",
   "metadata": {},
   "outputs": [
    {
     "data": {
      "text/plain": [
       "tensor([[ 1.0011,  0.0458,  0.0055],\n",
       "        [ 1.0001, -0.0142, -0.0087],\n",
       "        [ 1.0121,  0.1557,  0.0073],\n",
       "        [ 1.0099, -0.0979,  0.1019],\n",
       "        [ 1.0033,  0.0339,  0.0737],\n",
       "        [ 1.0008,  0.0300,  0.0255],\n",
       "        [ 1.0006,  0.0211,  0.0289],\n",
       "        [ 1.0040, -0.0701, -0.0553],\n",
       "        [ 1.0160,  0.1332, -0.1208],\n",
       "        [ 1.0026,  0.0174,  0.0700]], grad_fn=<CatBackward0>)"
      ]
     },
     "execution_count": 73,
     "metadata": {},
     "output_type": "execute_result"
    }
   ],
   "source": [
    "X1"
   ]
  },
  {
   "cell_type": "code",
   "execution_count": null,
   "id": "2ea982c6",
   "metadata": {},
   "outputs": [],
   "source": [
    "# make a stack of (10, 2, 2) from this\n",
    "my_stack = torch.stack([cov] * 10, dim=0)  # create a stack of 10 copies of cov"
   ]
  },
  {
   "cell_type": "code",
   "execution_count": null,
   "id": "8cb6c755",
   "metadata": {},
   "outputs": [
    {
     "data": {
      "text/plain": [
       "torch.Size([1, 10, 3])"
      ]
     },
     "execution_count": 66,
     "metadata": {},
     "output_type": "execute_result"
    }
   ],
   "source": [
    "torch.stack([M.mu0] * 10, dim=1).shape"
   ]
  },
  {
   "cell_type": "code",
   "execution_count": null,
   "id": "585ed32e",
   "metadata": {},
   "outputs": [
    {
     "data": {
      "text/plain": [
       "tensor([[1., 0., 0.]])"
      ]
     },
     "execution_count": 67,
     "metadata": {},
     "output_type": "execute_result"
    }
   ],
   "source": [
    "M.mu0"
   ]
  },
  {
   "cell_type": "code",
   "execution_count": null,
   "id": "72cdf03f",
   "metadata": {},
   "outputs": [
    {
     "data": {
      "text/plain": [
       "tensor([[1., 0., 0.],\n",
       "        [1., 0., 0.],\n",
       "        [1., 0., 0.],\n",
       "        [1., 0., 0.],\n",
       "        [1., 0., 0.],\n",
       "        [1., 0., 0.],\n",
       "        [1., 0., 0.],\n",
       "        [1., 0., 0.],\n",
       "        [1., 0., 0.],\n",
       "        [1., 0., 0.]])"
      ]
     },
     "execution_count": 70,
     "metadata": {},
     "output_type": "execute_result"
    }
   ],
   "source": [
    "torch.vstack([M.mu0] * 10)"
   ]
  },
  {
   "cell_type": "code",
   "execution_count": null,
   "id": "46564821",
   "metadata": {},
   "outputs": [
    {
     "ename": "IndexError",
     "evalue": "index 6 is out of bounds for dimension 0 with size 6",
     "output_type": "error",
     "traceback": [
      "\u001b[0;31m---------------------------------------------------------------------------\u001b[0m",
      "\u001b[0;31mIndexError\u001b[0m                                Traceback (most recent call last)",
      "Cell \u001b[0;32mIn[76], line 11\u001b[0m\n\u001b[1;32m      9\u001b[0m means \u001b[38;5;241m=\u001b[39m torch\u001b[38;5;241m.\u001b[39mvstack([pm\u001b[38;5;241m.\u001b[39mmu0] \u001b[38;5;241m*\u001b[39m \u001b[38;5;241m10\u001b[39m)\n\u001b[1;32m     10\u001b[0m covs \u001b[38;5;241m=\u001b[39m torch\u001b[38;5;241m.\u001b[39mstack([cov] \u001b[38;5;241m*\u001b[39m \u001b[38;5;241m10\u001b[39m)\n\u001b[0;32m---> 11\u001b[0m sigma_factorized \u001b[38;5;241m=\u001b[39m \u001b[43mpm\u001b[49m\u001b[38;5;241;43m.\u001b[39;49m\u001b[43mfactorize\u001b[49m\u001b[43m(\u001b[49m\u001b[43mcovs\u001b[49m\u001b[43m)\u001b[49m\n\u001b[1;32m     12\u001b[0m torch\u001b[38;5;241m.\u001b[39mrandom\u001b[38;5;241m.\u001b[39mmanual_seed(\u001b[38;5;241m42\u001b[39m)\n\u001b[1;32m     13\u001b[0m X1, _ \u001b[38;5;241m=\u001b[39m M\u001b[38;5;241m.\u001b[39msample(z_mean\u001b[38;5;241m=\u001b[39mmeans, sigma_factorized\u001b[38;5;241m=\u001b[39msigma_factorized)\n",
      "File \u001b[0;32m~/manify/manify/manifolds.py:537\u001b[0m, in \u001b[0;36mProductManifold.factorize\u001b[0;34m(self, X, intrinsic)\u001b[0m\n\u001b[1;32m    526\u001b[0m \u001b[38;5;250m\u001b[39m\u001b[38;5;124;03m\"\"\"\u001b[39;00m\n\u001b[1;32m    527\u001b[0m \u001b[38;5;124;03mFactorize the embeddings into the individual manifolds.\u001b[39;00m\n\u001b[1;32m    528\u001b[0m \n\u001b[0;32m   (...)\u001b[0m\n\u001b[1;32m    534\u001b[0m \u001b[38;5;124;03m    (List[Tensor]) list of tensors representing the factorized embeddings in each manifold.\u001b[39;00m\n\u001b[1;32m    535\u001b[0m \u001b[38;5;124;03m\"\"\"\u001b[39;00m\n\u001b[1;32m    536\u001b[0m dims_dict \u001b[38;5;241m=\u001b[39m \u001b[38;5;28mself\u001b[39m\u001b[38;5;241m.\u001b[39mman2intrinsic \u001b[38;5;28;01mif\u001b[39;00m intrinsic \u001b[38;5;28;01melse\u001b[39;00m \u001b[38;5;28mself\u001b[39m\u001b[38;5;241m.\u001b[39mman2dim\n\u001b[0;32m--> 537\u001b[0m \u001b[38;5;28;01mreturn\u001b[39;00m [X[\u001b[38;5;241m.\u001b[39m\u001b[38;5;241m.\u001b[39m\u001b[38;5;241m.\u001b[39m, dims_dict[i]] \u001b[38;5;28;01mfor\u001b[39;00m i \u001b[38;5;129;01min\u001b[39;00m \u001b[38;5;28mrange\u001b[39m(\u001b[38;5;28mlen\u001b[39m(\u001b[38;5;28mself\u001b[39m\u001b[38;5;241m.\u001b[39mP))]\n",
      "File \u001b[0;32m~/manify/manify/manifolds.py:537\u001b[0m, in \u001b[0;36m<listcomp>\u001b[0;34m(.0)\u001b[0m\n\u001b[1;32m    526\u001b[0m \u001b[38;5;250m\u001b[39m\u001b[38;5;124;03m\"\"\"\u001b[39;00m\n\u001b[1;32m    527\u001b[0m \u001b[38;5;124;03mFactorize the embeddings into the individual manifolds.\u001b[39;00m\n\u001b[1;32m    528\u001b[0m \n\u001b[0;32m   (...)\u001b[0m\n\u001b[1;32m    534\u001b[0m \u001b[38;5;124;03m    (List[Tensor]) list of tensors representing the factorized embeddings in each manifold.\u001b[39;00m\n\u001b[1;32m    535\u001b[0m \u001b[38;5;124;03m\"\"\"\u001b[39;00m\n\u001b[1;32m    536\u001b[0m dims_dict \u001b[38;5;241m=\u001b[39m \u001b[38;5;28mself\u001b[39m\u001b[38;5;241m.\u001b[39mman2intrinsic \u001b[38;5;28;01mif\u001b[39;00m intrinsic \u001b[38;5;28;01melse\u001b[39;00m \u001b[38;5;28mself\u001b[39m\u001b[38;5;241m.\u001b[39mman2dim\n\u001b[0;32m--> 537\u001b[0m \u001b[38;5;28;01mreturn\u001b[39;00m [\u001b[43mX\u001b[49m\u001b[43m[\u001b[49m\u001b[38;5;241;43m.\u001b[39;49m\u001b[38;5;241;43m.\u001b[39;49m\u001b[38;5;241;43m.\u001b[39;49m\u001b[43m,\u001b[49m\u001b[43m \u001b[49m\u001b[43mdims_dict\u001b[49m\u001b[43m[\u001b[49m\u001b[43mi\u001b[49m\u001b[43m]\u001b[49m\u001b[43m]\u001b[49m \u001b[38;5;28;01mfor\u001b[39;00m i \u001b[38;5;129;01min\u001b[39;00m \u001b[38;5;28mrange\u001b[39m(\u001b[38;5;28mlen\u001b[39m(\u001b[38;5;28mself\u001b[39m\u001b[38;5;241m.\u001b[39mP))]\n",
      "\u001b[0;31mIndexError\u001b[0m: index 6 is out of bounds for dimension 0 with size 6"
     ]
    }
   ],
   "source": [
    "from manify.manifolds import ProductManifold\n",
    "\n",
    "signature = [(-1, 2), (0, 2), (1, 2)]\n",
    "\n",
    "pm = ProductManifold(signature=signature)\n",
    "\n",
    "# get some vectors via gaussian mixture\n",
    "cov = torch.eye(pm.dim) / pm.dim / 100\n",
    "means = torch.vstack([pm.mu0] * 10)\n",
    "covs = torch.stack([cov] * 10)\n",
    "sigma_factorized = pm.factorize(covs)\n",
    "torch.random.manual_seed(42)\n",
    "X1, _ = M.sample(z_mean=means, sigma_factorized=sigma_factorized)\n",
    "X2, _ = M.sample(z_mean=means[:5], sigma=sigma_factorized[:5])"
   ]
  },
  {
   "cell_type": "code",
   "execution_count": null,
   "id": "77988096",
   "metadata": {},
   "outputs": [
    {
     "data": {
      "text/plain": [
       "[tensor([0.0017, 0.0000, 0.0000]),\n",
       " tensor([0., 0.]),\n",
       " tensor([0.0000, 0.0000, 0.0017])]"
      ]
     },
     "execution_count": 79,
     "metadata": {},
     "output_type": "execute_result"
    }
   ],
   "source": [
    "pm.factorize(covs.flatten())"
   ]
  },
  {
   "cell_type": "code",
   "execution_count": null,
   "id": "fff63623",
   "metadata": {},
   "outputs": [
    {
     "data": {
      "text/plain": [
       "tensor([[0.0017, 0.0000, 0.0000, 0.0000, 0.0000, 0.0000, 0.0000, 0.0017, 0.0000,\n",
       "         0.0000, 0.0000, 0.0000, 0.0000, 0.0000, 0.0017, 0.0000, 0.0000, 0.0000,\n",
       "         0.0000, 0.0000, 0.0000, 0.0017, 0.0000, 0.0000, 0.0000, 0.0000, 0.0000,\n",
       "         0.0000, 0.0017, 0.0000, 0.0000, 0.0000, 0.0000, 0.0000, 0.0000, 0.0017],\n",
       "        [0.0017, 0.0000, 0.0000, 0.0000, 0.0000, 0.0000, 0.0000, 0.0017, 0.0000,\n",
       "         0.0000, 0.0000, 0.0000, 0.0000, 0.0000, 0.0017, 0.0000, 0.0000, 0.0000,\n",
       "         0.0000, 0.0000, 0.0000, 0.0017, 0.0000, 0.0000, 0.0000, 0.0000, 0.0000,\n",
       "         0.0000, 0.0017, 0.0000, 0.0000, 0.0000, 0.0000, 0.0000, 0.0000, 0.0017],\n",
       "        [0.0017, 0.0000, 0.0000, 0.0000, 0.0000, 0.0000, 0.0000, 0.0017, 0.0000,\n",
       "         0.0000, 0.0000, 0.0000, 0.0000, 0.0000, 0.0017, 0.0000, 0.0000, 0.0000,\n",
       "         0.0000, 0.0000, 0.0000, 0.0017, 0.0000, 0.0000, 0.0000, 0.0000, 0.0000,\n",
       "         0.0000, 0.0017, 0.0000, 0.0000, 0.0000, 0.0000, 0.0000, 0.0000, 0.0017],\n",
       "        [0.0017, 0.0000, 0.0000, 0.0000, 0.0000, 0.0000, 0.0000, 0.0017, 0.0000,\n",
       "         0.0000, 0.0000, 0.0000, 0.0000, 0.0000, 0.0017, 0.0000, 0.0000, 0.0000,\n",
       "         0.0000, 0.0000, 0.0000, 0.0017, 0.0000, 0.0000, 0.0000, 0.0000, 0.0000,\n",
       "         0.0000, 0.0017, 0.0000, 0.0000, 0.0000, 0.0000, 0.0000, 0.0000, 0.0017],\n",
       "        [0.0017, 0.0000, 0.0000, 0.0000, 0.0000, 0.0000, 0.0000, 0.0017, 0.0000,\n",
       "         0.0000, 0.0000, 0.0000, 0.0000, 0.0000, 0.0017, 0.0000, 0.0000, 0.0000,\n",
       "         0.0000, 0.0000, 0.0000, 0.0017, 0.0000, 0.0000, 0.0000, 0.0000, 0.0000,\n",
       "         0.0000, 0.0017, 0.0000, 0.0000, 0.0000, 0.0000, 0.0000, 0.0000, 0.0017],\n",
       "        [0.0017, 0.0000, 0.0000, 0.0000, 0.0000, 0.0000, 0.0000, 0.0017, 0.0000,\n",
       "         0.0000, 0.0000, 0.0000, 0.0000, 0.0000, 0.0017, 0.0000, 0.0000, 0.0000,\n",
       "         0.0000, 0.0000, 0.0000, 0.0017, 0.0000, 0.0000, 0.0000, 0.0000, 0.0000,\n",
       "         0.0000, 0.0017, 0.0000, 0.0000, 0.0000, 0.0000, 0.0000, 0.0000, 0.0017],\n",
       "        [0.0017, 0.0000, 0.0000, 0.0000, 0.0000, 0.0000, 0.0000, 0.0017, 0.0000,\n",
       "         0.0000, 0.0000, 0.0000, 0.0000, 0.0000, 0.0017, 0.0000, 0.0000, 0.0000,\n",
       "         0.0000, 0.0000, 0.0000, 0.0017, 0.0000, 0.0000, 0.0000, 0.0000, 0.0000,\n",
       "         0.0000, 0.0017, 0.0000, 0.0000, 0.0000, 0.0000, 0.0000, 0.0000, 0.0017],\n",
       "        [0.0017, 0.0000, 0.0000, 0.0000, 0.0000, 0.0000, 0.0000, 0.0017, 0.0000,\n",
       "         0.0000, 0.0000, 0.0000, 0.0000, 0.0000, 0.0017, 0.0000, 0.0000, 0.0000,\n",
       "         0.0000, 0.0000, 0.0000, 0.0017, 0.0000, 0.0000, 0.0000, 0.0000, 0.0000,\n",
       "         0.0000, 0.0017, 0.0000, 0.0000, 0.0000, 0.0000, 0.0000, 0.0000, 0.0017],\n",
       "        [0.0017, 0.0000, 0.0000, 0.0000, 0.0000, 0.0000, 0.0000, 0.0017, 0.0000,\n",
       "         0.0000, 0.0000, 0.0000, 0.0000, 0.0000, 0.0017, 0.0000, 0.0000, 0.0000,\n",
       "         0.0000, 0.0000, 0.0000, 0.0017, 0.0000, 0.0000, 0.0000, 0.0000, 0.0000,\n",
       "         0.0000, 0.0017, 0.0000, 0.0000, 0.0000, 0.0000, 0.0000, 0.0000, 0.0017],\n",
       "        [0.0017, 0.0000, 0.0000, 0.0000, 0.0000, 0.0000, 0.0000, 0.0017, 0.0000,\n",
       "         0.0000, 0.0000, 0.0000, 0.0000, 0.0000, 0.0017, 0.0000, 0.0000, 0.0000,\n",
       "         0.0000, 0.0000, 0.0000, 0.0017, 0.0000, 0.0000, 0.0000, 0.0000, 0.0000,\n",
       "         0.0000, 0.0017, 0.0000, 0.0000, 0.0000, 0.0000, 0.0000, 0.0000, 0.0017]])"
      ]
     },
     "execution_count": 81,
     "metadata": {},
     "output_type": "execute_result"
    }
   ],
   "source": [
    "covs.reshape(10, -1)"
   ]
  },
  {
   "cell_type": "code",
   "execution_count": null,
   "id": "379de925",
   "metadata": {},
   "outputs": [
    {
     "name": "stdout",
     "output_type": "stream",
     "text": [
      "False\n",
      "True\n",
      "False\n",
      "False\n",
      "False\n",
      "True\n"
     ]
    }
   ],
   "source": [
    "for signature in [[(-1, 8)], [(0, 8)], [(1, 8)], [(-1, 8), (1, 8)], [(-1, 8), (0, 8), (1, 8)], [(0, 8), (0, 8)]]:\n",
    "    pm = ProductManifold(signature=signature)\n",
    "\n",
    "    # get some vectors via gaussian mixture\n",
    "    covs = [torch.stack([torch.eye(M.dim) / M.dim / 100] * 10) for M in pm.P]\n",
    "    means = torch.vstack([pm.mu0] * 10)\n",
    "    torch.random.manual_seed(42)\n",
    "    X1, _ = pm.sample(z_mean=means, sigma_factorized=covs)\n",
    "    X2, _ = pm.sample(z_mean=means[:5], sigma_factorized=[cov[:5] for cov in covs])\n",
    "\n",
    "    # Do attributes work correctly?\n",
    "    for M in pm.P:\n",
    "        curv = M.curvature\n",
    "        if curv < 0:\n",
    "            assert M.type == \"H\" and isinstance(M.manifold.base, geoopt.Lorentz)\n",
    "        elif curv == 0:\n",
    "            assert M.type == \"E\" and isinstance(M.manifold.base, geoopt.Euclidean)\n",
    "        else:\n",
    "            assert M.type == \"S\" and isinstance(M.manifold.base, geoopt.Sphere)\n",
    "\n",
    "    # _shared_tests(pm, X1, X2, is_euclidean=all(M.curvature == 0 for M in pm.P))\n",
    "    print(all(M.curvature == 0 for M in pm.P))"
   ]
  },
  {
   "cell_type": "code",
   "execution_count": null,
   "id": "86cae471",
   "metadata": {},
   "outputs": [],
   "source": [
    "pm = ProductManifold(signature=[(0, 8), (0, 8), (0, 8)])\n",
    "\n",
    "X, y = pm.gaussian_mixture()\n",
    "pm_stereo, X_stereo = pm.stereographic(X)\n",
    "_, X2 = pm_stereo.inverse_stereographic(X_stereo)"
   ]
  },
  {
   "cell_type": "code",
   "execution_count": null,
   "id": "9aebe177",
   "metadata": {},
   "outputs": [
    {
     "name": "stdout",
     "output_type": "stream",
     "text": [
      "Testing basic classifier functionality\n",
      "  Testing class: KappaGCN \n"
     ]
    },
    {
     "ename": "ValueError",
     "evalue": "ProductManifold must be stereographic for KappaGCN to work. Please use pm.stereographic() to convert.",
     "output_type": "error",
     "traceback": [
      "\u001b[0;31m---------------------------------------------------------------------------\u001b[0m",
      "\u001b[0;31mValueError\u001b[0m                                Traceback (most recent call last)",
      "Cell \u001b[0;32mIn[1], line 26\u001b[0m\n\u001b[1;32m     18\u001b[0m \u001b[38;5;28;01mfor\u001b[39;00m model_class, args \u001b[38;5;129;01min\u001b[39;00m [\n\u001b[1;32m     19\u001b[0m     \u001b[38;5;66;03m# ProductSpaceDT,\u001b[39;00m\n\u001b[1;32m     20\u001b[0m     \u001b[38;5;66;03m# ProductSpaceRF,\u001b[39;00m\n\u001b[0;32m   (...)\u001b[0m\n\u001b[1;32m     23\u001b[0m     (ProductSpaceSVM, {}),\n\u001b[1;32m     24\u001b[0m ]:\n\u001b[1;32m     25\u001b[0m     \u001b[38;5;28mprint\u001b[39m(\u001b[38;5;124mf\u001b[39m\u001b[38;5;124m\"\u001b[39m\u001b[38;5;124m  Testing class: \u001b[39m\u001b[38;5;132;01m{\u001b[39;00mmodel_class\u001b[38;5;241m.\u001b[39m\u001b[38;5;18m__name__\u001b[39m\u001b[38;5;132;01m}\u001b[39;00m\u001b[38;5;124m \u001b[39m\u001b[38;5;124m\"\u001b[39m)\n\u001b[0;32m---> 26\u001b[0m     model \u001b[38;5;241m=\u001b[39m \u001b[43mmodel_class\u001b[49m\u001b[43m(\u001b[49m\u001b[43mpm\u001b[49m\u001b[38;5;241;43m=\u001b[39;49m\u001b[43mpm\u001b[49m\u001b[43m,\u001b[49m\u001b[43m \u001b[49m\u001b[38;5;241;43m*\u001b[39;49m\u001b[38;5;241;43m*\u001b[39;49m\u001b[43margs\u001b[49m\u001b[43m)\u001b[49m\n\u001b[1;32m     27\u001b[0m     model\u001b[38;5;241m.\u001b[39mfit(X_train, y_train)\n\u001b[1;32m     29\u001b[0m     \u001b[38;5;66;03m# Predictions\u001b[39;00m\n",
      "File \u001b[0;32m~/manify/manify/predictors/kappa_gcn.py:184\u001b[0m, in \u001b[0;36mKappaGCN.__init__\u001b[0;34m(self, pm, output_dim, hidden_dims, nonlinearity, task)\u001b[0m\n\u001b[1;32m    182\u001b[0m \u001b[38;5;66;03m# Ensure pm is stereographic\u001b[39;00m\n\u001b[1;32m    183\u001b[0m \u001b[38;5;28;01mif\u001b[39;00m \u001b[38;5;129;01mnot\u001b[39;00m pm\u001b[38;5;241m.\u001b[39mis_stereographic:\n\u001b[0;32m--> 184\u001b[0m     \u001b[38;5;28;01mraise\u001b[39;00m \u001b[38;5;167;01mValueError\u001b[39;00m(\n\u001b[1;32m    185\u001b[0m         \u001b[38;5;124m\"\u001b[39m\u001b[38;5;124mProductManifold must be stereographic for KappaGCN to work. Please use pm.stereographic() to convert.\u001b[39m\u001b[38;5;124m\"\u001b[39m\n\u001b[1;32m    186\u001b[0m     )\n\u001b[1;32m    188\u001b[0m \u001b[38;5;66;03m# Hidden layers\u001b[39;00m\n\u001b[1;32m    189\u001b[0m \u001b[38;5;28;01mif\u001b[39;00m hidden_dims \u001b[38;5;129;01mis\u001b[39;00m \u001b[38;5;28;01mNone\u001b[39;00m:\n",
      "\u001b[0;31mValueError\u001b[0m: ProductManifold must be stereographic for KappaGCN to work. Please use pm.stereographic() to convert."
     ]
    }
   ],
   "source": [
    "import torch\n",
    "\n",
    "from sklearn.model_selection import train_test_split\n",
    "\n",
    "from manify.predictors.decision_tree import ProductSpaceDT, ProductSpaceRF\n",
    "from manify.predictors.kappa_gcn import KappaGCN\n",
    "from manify.predictors.perceptron import ProductSpacePerceptron\n",
    "from manify.predictors.svm import ProductSpaceSVM\n",
    "from manify.manifolds import ProductManifold\n",
    "\n",
    "\n",
    "print(\"Testing basic classifier functionality\")\n",
    "pm = ProductManifold(signature=[(-1, 2), (0, 2), (1, 2)])\n",
    "X, y = pm.gaussian_mixture(num_points=100, num_classes=2, seed=42)\n",
    "X_train, X_test, y_train, y_test = train_test_split(X, y, test_size=0.2, random_state=42)\n",
    "\n",
    "# Init models\n",
    "for model_class, args in [\n",
    "    # ProductSpaceDT,\n",
    "    # ProductSpaceRF,\n",
    "    (KappaGCN, {\"output_dim\": 2, \"hidden_dims\": [pm.dim, pm.dim]}),\n",
    "    (ProductSpacePerceptron, {}),\n",
    "    (ProductSpaceSVM, {}),\n",
    "]:\n",
    "    print(f\"  Testing class: {model_class.__name__} \")\n",
    "    model = model_class(pm=pm, **args)\n",
    "    model.fit(X_train, y_train)\n",
    "\n",
    "    # Predictions\n",
    "    preds = model.predict(X_test)\n",
    "    assert preds.shape[0] == X_test.shape[0], \"Predictions should match the number of test samples\"\n",
    "    assert preds.ndim == 1, \"Predictions should be a 1D array\"\n",
    "\n",
    "    # Probabilities\n",
    "    probs = model.predict_proba(X_test)\n",
    "    assert probs.shape == (X_test.shape[0], 2)\n",
    "    assert probs.ndim == 2, \"Probabilities should be a 2D array\"\n",
    "    assert torch.argmax(probs, dim=1) == preds\n",
    "\n",
    "    # Accuracies\n",
    "    accuracy = model.score(X_test, y_test)\n",
    "    assert torch.isclose(accuracy, (preds == y_test).float().mean(), atol=1e-5), \"Accuracy calculation mismatch\"\n",
    "    assert accuracy >= 0.5, f\"Model {model_class.__name__} did not achieve sufficient accuracy\""
   ]
  },
  {
   "cell_type": "code",
   "execution_count": null,
   "id": "ba416b24",
   "metadata": {},
   "outputs": [
    {
     "name": "stdout",
     "output_type": "stream",
     "text": [
      "Testing basic classifier functionality\n"
     ]
    },
    {
     "ename": "NameError",
     "evalue": "name 'ProductManifold' is not defined",
     "output_type": "error",
     "traceback": [
      "\u001b[0;31m---------------------------------------------------------------------------\u001b[0m",
      "\u001b[0;31mNameError\u001b[0m                                 Traceback (most recent call last)",
      "Cell \u001b[0;32mIn[2], line 4\u001b[0m\n\u001b[1;32m      1\u001b[0m \u001b[38;5;28;01mfrom\u001b[39;00m\u001b[38;5;250m \u001b[39m\u001b[38;5;21;01mmanify\u001b[39;00m\u001b[38;5;21;01m.\u001b[39;00m\u001b[38;5;21;01mpredictors\u001b[39;00m\u001b[38;5;21;01m.\u001b[39;00m\u001b[38;5;21;01mkappa_gcn\u001b[39;00m\u001b[38;5;250m \u001b[39m\u001b[38;5;28;01mimport\u001b[39;00m get_A_hat\n\u001b[1;32m      3\u001b[0m \u001b[38;5;28mprint\u001b[39m(\u001b[38;5;124m\"\u001b[39m\u001b[38;5;124mTesting basic classifier functionality\u001b[39m\u001b[38;5;124m\"\u001b[39m)\n\u001b[0;32m----> 4\u001b[0m pm \u001b[38;5;241m=\u001b[39m \u001b[43mProductManifold\u001b[49m(signature\u001b[38;5;241m=\u001b[39m[(\u001b[38;5;241m-\u001b[39m\u001b[38;5;241m1\u001b[39m, \u001b[38;5;241m2\u001b[39m), (\u001b[38;5;241m0\u001b[39m, \u001b[38;5;241m2\u001b[39m), (\u001b[38;5;241m1\u001b[39m, \u001b[38;5;241m2\u001b[39m)])\n\u001b[1;32m      5\u001b[0m X, y \u001b[38;5;241m=\u001b[39m pm\u001b[38;5;241m.\u001b[39mgaussian_mixture(num_points\u001b[38;5;241m=\u001b[39m\u001b[38;5;241m100\u001b[39m, num_classes\u001b[38;5;241m=\u001b[39m\u001b[38;5;241m2\u001b[39m, seed\u001b[38;5;241m=\u001b[39m\u001b[38;5;241m42\u001b[39m)\n\u001b[1;32m      6\u001b[0m X_train, X_test, y_train, y_test \u001b[38;5;241m=\u001b[39m train_test_split(X, y, test_size\u001b[38;5;241m=\u001b[39m\u001b[38;5;241m0.2\u001b[39m, random_state\u001b[38;5;241m=\u001b[39m\u001b[38;5;241m42\u001b[39m, stratify\u001b[38;5;241m=\u001b[39my)\n",
      "\u001b[0;31mNameError\u001b[0m: name 'ProductManifold' is not defined"
     ]
    }
   ],
   "source": [
    "from manify.predictors.kappa_gcn import get_A_hat\n",
    "\n",
    "print(\"Testing basic classifier functionality\")\n",
    "pm = ProductManifold(signature=[(-1, 2), (0, 2), (1, 2)])\n",
    "X, y = pm.gaussian_mixture(num_points=100, num_classes=2, seed=42)\n",
    "X_train, X_test, y_train, y_test = train_test_split(X, y, test_size=0.2, random_state=42, stratify=y)\n",
    "\n",
    "pm_stereo, X_train_stereo, X_test_stereo = pm.stereographic(X_train, X_test)\n",
    "kappa_gcn = KappaGCN(pm=pm_stereo, output_dim=2, hidden_dims=[pm.dim, pm.dim])\n",
    "\n",
    "\n",
    "X_train_kernel = torch.exp(-pm.pdist2(X_train))\n",
    "X_test_kernel = torch.exp(-pm.pdist2(X_test))\n",
    "A_train = get_A_hat(X_train_kernel)\n",
    "A_test = get_A_hat(X_test_kernel)\n",
    "kappa_gcn.fit(X_train, y_train, A=A_train, use_tqdm=False, epochs=100)"
   ]
  },
  {
   "cell_type": "code",
   "execution_count": null,
   "id": "23652091",
   "metadata": {},
   "outputs": [],
   "source": [
    "# Test decision tree\n",
    "import manify\n",
    "from sklearn.model_selection import train_test_split\n",
    "\n",
    "pm = manify.manifolds.ProductManifold(signature=[(-1, 2), (0, 2), (1, 2)])\n",
    "\n",
    "X, y = pm.gaussian_mixture(num_points=100, num_classes=2, seed=42)\n",
    "X_train, X_test, y_train, y_test = train_test_split(X, y, test_size=0.2, random_state=42, stratify=y)\n",
    "\n",
    "dt = manify.predictors.decision_tree.ProductSpaceDT(pm=pm, max_depth=3)\n",
    "dt.fit(X_train, y_train)"
   ]
  },
  {
   "cell_type": "code",
   "execution_count": null,
   "id": "28506b40",
   "metadata": {},
   "outputs": [
    {
     "data": {
      "text/plain": [
       "tensor([ True,  True,  True,  True, False,  True, False,  True,  True,  True,\n",
       "         True,  True, False,  True,  True,  True,  True,  True,  True,  True])"
      ]
     },
     "execution_count": 2,
     "metadata": {},
     "output_type": "execute_result"
    }
   ],
   "source": [
    "import manify.predictors\n",
    "\n",
    "\n",
    "rf = manify.predictors.decision_tree.ProductSpaceRF(pm=pm, max_depth=3, n_estimators=10)\n",
    "rf.fit(X_train, y_train)\n",
    "\n",
    "(rf.predict(X_test) == y_test)"
   ]
  },
  {
   "cell_type": "code",
   "execution_count": null,
   "id": "dc45504e",
   "metadata": {},
   "outputs": [
    {
     "data": {
      "text/plain": [
       "tensor([1, 1, 1, 1, 1, 1, 0, 1, 0, 0, 1, 1, 1, 1, 0, 1, 1, 1, 1, 1])"
      ]
     },
     "execution_count": 3,
     "metadata": {},
     "output_type": "execute_result"
    }
   ],
   "source": [
    "perceptron = manify.predictors.perceptron.ProductSpacePerceptron(pm=pm)\n",
    "\n",
    "perceptron.fit(X_train, y_train)\n",
    "perceptron.predict(X_test)"
   ]
  },
  {
   "cell_type": "code",
   "execution_count": null,
   "id": "adf7a26f",
   "metadata": {},
   "outputs": [
    {
     "ename": "SyntaxError",
     "evalue": "invalid syntax. Perhaps you forgot a comma? (1149281247.py, line 1)",
     "output_type": "error",
     "traceback": [
      "\u001b[0;36m  Cell \u001b[0;32mIn[4], line 1\u001b[0;36m\u001b[0m\n\u001b[0;31m    perceptron.alpha[]\u001b[0m\n\u001b[0m    ^\u001b[0m\n\u001b[0;31mSyntaxError\u001b[0m\u001b[0;31m:\u001b[0m invalid syntax. Perhaps you forgot a comma?\n"
     ]
    }
   ],
   "source": [
    "perceptron.alpha[]"
   ]
  },
  {
   "cell_type": "code",
   "execution_count": null,
   "id": "35cb5bad",
   "metadata": {},
   "outputs": [
    {
     "data": {
      "application/vnd.jupyter.widget-view+json": {
       "model_id": "ec1825ee239a40dfafde2072bee60eb7",
       "version_major": 2,
       "version_minor": 0
      },
      "text/plain": [
       "README.md:   0%|          | 0.00/596 [00:00<?, ?B/s]"
      ]
     },
     "metadata": {},
     "output_type": "display_data"
    },
    {
     "data": {
      "application/vnd.jupyter.widget-view+json": {
       "model_id": "37039053ef7d4bd2998b345a53f94981",
       "version_major": 2,
       "version_minor": 0
      },
      "text/plain": [
       "train-00000-of-00001.parquet:   0%|          | 0.00/2.72M [00:00<?, ?B/s]"
      ]
     },
     "metadata": {},
     "output_type": "display_data"
    },
    {
     "data": {
      "application/vnd.jupyter.widget-view+json": {
       "model_id": "d26d66b8448e4f419bcb27cced30057e",
       "version_major": 2,
       "version_minor": 0
      },
      "text/plain": [
       "Generating train split:   0%|          | 0/1 [00:00<?, ? examples/s]"
      ]
     },
     "metadata": {},
     "output_type": "display_data"
    }
   ],
   "source": [
    "import manify\n",
    "\n",
    "a, b, c, d = manify.utils.dataloaders.load_hf(\"cora\")"
   ]
  },
  {
   "cell_type": "code",
   "execution_count": null,
   "id": "e4c9f312",
   "metadata": {},
   "outputs": [
    {
     "name": "stdout",
     "output_type": "stream",
     "text": [
      "features None\n",
      "dists torch.Size([2485, 2485])\n",
      "labels torch.Size([2485, 2485])\n",
      "adjacency torch.Size([2485])\n"
     ]
    }
   ],
   "source": [
    "for name, x in zip([\"features\", \"dists\", \"labels\", \"adjacency\"], [a, b, c, d]):\n",
    "    try:\n",
    "        print(name, x.shape)\n",
    "    except Exception:\n",
    "        print(name, \"None\")"
   ]
  },
  {
   "cell_type": "code",
   "execution_count": null,
   "id": "4f754422",
   "metadata": {},
   "outputs": [
    {
     "data": {
      "application/vnd.jupyter.widget-view+json": {
       "model_id": "cf517755bbb14bfdb5ce795950d3b4c0",
       "version_major": 2,
       "version_minor": 0
      },
      "text/plain": [
       "  0%|          | 0/100 [00:00<?, ?it/s]"
      ]
     },
     "metadata": {},
     "output_type": "display_data"
    },
    {
     "data": {
      "text/plain": [
       "{'train_train': [407.38525390625,\n",
       "  406.9979248046875,\n",
       "  406.6103515625,\n",
       "  406.222412109375,\n",
       "  405.83416748046875,\n",
       "  405.4454650878906,\n",
       "  405.05657958984375,\n",
       "  404.6674499511719,\n",
       "  404.28057861328125,\n",
       "  403.893310546875,\n",
       "  403.50567626953125,\n",
       "  399.615966796875,\n",
       "  395.69378662109375,\n",
       "  391.74444580078125,\n",
       "  387.99896240234375,\n",
       "  384.5290832519531,\n",
       "  381.21240234375,\n",
       "  377.8980407714844,\n",
       "  374.60894775390625,\n",
       "  371.4312438964844,\n",
       "  368.331298828125,\n",
       "  365.3991394042969,\n",
       "  362.5733947753906,\n",
       "  359.8371887207031,\n",
       "  357.2330322265625,\n",
       "  354.6155090332031,\n",
       "  351.9755859375,\n",
       "  349.33917236328125,\n",
       "  346.822021484375,\n",
       "  344.3118896484375,\n",
       "  341.82952880859375,\n",
       "  339.3853759765625,\n",
       "  336.925537109375,\n",
       "  334.455810546875,\n",
       "  331.9468994140625,\n",
       "  329.4891662597656,\n",
       "  327.0758972167969,\n",
       "  324.71466064453125,\n",
       "  322.3912353515625,\n",
       "  320.1859436035156,\n",
       "  317.9987487792969,\n",
       "  315.8346862792969,\n",
       "  313.648681640625,\n",
       "  311.5186767578125,\n",
       "  309.3787536621094,\n",
       "  307.2815246582031,\n",
       "  305.29876708984375,\n",
       "  303.319091796875,\n",
       "  301.3406982421875,\n",
       "  299.4322814941406,\n",
       "  297.60626220703125,\n",
       "  295.8001708984375,\n",
       "  293.9999084472656,\n",
       "  292.1712646484375,\n",
       "  290.322509765625,\n",
       "  288.53533935546875,\n",
       "  286.7626647949219,\n",
       "  285.0417175292969,\n",
       "  283.3115234375,\n",
       "  281.5830078125,\n",
       "  279.8786315917969,\n",
       "  278.1510925292969,\n",
       "  276.4441833496094,\n",
       "  274.73138427734375,\n",
       "  273.07421875,\n",
       "  271.4198303222656,\n",
       "  269.7965087890625,\n",
       "  268.1746826171875,\n",
       "  266.581787109375,\n",
       "  265.041259765625,\n",
       "  263.49505615234375,\n",
       "  261.99810791015625,\n",
       "  260.592529296875,\n",
       "  259.21380615234375,\n",
       "  257.8529052734375,\n",
       "  256.4649353027344,\n",
       "  255.08665466308594,\n",
       "  253.71878051757812,\n",
       "  252.32864379882812,\n",
       "  250.95248413085938,\n",
       "  249.59439086914062,\n",
       "  248.2535400390625,\n",
       "  246.91815185546875,\n",
       "  245.5960235595703,\n",
       "  244.32107543945312,\n",
       "  243.0702667236328,\n",
       "  241.84066772460938,\n",
       "  240.5913543701172,\n",
       "  239.3257293701172,\n",
       "  238.10328674316406,\n",
       "  236.8737030029297,\n",
       "  235.6004638671875,\n",
       "  234.31964111328125,\n",
       "  233.096435546875,\n",
       "  231.86961364746094,\n",
       "  230.6658935546875,\n",
       "  229.5022430419922,\n",
       "  228.34683227539062,\n",
       "  227.1968231201172,\n",
       "  226.04092407226562],\n",
       " 'test_test': [],\n",
       " 'train_test': [],\n",
       " 'total': [407.38525390625,\n",
       "  406.9979248046875,\n",
       "  406.6103515625,\n",
       "  406.222412109375,\n",
       "  405.83416748046875,\n",
       "  405.4454650878906,\n",
       "  405.05657958984375,\n",
       "  404.6674499511719,\n",
       "  404.28057861328125,\n",
       "  403.893310546875,\n",
       "  403.50567626953125,\n",
       "  399.615966796875,\n",
       "  395.69378662109375,\n",
       "  391.74444580078125,\n",
       "  387.99896240234375,\n",
       "  384.5290832519531,\n",
       "  381.21240234375,\n",
       "  377.8980407714844,\n",
       "  374.60894775390625,\n",
       "  371.4312438964844,\n",
       "  368.331298828125,\n",
       "  365.3991394042969,\n",
       "  362.5733947753906,\n",
       "  359.8371887207031,\n",
       "  357.2330322265625,\n",
       "  354.6155090332031,\n",
       "  351.9755859375,\n",
       "  349.33917236328125,\n",
       "  346.822021484375,\n",
       "  344.3118896484375,\n",
       "  341.82952880859375,\n",
       "  339.3853759765625,\n",
       "  336.925537109375,\n",
       "  334.455810546875,\n",
       "  331.9468994140625,\n",
       "  329.4891662597656,\n",
       "  327.0758972167969,\n",
       "  324.71466064453125,\n",
       "  322.3912353515625,\n",
       "  320.1859436035156,\n",
       "  317.9987487792969,\n",
       "  315.8346862792969,\n",
       "  313.648681640625,\n",
       "  311.5186767578125,\n",
       "  309.3787536621094,\n",
       "  307.2815246582031,\n",
       "  305.29876708984375,\n",
       "  303.319091796875,\n",
       "  301.3406982421875,\n",
       "  299.4322814941406,\n",
       "  297.60626220703125,\n",
       "  295.8001708984375,\n",
       "  293.9999084472656,\n",
       "  292.1712646484375,\n",
       "  290.322509765625,\n",
       "  288.53533935546875,\n",
       "  286.7626647949219,\n",
       "  285.0417175292969,\n",
       "  283.3115234375,\n",
       "  281.5830078125,\n",
       "  279.8786315917969,\n",
       "  278.1510925292969,\n",
       "  276.4441833496094,\n",
       "  274.73138427734375,\n",
       "  273.07421875,\n",
       "  271.4198303222656,\n",
       "  269.7965087890625,\n",
       "  268.1746826171875,\n",
       "  266.581787109375,\n",
       "  265.041259765625,\n",
       "  263.49505615234375,\n",
       "  261.99810791015625,\n",
       "  260.592529296875,\n",
       "  259.21380615234375,\n",
       "  257.8529052734375,\n",
       "  256.4649353027344,\n",
       "  255.08665466308594,\n",
       "  253.71878051757812,\n",
       "  252.32864379882812,\n",
       "  250.95248413085938,\n",
       "  249.59439086914062,\n",
       "  248.2535400390625,\n",
       "  246.91815185546875,\n",
       "  245.5960235595703,\n",
       "  244.32107543945312,\n",
       "  243.0702667236328,\n",
       "  241.84066772460938,\n",
       "  240.5913543701172,\n",
       "  239.3257293701172,\n",
       "  238.10328674316406,\n",
       "  236.8737030029297,\n",
       "  235.6004638671875,\n",
       "  234.31964111328125,\n",
       "  233.096435546875,\n",
       "  231.86961364746094,\n",
       "  230.6658935546875,\n",
       "  229.5022430419922,\n",
       "  228.34683227539062,\n",
       "  227.1968231201172,\n",
       "  226.04092407226562]}"
      ]
     },
     "execution_count": 2,
     "metadata": {},
     "output_type": "execute_result"
    }
   ],
   "source": [
    "import manify\n",
    "\n",
    "# Load karate club dataset\n",
    "_, dists, adj, _ = manify.utils.dataloaders.load_hf(\"karate_club\")\n",
    "pm = manify.manifolds.ProductManifold(signature=[(-1, 2), (0, 2), (1, 2)])\n",
    "\n",
    "# Run without train_test_split\n",
    "X, losses = manify.embedders.coordinate_learning.train_coords(\n",
    "    pm=pm, dists=dists, burn_in_iterations=10, training_iterations=90\n",
    ")\n",
    "losses"
   ]
  },
  {
   "cell_type": "code",
   "execution_count": null,
   "id": "1b49c6c6",
   "metadata": {},
   "outputs": [
    {
     "data": {
      "application/vnd.jupyter.widget-view+json": {
       "model_id": "a61ffd27fd13481a9faa4e2b026ab8e1",
       "version_major": 2,
       "version_minor": 0
      },
      "text/plain": [
       "ambient_mlp:   0%|          | 0/10 [00:00<?, ?it/s]"
      ]
     },
     "metadata": {},
     "output_type": "display_data"
    },
    {
     "data": {
      "application/vnd.jupyter.widget-view+json": {
       "model_id": "3ec43cf9e553487f9f347284b47329d1",
       "version_major": 2,
       "version_minor": 0
      },
      "text/plain": [
       "  0%|          | 0/10 [00:00<?, ?it/s]"
      ]
     },
     "metadata": {},
     "output_type": "display_data"
    },
    {
     "data": {
      "application/vnd.jupyter.widget-view+json": {
       "model_id": "7a1376c0cc58401ab399b8c587d1e304",
       "version_major": 2,
       "version_minor": 0
      },
      "text/plain": [
       "tangent_gcn:   0%|          | 0/10 [00:00<?, ?it/s]"
      ]
     },
     "metadata": {},
     "output_type": "display_data"
    },
    {
     "data": {
      "application/vnd.jupyter.widget-view+json": {
       "model_id": "a678d09a8d80476cb933342000a9cdce",
       "version_major": 2,
       "version_minor": 0
      },
      "text/plain": [
       "kappa_gcn:   0%|          | 0/10 [00:00<?, ?it/s]"
      ]
     },
     "metadata": {},
     "output_type": "display_data"
    },
    {
     "data": {
      "application/vnd.jupyter.widget-view+json": {
       "model_id": "b9f23ba6045e4dafa011b84a1f195fbb",
       "version_major": 2,
       "version_minor": 0
      },
      "text/plain": [
       "kappa_mlr:   0%|          | 0/10 [00:00<?, ?it/s]"
      ]
     },
     "metadata": {},
     "output_type": "display_data"
    },
    {
     "data": {
      "application/vnd.jupyter.widget-view+json": {
       "model_id": "cfcbe90258b948709d13870ddb185924",
       "version_major": 2,
       "version_minor": 0
      },
      "text/plain": [
       "tangent_mlr:   0%|          | 0/10 [00:00<?, ?it/s]"
      ]
     },
     "metadata": {},
     "output_type": "display_data"
    },
    {
     "data": {
      "application/vnd.jupyter.widget-view+json": {
       "model_id": "d95459861fa34b58896709b3620e6814",
       "version_major": 2,
       "version_minor": 0
      },
      "text/plain": [
       "ambient_mlr:   0%|          | 0/10 [00:00<?, ?it/s]"
      ]
     },
     "metadata": {},
     "output_type": "display_data"
    }
   ],
   "source": [
    "pm = manify.manifolds.ProductManifold(signature=[(-1, 4), (-1, 2), (0, 2), (1, 2), (1, 4)])\n",
    "X, y = pm.gaussian_mixture(num_points=100)\n",
    "out = manify.utils.benchmarks.benchmark(X, y, pm, task=\"classification\", epochs=10)"
   ]
  },
  {
   "cell_type": "code",
   "execution_count": null,
   "id": "0eb1b3ea",
   "metadata": {},
   "outputs": [
    {
     "data": {
      "text/plain": [
       "dict_keys(['sklearn_dt_accuracy', 'sklearn_dt_f1-micro', 'sklearn_dt_f1-macro', 'sklearn_dt_time', 'sklearn_rf_accuracy', 'sklearn_rf_f1-micro', 'sklearn_rf_f1-macro', 'sklearn_rf_time', 'product_dt_accuracy', 'product_dt_f1-micro', 'product_dt_f1-macro', 'product_dt_time', 'product_rf_accuracy', 'product_rf_f1-micro', 'product_rf_f1-macro', 'product_rf_time', 'tangent_dt_accuracy', 'tangent_dt_f1-micro', 'tangent_dt_f1-macro', 'tangent_dt_time', 'tangent_rf_accuracy', 'tangent_rf_f1-micro', 'tangent_rf_f1-macro', 'tangent_rf_time', 'knn_accuracy', 'knn_f1-micro', 'knn_f1-macro', 'knn_time', 'ps_perceptron_accuracy', 'ps_perceptron_f1-micro', 'ps_perceptron_f1-macro', 'ps_perceptron_time', 'ambient_mlp_accuracy', 'ambient_mlp_f1-micro', 'ambient_mlp_f1-macro', 'ambient_mlp_time', 'ambient_gcn_accuracy', 'ambient_gcn_f1-micro', 'ambient_gcn_f1-macro', 'ambient_gcn_time', 'tangent_gcn_accuracy', 'tangent_gcn_f1-micro', 'tangent_gcn_f1-macro', 'tangent_gcn_time', 'kappa_gcn_accuracy', 'kappa_gcn_f1-micro', 'kappa_gcn_f1-macro', 'kappa_gcn_time', 'kappa_mlr_accuracy', 'kappa_mlr_f1-micro', 'kappa_mlr_f1-macro', 'kappa_mlr_time', 'tangent_mlr_accuracy', 'tangent_mlr_f1-micro', 'tangent_mlr_f1-macro', 'tangent_mlr_time', 'ambient_mlr_accuracy', 'ambient_mlr_f1-micro', 'ambient_mlr_f1-macro', 'ambient_mlr_time'])"
      ]
     },
     "execution_count": 5,
     "metadata": {},
     "output_type": "execute_result"
    }
   ],
   "source": [
    "out.keys()\n",
    "set"
   ]
  },
  {
   "cell_type": "code",
   "execution_count": null,
   "id": "ac008728",
   "metadata": {},
   "outputs": [
    {
     "data": {
      "text/plain": [
       "True"
      ]
     },
     "execution_count": 7,
     "metadata": {},
     "output_type": "execute_result"
    }
   ],
   "source": [
    "target_keys = set(\n",
    "    [\n",
    "        \"sklearn_dt_accuracy\",\n",
    "        \"sklearn_dt_f1-micro\",\n",
    "        \"sklearn_dt_f1-macro\",\n",
    "        \"sklearn_dt_time\",\n",
    "        \"sklearn_rf_accuracy\",\n",
    "        \"sklearn_rf_f1-micro\",\n",
    "        \"sklearn_rf_f1-macro\",\n",
    "        \"sklearn_rf_time\",\n",
    "        \"product_dt_accuracy\",\n",
    "        \"product_dt_f1-micro\",\n",
    "        \"product_dt_f1-macro\",\n",
    "        \"product_dt_time\",\n",
    "        \"product_rf_accuracy\",\n",
    "        \"product_rf_f1-micro\",\n",
    "        \"product_rf_f1-macro\",\n",
    "        \"product_rf_time\",\n",
    "        \"tangent_dt_accuracy\",\n",
    "        \"tangent_dt_f1-micro\",\n",
    "        \"tangent_dt_f1-macro\",\n",
    "        \"tangent_dt_time\",\n",
    "        \"tangent_rf_accuracy\",\n",
    "        \"tangent_rf_f1-micro\",\n",
    "        \"tangent_rf_f1-macro\",\n",
    "        \"tangent_rf_time\",\n",
    "        \"knn_accuracy\",\n",
    "        \"knn_f1-micro\",\n",
    "        \"knn_f1-macro\",\n",
    "        \"knn_time\",\n",
    "        \"ps_perceptron_accuracy\",\n",
    "        \"ps_perceptron_f1-micro\",\n",
    "        \"ps_perceptron_f1-macro\",\n",
    "        \"ps_perceptron_time\",\n",
    "        \"ambient_mlp_accuracy\",\n",
    "        \"ambient_mlp_f1-micro\",\n",
    "        \"ambient_mlp_f1-macro\",\n",
    "        \"ambient_mlp_time\",\n",
    "        \"ambient_gcn_accuracy\",\n",
    "        \"ambient_gcn_f1-micro\",\n",
    "        \"ambient_gcn_f1-macro\",\n",
    "        \"ambient_gcn_time\",\n",
    "        \"tangent_gcn_accuracy\",\n",
    "        \"tangent_gcn_f1-micro\",\n",
    "        \"tangent_gcn_f1-macro\",\n",
    "        \"tangent_gcn_time\",\n",
    "        \"kappa_gcn_accuracy\",\n",
    "        \"kappa_gcn_f1-micro\",\n",
    "        \"kappa_gcn_f1-macro\",\n",
    "        \"kappa_gcn_time\",\n",
    "        \"kappa_mlr_accuracy\",\n",
    "        \"kappa_mlr_f1-micro\",\n",
    "        \"kappa_mlr_f1-macro\",\n",
    "        \"kappa_mlr_time\",\n",
    "        \"tangent_mlr_accuracy\",\n",
    "        \"tangent_mlr_f1-micro\",\n",
    "        \"tangent_mlr_f1-macro\",\n",
    "        \"tangent_mlr_time\",\n",
    "        \"ambient_mlr_accuracy\",\n",
    "        \"ambient_mlr_f1-micro\",\n",
    "        \"ambient_mlr_f1-macro\",\n",
    "        \"ambient_mlr_time\",\n",
    "    ]\n",
    ")\n",
    "\n",
    "target_keys == out.keys()"
   ]
  },
  {
   "cell_type": "code",
   "execution_count": null,
   "id": "0aef49a0",
   "metadata": {},
   "outputs": [
    {
     "ename": "AssertionError",
     "evalue": "Sampled deltas should be close to vectorized deltas.",
     "output_type": "error",
     "traceback": [
      "\u001b[0;31m---------------------------------------------------------------------------\u001b[0m",
      "\u001b[0;31mAssertionError\u001b[0m                            Traceback (most recent call last)",
      "Cell \u001b[0;32mIn[9], line 38\u001b[0m\n\u001b[1;32m     36\u001b[0m \u001b[38;5;28;01massert\u001b[39;00m (sampled_deltas \u001b[38;5;241m>\u001b[39m\u001b[38;5;241m=\u001b[39m \u001b[38;5;241m-\u001b[39m\u001b[38;5;241m2\u001b[39m)\u001b[38;5;241m.\u001b[39mall(), \u001b[38;5;124m\"\u001b[39m\u001b[38;5;124mSampled deltas should be in the range [-2, 1]\u001b[39m\u001b[38;5;124m\"\u001b[39m\n\u001b[1;32m     37\u001b[0m \u001b[38;5;28;01massert\u001b[39;00m sampled_deltas\u001b[38;5;241m.\u001b[39mshape \u001b[38;5;241m==\u001b[39m (\u001b[38;5;241m10\u001b[39m,), \u001b[38;5;124m\"\u001b[39m\u001b[38;5;124mThere should be 10 sampled deltas\u001b[39m\u001b[38;5;124m\"\u001b[39m\n\u001b[0;32m---> 38\u001b[0m \u001b[38;5;28;01massert\u001b[39;00m torch\u001b[38;5;241m.\u001b[39mallclose(\n\u001b[1;32m     39\u001b[0m     sampled_deltas, vectorized_deltas[indices], atol\u001b[38;5;241m=\u001b[39m\u001b[38;5;241m1e-5\u001b[39m\n\u001b[1;32m     40\u001b[0m ), \u001b[38;5;124m\"\u001b[39m\u001b[38;5;124mSampled deltas should be close to vectorized deltas.\u001b[39m\u001b[38;5;124m\"\u001b[39m\n",
      "\u001b[0;31mAssertionError\u001b[0m: Sampled deltas should be close to vectorized deltas."
     ]
    }
   ],
   "source": [
    "from manify.curvature_estimation.delta_hyperbolicity import (\n",
    "    iterative_delta_hyperbolicity,\n",
    "    sampled_delta_hyperbolicity,\n",
    "    delta_hyperbolicity,\n",
    ")\n",
    "from manify.manifolds import ProductManifold\n",
    "import torch\n",
    "\n",
    "\n",
    "torch.manual_seed(42)\n",
    "pm = ProductManifold(signature=[(-1, 2)])\n",
    "X, _ = pm.sample(z_mean=torch.stack([pm.mu0] * 10))\n",
    "dists = pm.pdist(X)\n",
    "dists_max = dists.max()\n",
    "\n",
    "# Iterative deltas\n",
    "iterative_deltas, gromov_products = iterative_delta_hyperbolicity(dists, relative=True)\n",
    "assert (gromov_products >= 0).all()\n",
    "assert (gromov_products <= dists_max).all()\n",
    "assert (iterative_deltas <= 1).all(), \"Deltas should be in the range [-2, 1]\"\n",
    "assert (iterative_deltas >= -2).all(), \"Deltas should be in the range [-2, 1]\"\n",
    "assert iterative_deltas.shape == (10, 10, 10)\n",
    "\n",
    "# Vectorized deltas\n",
    "vectorized_deltas = delta_hyperbolicity(dists, full=True, relative=True)\n",
    "assert (vectorized_deltas <= 1).all(), \"Deltas should be in the range [-2, 1]\"\n",
    "assert (vectorized_deltas >= -2).all(), \"Deltas should be in the range [-2, 1]\"\n",
    "assert vectorized_deltas.shape == (10, 10, 10)\n",
    "assert torch.allclose(\n",
    "    vectorized_deltas, iterative_deltas, atol=1e-5\n",
    "), \"Vectorized deltas should be close to iterative deltas.\"\n",
    "\n",
    "# Sampled deltas\n",
    "sampled_deltas, indices = sampled_delta_hyperbolicity(dists, n_samples=10, relative=True)\n",
    "assert (sampled_deltas <= 1).all(), \"Sampled deltas should be in the range [-2, 1]\"\n",
    "assert (sampled_deltas >= -2).all(), \"Sampled deltas should be in the range [-2, 1]\"\n",
    "assert sampled_deltas.shape == (10,), \"There should be 10 sampled deltas\"\n",
    "assert torch.allclose(\n",
    "    sampled_deltas, vectorized_deltas[indices], atol=1e-5\n",
    "), \"Sampled deltas should be close to vectorized deltas.\""
   ]
  },
  {
   "cell_type": "code",
   "execution_count": null,
   "id": "8ae24ccd",
   "metadata": {},
   "outputs": [
    {
     "data": {
      "text/plain": [
       "tensor([ 0.1396,  0.0000, -0.3900,  0.0000,  0.0000, -1.2526, -0.2728,  0.0000,\n",
       "         0.0000,  0.0000], grad_fn=<DivBackward0>)"
      ]
     },
     "execution_count": 10,
     "metadata": {},
     "output_type": "execute_result"
    }
   ],
   "source": [
    "sampled_deltas"
   ]
  },
  {
   "cell_type": "code",
   "execution_count": null,
   "id": "b67286d0",
   "metadata": {},
   "outputs": [
    {
     "data": {
      "text/plain": [
       "tensor([ 0.1396,  0.0000, -0.3900,  0.0000,  0.0000, -1.2526, -0.2728,  0.0000,\n",
       "         0.0000,  0.0000], grad_fn=<IndexBackward0>)"
      ]
     },
     "execution_count": 13,
     "metadata": {},
     "output_type": "execute_result"
    }
   ],
   "source": []
  },
  {
   "cell_type": "code",
   "execution_count": null,
   "id": "56b70c36",
   "metadata": {},
   "outputs": [
    {
     "name": "stdout",
     "output_type": "stream",
     "text": [
      "torch.Size([100, 2])\n",
      "torch.Size([100])\n"
     ]
    }
   ],
   "source": [
    "import manify\n",
    "\n",
    "pm = manify.ProductManifold(signature=[(-1, 2), (0, 2), (1, 2)])\n",
    "X, y = pm.gaussian_mixture(num_points=100, num_classes=2, seed=42)\n",
    "\n",
    "rf = manify.predictors.decision_tree.ProductSpaceRF(pm=pm, max_depth=3, n_estimators=10)\n",
    "rf.fit(X, y)\n",
    "print(rf.predict_proba(X).shape)\n",
    "print(rf.predict(X).shape)"
   ]
  },
  {
   "cell_type": "code",
   "execution_count": null,
   "id": "d28b36f6",
   "metadata": {},
   "outputs": [
    {
     "name": "stdout",
     "output_type": "stream",
     "text": [
      "torch.Size([100, 2])\n"
     ]
    }
   ],
   "source": [
    "import manify\n",
    "\n",
    "pm = manify.ProductManifold(signature=[(-1, 2), (0, 2), (1, 2)])\n",
    "X, y = pm.gaussian_mixture(num_points=100, num_classes=2, seed=42)\n",
    "\n",
    "pn = manify.ProductSpacePerceptron(pm=pm)\n",
    "pn.fit(X, y)\n",
    "print(pn.predict_proba(X).shape)\n",
    "# print(pn.predict(X).shape)"
   ]
  },
  {
   "cell_type": "code",
   "execution_count": null,
   "id": "6a72e2f3",
   "metadata": {},
   "outputs": [
    {
     "data": {
      "application/vnd.jupyter.widget-view+json": {
       "model_id": "8f892c7fca2a47bb909b569302bd60b8",
       "version_major": 2,
       "version_minor": 0
      },
      "text/plain": [
       "  0%|          | 0/2000 [00:00<?, ?it/s]"
      ]
     },
     "metadata": {},
     "output_type": "display_data"
    },
    {
     "name": "stdout",
     "output_type": "stream",
     "text": [
      "torch.Size([100, 2])\n"
     ]
    }
   ],
   "source": [
    "import manify\n",
    "\n",
    "pm = manify.ProductManifold(signature=[(-1, 2), (0, 2), (1, 2)])\n",
    "X, y = pm.gaussian_mixture(num_points=100, num_classes=2, seed=42)\n",
    "\n",
    "pm, X = pm.stereographic(X)\n",
    "\n",
    "kg = manify.KappaGCN(pm=pm, output_dim=2)\n",
    "kg.fit(X, y)\n",
    "print(kg.predict_proba(X).shape)\n",
    "# print(kg.predict(X).shape)"
   ]
  },
  {
   "cell_type": "code",
   "execution_count": 1,
   "id": "bf731c2f",
   "metadata": {},
   "outputs": [],
   "source": [
    "%load_ext autoreload\n",
    "%autoreload 2"
   ]
  },
  {
   "cell_type": "code",
   "execution_count": 2,
   "id": "0bade46e",
   "metadata": {},
   "outputs": [
    {
     "name": "stdout",
     "output_type": "stream",
     "text": [
      "torch.Size([100, 2])\n"
     ]
    }
   ],
   "source": [
    "import manify\n",
    "\n",
    "pm = manify.ProductManifold(signature=[(-1, 2), (0, 2), (1, 2)])\n",
    "X, y = pm.gaussian_mixture(num_points=100, num_classes=2, seed=42)\n",
    "\n",
    "svm = manify.ProductSpaceSVM(pm=pm)\n",
    "svm.fit(X, y)\n",
    "print(svm.predict_proba(X).shape)"
   ]
  },
  {
   "cell_type": "code",
   "execution_count": 6,
   "id": "ee419786",
   "metadata": {},
   "outputs": [
    {
     "data": {
      "text/plain": [
       "tensor(1.)"
      ]
     },
     "execution_count": 6,
     "metadata": {},
     "output_type": "execute_result"
    }
   ],
   "source": [
    "(svm.predict(X) == y).float().mean()"
   ]
  },
  {
   "cell_type": "code",
   "execution_count": 7,
   "id": "0441a754",
   "metadata": {},
   "outputs": [
    {
     "data": {
      "text/plain": [
       "tensor([[ 2.4855e+00, -1.2920e+00,  1.8731e+00,  1.9316e+00, -4.1106e-01,\n",
       "          4.7613e-01,  4.0806e-01,  7.7897e-01],\n",
       "        [ 1.3328e+00,  4.8770e-01, -7.3387e-01,  2.1860e+00, -6.2516e-01,\n",
       "         -9.2732e-01, -2.8467e-01,  2.4300e-01],\n",
       "        [ 1.0443e+00, -2.8956e-01, -8.1992e-02,  2.5800e+00, -3.2252e-01,\n",
       "         -5.7875e-01, -5.0620e-01,  6.3938e-01],\n",
       "        [ 2.4348e+01,  5.4899e+00,  2.3700e+01, -5.8513e+00,  2.6276e+00,\n",
       "         -5.9087e-01, -3.6086e-01, -7.2156e-01],\n",
       "        [ 1.3893e+01,  1.3774e+01,  1.5119e+00,  2.5668e+00, -1.0353e+00,\n",
       "          4.2507e-01, -5.4842e-01,  7.2010e-01],\n",
       "        [ 1.0437e+00,  2.8424e-01,  9.2024e-02,  3.2743e+00, -1.4125e+00,\n",
       "         -4.2732e-01, -8.6886e-01, -2.4997e-01],\n",
       "        [ 9.2190e+00, -7.3952e+00,  5.4131e+00,  1.2348e+00,  3.7377e-01,\n",
       "         -9.2836e-01, -3.4546e-01,  1.3712e-01],\n",
       "        [ 2.2347e+01,  5.5254e+00,  2.1630e+01, -3.0342e+00,  6.1134e-01,\n",
       "          4.5195e-01,  8.3787e-01, -3.0613e-01],\n",
       "        [ 1.1490e+00, -1.0291e-01,  5.5643e-01,  3.7626e+00, -2.4477e+00,\n",
       "         -3.9204e-01,  7.8949e-01,  4.7224e-01],\n",
       "        [ 2.0877e+01,  2.0791e+01,  1.6055e+00,  2.2070e+00, -2.4144e-01,\n",
       "         -2.4455e-01, -1.9897e-01, -9.4900e-01],\n",
       "        [ 1.4175e+00,  8.9113e-01,  4.6388e-01,  3.2170e-01,  1.3788e+00,\n",
       "          7.6243e-01, -2.0594e-01,  6.1342e-01],\n",
       "        [ 2.2138e+00,  5.1486e-01,  1.9068e+00,  9.2673e-01, -2.3024e+00,\n",
       "         -6.3997e-01, -2.8802e-01, -7.1237e-01],\n",
       "        [ 6.2016e+00,  1.9135e+00, -5.8137e+00,  9.3144e-01, -1.2879e+00,\n",
       "         -8.6276e-01, -4.4231e-01, -2.4495e-01],\n",
       "        [ 5.8188e+00, -3.5400e+00,  4.5085e+00,  3.2969e+00, -1.1761e+00,\n",
       "          5.7092e-02,  2.4215e-01, -9.6856e-01],\n",
       "        [ 2.2662e+00,  1.9812e-01,  2.0240e+00, -4.2613e-01, -2.8270e-01,\n",
       "          9.0258e-01, -1.3695e-01, -4.0816e-01],\n",
       "        [ 1.5998e+00,  1.5848e-01, -1.2387e+00, -3.9834e+00,  8.4261e-01,\n",
       "         -8.4843e-01, -5.2561e-01, -6.2512e-02],\n",
       "        [ 1.4740e+00,  9.1126e-01,  5.8506e-01,  7.9007e-02,  4.3553e-02,\n",
       "         -9.0639e-01, -3.0906e-01,  2.8798e-01],\n",
       "        [ 1.0677e+00,  2.0811e-01,  3.1107e-01, -9.0174e-01, -1.7011e-01,\n",
       "          3.3711e-01,  4.3792e-01,  8.3342e-01],\n",
       "        [ 2.2923e+00,  1.9392e+00, -7.0292e-01, -4.2204e-02, -5.5014e-01,\n",
       "         -2.1380e-01, -1.0784e-01, -9.7091e-01],\n",
       "        [ 1.1780e+00, -2.4398e-02, -6.2223e-01, -1.7656e+00, -3.7755e-01,\n",
       "          1.1894e-01,  1.9763e-01, -9.7303e-01],\n",
       "        [ 2.3846e+00, -1.9875e+00, -8.5786e-01,  1.4166e+00, -1.0326e-01,\n",
       "         -3.9940e-01,  3.5979e-01, -8.4323e-01],\n",
       "        [ 1.7044e+00, -2.5085e-01,  1.3573e+00,  1.8710e+00, -2.7266e-02,\n",
       "          1.4341e-01,  4.0473e-01, -9.0312e-01],\n",
       "        [ 3.8194e+00,  3.5682e+00, -9.2510e-01,  3.6370e+00, -1.8101e+00,\n",
       "          6.1184e-01,  7.8964e-01,  4.6006e-02],\n",
       "        [ 3.1689e+00, -1.3862e+00,  2.6684e+00,  1.3044e+00,  2.4565e-02,\n",
       "          3.6108e-01, -5.1607e-01,  7.7672e-01],\n",
       "        [ 4.3375e+00,  1.5246e+00, -3.9357e+00, -4.0769e+00,  1.3861e+00,\n",
       "         -1.4073e-01, -2.1463e-01,  9.6650e-01],\n",
       "        [ 1.7511e+00, -1.1583e+00,  8.5123e-01,  8.8377e-01,  3.9129e-02,\n",
       "         -7.8354e-01, -5.4664e-01, -2.9537e-01],\n",
       "        [ 3.4875e+00,  3.2743e+00, -6.6439e-01,  3.7512e+00, -2.1221e+00,\n",
       "          9.4648e-01,  2.8809e-01,  1.4552e-01],\n",
       "        [ 1.1227e+00,  5.0137e-01,  9.5705e-02,  2.5331e+00, -9.0088e-01,\n",
       "          7.5565e-01, -6.5448e-01,  2.5495e-02],\n",
       "        [ 7.0256e+00,  3.9497e+00, -5.7235e+00, -9.3309e-01, -7.2419e-02,\n",
       "          8.7601e-01,  1.7223e-01,  4.5049e-01],\n",
       "        [ 3.2587e+00,  3.0341e+00,  6.4320e-01,  2.7520e+00, -2.2163e+00,\n",
       "         -1.3465e-01,  4.6238e-01,  8.7640e-01],\n",
       "        [ 1.0125e+00,  6.1228e-03,  1.5828e-01,  2.3142e+00, -1.1107e+00,\n",
       "         -7.2730e-01, -1.2879e-01,  6.7413e-01],\n",
       "        [ 1.4613e+00, -2.1649e-02,  1.0654e+00,  2.7939e+00, -7.8947e-01,\n",
       "         -2.7688e-02, -6.5282e-01,  7.5701e-01],\n",
       "        [ 3.2242e+00,  2.5697e+00, -1.6711e+00,  2.5175e-01,  1.7732e+00,\n",
       "         -2.7243e-01,  9.8484e-02, -9.5712e-01],\n",
       "        [ 1.8577e+00, -6.1560e-01,  1.4395e+00,  3.6013e+00, -1.5771e+00,\n",
       "         -8.2112e-01,  5.6910e-01,  4.3575e-02],\n",
       "        [ 2.4857e+00,  3.9704e-01, -2.2408e+00, -4.0837e-01, -5.7232e-01,\n",
       "         -5.9590e-01, -3.8663e-01,  7.0386e-01],\n",
       "        [ 1.4111e+00,  2.6555e-01, -9.5959e-01,  1.9121e+00, -7.4653e-01,\n",
       "          1.5916e-01,  9.7089e-01, -1.7901e-01],\n",
       "        [ 1.1636e+00, -5.7398e-01,  1.5690e-01,  7.4832e-01,  6.7240e-01,\n",
       "         -8.5435e-01, -4.2056e-01, -3.0531e-01],\n",
       "        [ 1.2950e+00,  8.1476e-01,  1.1447e-01,  1.6215e+00, -5.1343e-01,\n",
       "          7.5055e-01,  1.8365e-01,  6.3478e-01],\n",
       "        [ 4.5313e+00,  4.1874e+00, -1.4136e+00,  2.2411e+00, -3.4527e-01,\n",
       "         -7.2585e-01, -6.6773e-01,  1.6514e-01],\n",
       "        [ 1.7691e+00,  1.5518e-01,  1.4511e+00, -1.8228e+00,  4.6115e-01,\n",
       "         -7.4492e-01, -3.5667e-01, -5.6381e-01],\n",
       "        [ 2.4178e+00, -5.5749e-01,  2.1295e+00,  7.0700e-01,  5.9836e-01,\n",
       "         -7.8641e-01, -5.3538e-01, -3.0810e-01],\n",
       "        [ 2.7490e+00, -4.7228e-01,  2.5167e+00, -7.8463e-01,  1.9297e+00,\n",
       "          3.8835e-01, -8.9796e-01, -2.0703e-01],\n",
       "        [ 2.8145e+00,  2.5947e+00, -4.3483e-01,  4.6400e+00, -2.9201e+00,\n",
       "          4.8497e-01,  8.2790e-01, -2.8176e-01],\n",
       "        [ 1.0033e+01,  4.2855e+00,  9.0163e+00,  1.9691e+00, -1.6648e+00,\n",
       "          7.2572e-02, -5.7521e-02,  9.9570e-01],\n",
       "        [ 3.2401e+00,  2.5920e+00, -1.6672e+00,  3.0630e+00, -9.6490e-01,\n",
       "          9.9626e-01,  8.6403e-02,  2.3150e-03],\n",
       "        [ 1.2377e+00,  3.7054e-01, -6.2821e-01,  3.8748e+00, -2.0974e+00,\n",
       "         -9.8664e-01,  4.4432e-02,  1.5676e-01],\n",
       "        [ 6.6515e+00,  1.8851e+00,  6.3000e+00,  2.5520e+00, -2.4385e+00,\n",
       "          7.2475e-01, -5.8244e-01,  3.6811e-01],\n",
       "        [ 1.7915e+00,  1.1758e+00, -9.0929e-01, -9.5553e-01, -1.3109e+00,\n",
       "         -7.7786e-01, -3.0599e-01, -5.4891e-01],\n",
       "        [ 7.0551e+00, -4.3181e+00,  5.4890e+00,  4.6250e+00, -2.4937e+00,\n",
       "         -5.7382e-01, -8.1359e-01, -9.3798e-02],\n",
       "        [ 1.2664e+00, -3.1509e-01, -7.1020e-01,  1.2467e+00, -9.4260e-01,\n",
       "         -2.6851e-01, -5.5515e-01, -7.8722e-01],\n",
       "        [ 1.1125e+00, -4.8103e-01, -7.9340e-02,  1.0255e-01,  8.3478e-01,\n",
       "         -9.3749e-01, -3.4290e-01, -5.9471e-02],\n",
       "        [ 2.4802e+00, -9.0790e-01,  2.0802e+00,  3.8176e+00, -2.4871e+00,\n",
       "         -4.5576e-01,  5.2672e-02, -8.8854e-01],\n",
       "        [ 1.0604e+01,  1.0361e+01, -2.0193e+00,  2.1764e+00, -1.1331e+00,\n",
       "         -1.7148e-01,  2.2007e-01, -9.6029e-01],\n",
       "        [ 1.4321e+00, -5.5730e-01,  8.6043e-01,  4.1124e+00, -2.4471e+00,\n",
       "         -7.8508e-01, -6.1754e-01, -4.7846e-02],\n",
       "        [ 1.1815e+00,  4.1821e-01, -4.7007e-01,  3.9838e+00, -1.8878e+00,\n",
       "         -5.3805e-02,  7.1667e-01, -6.9533e-01],\n",
       "        [ 7.5868e+00, -3.8055e+00,  6.4867e+00,  2.6818e+00, -6.7939e-01,\n",
       "          5.4471e-01, -7.9415e-01, -2.6947e-01],\n",
       "        [ 1.7355e+00,  1.3597e+00, -4.0395e-01,  3.3323e+00, -2.6424e+00,\n",
       "          9.5719e-01, -1.4632e-01, -2.4977e-01],\n",
       "        [ 1.0749e+00,  3.4874e-01,  1.8386e-01,  1.6112e+00,  4.4390e-01,\n",
       "         -3.2929e-01,  7.3803e-02, -9.4134e-01],\n",
       "        [ 1.5932e+00,  6.1939e-01,  1.0745e+00,  9.5604e-01,  1.4020e+00,\n",
       "         -5.4687e-01,  4.0635e-02, -8.3623e-01],\n",
       "        [ 3.4871e+00, -3.1684e+00,  1.0588e+00,  1.7279e+00, -1.7160e-01,\n",
       "         -9.3539e-01,  2.2503e-01, -2.7279e-01],\n",
       "        [ 1.0737e+00, -3.7734e-01, -1.0230e-01, -6.3912e-01,  1.7919e-01,\n",
       "          5.3643e-01, -9.9338e-02, -8.3808e-01],\n",
       "        [ 1.6659e+00,  1.1841e+00, -6.1069e-01,  1.2979e+00, -6.3490e-03,\n",
       "          6.4227e-01,  7.4267e-01,  1.8953e-01],\n",
       "        [ 5.2223e+02,  2.6842e+02,  4.4796e+02, -2.1714e+00,  2.6535e-01,\n",
       "         -8.4248e-01, -4.3996e-01, -3.1090e-01],\n",
       "        [ 3.2823e+01,  3.1188e+01, -1.0179e+01,  1.8692e+00, -7.5592e-01,\n",
       "         -5.2384e-01, -4.9629e-02, -8.5037e-01],\n",
       "        [ 9.2651e+00,  9.2106e+00, -8.5521e-02, -2.0128e-01,  2.0207e+00,\n",
       "         -4.5300e-01, -8.9081e-01,  3.5272e-02],\n",
       "        [ 2.3627e+00,  4.3364e-01, -2.0962e+00, -1.5118e+00, -6.7851e-01,\n",
       "         -4.6019e-01,  9.2791e-02, -8.8296e-01],\n",
       "        [ 1.2078e+00, -6.1722e-01,  2.7890e-01,  4.8349e+00, -2.8925e+00,\n",
       "         -4.0771e-01, -6.3745e-02, -9.1088e-01],\n",
       "        [ 6.7463e+00, -5.7520e+00,  3.3805e+00,  1.0101e+00,  2.6580e-01,\n",
       "          8.4416e-02, -5.7886e-01,  8.1105e-01],\n",
       "        [ 1.2911e+00, -5.0045e-01,  6.4540e-01, -2.1856e-01,  1.7779e+00,\n",
       "         -6.0506e-01, -5.8974e-01, -5.3489e-01],\n",
       "        [ 1.2276e+00, -7.0751e-01, -8.0256e-02,  1.1196e+00, -7.0409e-01,\n",
       "         -3.7945e-01, -8.5220e-01, -3.6023e-01],\n",
       "        [ 1.0494e+00,  5.2695e-02, -3.1374e-01,  5.2738e-01, -1.3129e+00,\n",
       "         -8.4198e-01, -4.4712e-01,  3.0192e-01],\n",
       "        [ 1.4014e+00,  9.7972e-01, -6.3749e-02,  2.5212e+00, -1.0543e+00,\n",
       "         -3.6484e-01, -5.3141e-02, -9.2955e-01],\n",
       "        [ 5.3675e+00,  5.1162e+00, -1.2787e+00,  2.7433e-01,  8.6574e-01,\n",
       "          7.3779e-01,  6.6500e-01,  1.1595e-01],\n",
       "        [ 1.7513e+00,  1.0080e+00,  1.0251e+00, -3.5198e+00,  1.9064e+00,\n",
       "          5.9872e-02, -9.9299e-01, -1.0193e-01],\n",
       "        [ 1.6318e+00, -1.1378e+00,  6.0681e-01,  1.2616e+00,  3.2478e-02,\n",
       "          4.3303e-01,  8.4532e-01, -3.1291e-01],\n",
       "        [ 1.3270e+01,  9.9902e-01,  1.3194e+01, -2.0039e+00,  6.5981e-01,\n",
       "          8.6001e-01,  2.3188e-01, -4.5456e-01],\n",
       "        [ 2.2322e+02,  5.2901e+01, -2.1686e+02,  1.7810e+00, -1.6869e+00,\n",
       "         -6.9698e-01, -1.8505e-01, -6.9280e-01],\n",
       "        [ 2.1585e+00,  1.8644e+00,  4.2814e-01, -1.4424e+00,  1.6044e+00,\n",
       "         -5.6410e-01, -7.0898e-01, -4.2325e-01],\n",
       "        [ 1.8835e+00,  1.5896e+00,  1.4353e-01,  4.4839e+00, -2.5105e+00,\n",
       "         -2.4980e-01,  2.5686e-01,  9.3361e-01],\n",
       "        [ 1.4944e+00,  2.2487e-01,  1.0875e+00, -2.9326e+00,  9.5908e-01,\n",
       "         -1.9013e-01,  5.9165e-01,  7.8345e-01],\n",
       "        [ 6.0179e+00, -3.9681e+00,  4.4125e+00,  2.4067e+00, -5.8010e-01,\n",
       "          3.3809e-01,  6.3055e-01,  6.9865e-01],\n",
       "        [ 1.7226e+00, -8.1610e-01,  1.1408e+00,  2.3329e+00, -6.3875e-01,\n",
       "         -5.9985e-02,  1.1313e-01,  9.9177e-01],\n",
       "        [ 8.4747e+00,  8.3463e+00, -1.0774e+00,  2.3852e+00, -1.4321e+00,\n",
       "          4.9484e-01,  6.9537e-01, -5.2115e-01],\n",
       "        [ 1.4989e+00, -1.0777e+00,  2.9190e-01,  8.1730e-01,  1.3695e+00,\n",
       "          4.0513e-02,  4.1511e-01, -9.0887e-01],\n",
       "        [ 1.8199e+00,  1.4367e+00, -4.9767e-01,  2.4006e+00, -5.4986e-01,\n",
       "          2.2270e-02, -7.0355e-02, -9.9727e-01],\n",
       "        [ 1.2665e+00,  5.4699e-01, -5.5202e-01, -5.5123e+00,  1.9773e+00,\n",
       "          8.3611e-01, -6.1081e-02,  5.4515e-01],\n",
       "        [ 1.2384e+01, -8.5613e+00,  8.8917e+00,  1.6536e+00, -5.6089e-01,\n",
       "         -8.3822e-01, -5.4175e-01, -6.2425e-02],\n",
       "        [ 1.2121e+01, -9.5652e+00,  7.3773e+00, -1.3652e-01,  1.0273e+00,\n",
       "          8.6143e-01,  2.0023e-01,  4.6674e-01],\n",
       "        [ 1.0026e+01,  9.1324e+00, -4.0138e+00,  1.9726e+00, -7.9735e-01,\n",
       "          9.3483e-01,  2.2131e-01, -2.7771e-01],\n",
       "        [ 2.3150e+00,  2.0725e+00,  2.5273e-01,  5.1961e+00, -2.8734e+00,\n",
       "          8.4578e-01,  4.5353e-01,  2.8102e-01],\n",
       "        [ 3.9460e+00,  2.1017e+00, -3.1864e+00,  1.0748e+00,  1.7380e-01,\n",
       "          9.5465e-01,  4.7191e-02, -2.9397e-01],\n",
       "        [ 4.8916e+00, -4.1622e+00,  2.3671e+00,  3.5197e+00, -1.0254e+00,\n",
       "         -5.5633e-01, -4.1686e-01, -7.1884e-01],\n",
       "        [ 2.1544e+00,  1.4431e+00,  1.2486e+00,  2.7560e+00, -2.3907e+00,\n",
       "         -6.1215e-01, -5.8668e-01,  5.3017e-01],\n",
       "        [ 3.6274e+00, -1.9699e+00,  2.8771e+00, -1.1219e-01,  5.4508e-01,\n",
       "          3.0217e-01,  8.9787e-01,  3.2020e-01],\n",
       "        [ 2.9583e+00,  2.7841e+00,  2.2738e-02,  1.2424e+00, -1.5767e-03,\n",
       "          6.2103e-01, -6.6979e-01, -4.0707e-01],\n",
       "        [ 8.5787e+00,  8.4012e+00, -1.4189e+00,  1.0645e+00,  8.2205e-02,\n",
       "         -1.7680e-01,  1.4784e-01, -9.7308e-01],\n",
       "        [ 1.9387e+00, -1.2615e+00,  1.0804e+00,  3.0407e+00, -1.6343e+00,\n",
       "         -1.1026e-01,  1.0047e-03,  9.9390e-01],\n",
       "        [ 1.1507e+00, -1.6731e-02,  5.6905e-01,  1.4592e+00,  1.9961e-01,\n",
       "         -6.8983e-01, -6.2537e-01, -3.6477e-01],\n",
       "        [ 2.5287e+01,  1.2029e+01,  2.2220e+01, -1.7686e+00,  5.2102e-01,\n",
       "          4.8484e-01,  7.0241e-01, -5.2110e-01],\n",
       "        [ 1.1963e+03,  4.1365e+02,  1.1225e+03, -2.8758e+00,  2.2557e-01,\n",
       "          5.4311e-01,  4.7445e-01,  6.9277e-01]])"
      ]
     },
     "execution_count": 7,
     "metadata": {},
     "output_type": "execute_result"
    }
   ],
   "source": [
    "X"
   ]
  },
  {
   "cell_type": "code",
   "execution_count": 9,
   "id": "e423960a",
   "metadata": {},
   "outputs": [
    {
     "data": {
      "text/plain": [
       "torch.Size([100, 100])"
      ]
     },
     "execution_count": 9,
     "metadata": {},
     "output_type": "execute_result"
    }
   ],
   "source": [
    "pm.pdist(X).shape"
   ]
  },
  {
   "cell_type": "code",
   "execution_count": 13,
   "id": "a1d9a797",
   "metadata": {},
   "outputs": [
    {
     "data": {
      "text/plain": [
       "torch.Size([80, 80])"
      ]
     },
     "execution_count": 13,
     "metadata": {},
     "output_type": "execute_result"
    }
   ],
   "source": [
    "from sklearn.model_selection import train_test_split\n",
    "\n",
    "X_train, X_test = train_test_split(X, test_size=0.2, random_state=42)\n",
    "\n",
    "pm.pdist(X_train).shape"
   ]
  },
  {
   "cell_type": "code",
   "execution_count": 12,
   "id": "8582ac76",
   "metadata": {},
   "outputs": [
    {
     "data": {
      "text/plain": [
       "torch.Size([20, 20])"
      ]
     },
     "execution_count": 12,
     "metadata": {},
     "output_type": "execute_result"
    }
   ],
   "source": [
    "pm.pdist(X_test).shape"
   ]
  },
  {
   "cell_type": "code",
   "execution_count": null,
   "id": "16d8e511",
   "metadata": {},
   "outputs": [],
   "source": []
  }
 ],
 "metadata": {
  "kernelspec": {
   "display_name": "manify",
   "language": "python",
   "name": "python3"
  },
  "language_info": {
   "codemirror_mode": {
    "name": "ipython",
    "version": 3
   },
   "file_extension": ".py",
   "mimetype": "text/x-python",
   "name": "python",
   "nbconvert_exporter": "python",
   "pygments_lexer": "ipython3",
   "version": "3.12.0"
  }
 },
 "nbformat": 4,
 "nbformat_minor": 5
}
