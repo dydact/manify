{
 "cells": [
  {
   "cell_type": "code",
   "execution_count": 5,
   "id": "cfd9764c",
   "metadata": {},
   "outputs": [
    {
     "name": "stdout",
     "output_type": "stream",
     "text": [
      "The autoreload extension is already loaded. To reload it, use:\n",
      "  %reload_ext autoreload\n"
     ]
    }
   ],
   "source": [
    "%load_ext autoreload\n",
    "%autoreload 2\n",
    "\n",
    "import manify\n",
    "from manify.manifolds import Manifold\n",
    "import torch\n",
    "import geoopt"
   ]
  },
  {
   "cell_type": "code",
   "execution_count": 6,
   "id": "5a128e26",
   "metadata": {},
   "outputs": [
    {
     "ename": "NameError",
     "evalue": "name 'math' is not defined",
     "output_type": "error",
     "traceback": [
      "\u001b[31m---------------------------------------------------------------------------\u001b[39m",
      "\u001b[31mNameError\u001b[39m                                 Traceback (most recent call last)",
      "\u001b[36mCell\u001b[39m\u001b[36m \u001b[39m\u001b[32mIn[6]\u001b[39m\u001b[32m, line 73\u001b[39m\n\u001b[32m     68\u001b[39m lls = M.log_likelihood(X1)\n\u001b[32m     69\u001b[39m \u001b[38;5;28;01mif\u001b[39;00m curv == \u001b[32m0\u001b[39m:\n\u001b[32m     70\u001b[39m     \u001b[38;5;66;03m# Evaluate as ll of gaussian with mean 0, variance 1:\u001b[39;00m\n\u001b[32m     71\u001b[39m     \u001b[38;5;28;01massert\u001b[39;00m torch.allclose(\n\u001b[32m     72\u001b[39m         lls,\n\u001b[32m---> \u001b[39m\u001b[32m73\u001b[39m         -\u001b[32m0.5\u001b[39m * (torch.sum(X1**\u001b[32m2\u001b[39m, dim=-\u001b[32m1\u001b[39m) + X1.size(-\u001b[32m1\u001b[39m) * \u001b[43mmath\u001b[49m.log(\u001b[32m2\u001b[39m * math.pi)),\n\u001b[32m     74\u001b[39m     ), \u001b[33m\"\u001b[39m\u001b[33mLog-likelihood mismatch for Gaussian\u001b[39m\u001b[33m\"\u001b[39m\n\u001b[32m     75\u001b[39m \u001b[38;5;28;01massert\u001b[39;00m (lls <= \u001b[32m0\u001b[39m).all(), \u001b[33m\"\u001b[39m\u001b[33mLog-likelihood should be non-positive\u001b[39m\u001b[33m\"\u001b[39m\n\u001b[32m     77\u001b[39m \u001b[38;5;66;03m# Logmap and expmap\u001b[39;00m\n",
      "\u001b[31mNameError\u001b[39m: name 'math' is not defined"
     ]
    }
   ],
   "source": [
    "for curv, dim in [(-1, 2), (0, 2), (1, 2), (-1, 64), (0, 64), (1, 64)]:\n",
    "    M = Manifold(curvature=curv, dim=dim)\n",
    "\n",
    "    # Does device switching work?\n",
    "    M.to(\"cpu\")\n",
    "\n",
    "    # Do attributes work correctly?\n",
    "    if curv < 0:\n",
    "        assert M.type == \"H\" and isinstance(M.manifold.base, geoopt.Lorentz)\n",
    "    elif curv == 0:\n",
    "        assert M.type == \"E\" and isinstance(M.manifold.base, geoopt.Euclidean)\n",
    "    else:\n",
    "        assert M.type == \"S\" and isinstance(M.manifold.base, geoopt.Sphere)\n",
    "\n",
    "    # get some vectors via gaussian mixture\n",
    "    cov = torch.eye(M.dim) / M.dim / 100\n",
    "    means = torch.vstack([M.mu0] * 10)\n",
    "    covs = torch.stack([cov] * 10)\n",
    "    X1, _ = M.sample(z_mean=means, sigma=covs)\n",
    "    X2, _ = M.sample(z_mean=means[:5], sigma=covs[:5])\n",
    "\n",
    "    # Verify points are on manifold\n",
    "    assert M.manifold.check_point(X1), \"X1 is not on the manifold\"\n",
    "    assert M.manifold.check_point(X2), \"X2 is not on the manifold\"\n",
    "\n",
    "    # Inner products\n",
    "    ip_11 = M.inner(X1, X1)\n",
    "    assert ip_11.shape == (10, 10), \"Inner product shape mismatch for X1\"\n",
    "    ip_12 = M.inner(X1, X2)\n",
    "    assert ip_12.shape == (10, 5), \"Inner product shape mismatch for X1 and X2\"\n",
    "    if curv == 0:\n",
    "        assert torch.allclose(ip_11, X1 @ X1.T), \"Euclidean inner products do not match for X1\"\n",
    "        assert torch.allclose(ip_12, X1 @ X2.T), \"Euclidean inner products do not match for X1 and X2\"\n",
    "\n",
    "    # Dists\n",
    "    dists_11 = M.dist(X1, X1)\n",
    "    assert dists_11.shape == (10, 10), \"Distance shape mismatch for X1\"\n",
    "    dists_12 = M.dist(X1, X2)\n",
    "    assert dists_12.shape == (10, 5), \"Distance shape mismatch for X1 and X2\"\n",
    "    if curv == 0:\n",
    "        assert torch.allclose(\n",
    "            dists_12, torch.linalg.norm(X1[:, None] - X2[None, :], dim=-1)\n",
    "        ), \"Euclidean distances do not match for X1 and X2\"\n",
    "        assert torch.allclose(\n",
    "            dists_11, torch.linalg.norm(X1[:, None] - X1[None, :], dim=-1)\n",
    "        ), \"Euclidean distances do not match for X1\"\n",
    "    assert (dists_11.triu(1) >= 0).all(), \"Distances for X1 should be non-negative\"\n",
    "    assert (dists_12.triu(1) >= 0).all(), \"Distances for X2 should be non-negative\"\n",
    "    assert torch.allclose(dists_11.triu(1), M.pdist(X1).triu(1)), \"dist and pdist diverge for X1\"\n",
    "\n",
    "    # Square dists\n",
    "    sqdists_11 = M.dist2(X1, X1)\n",
    "    assert sqdists_11.shape == (10, 10), \"Squared distance shape mismatch for X1\"\n",
    "    sqdists_12 = M.dist2(X1, X2)\n",
    "    assert sqdists_12.shape == (10, 5), \"Squared distance shape mismatch for X1 and X2\"\n",
    "    if curv == 0:\n",
    "        assert torch.allclose(\n",
    "            sqdists_12, torch.linalg.norm(X1[:, None] - X2[None, :], dim=-1) ** 2\n",
    "        ), \"Euclidean squared distances do not match for X1 and X2\"\n",
    "        assert torch.allclose(\n",
    "            sqdists_11, torch.linalg.norm(X1[:, None] - X1[None, :], dim=-1) ** 2\n",
    "        ), \"Euclidean squared distances do not match for X1\"\n",
    "    assert (sqdists_11.triu(1) >= 0).all(), \"Squared distances for X1 should be non-negative\"\n",
    "    assert (sqdists_12.triu(1) >= 0).all(), \"Squared distances for X1 and X2 should be non-negative\"\n",
    "    assert torch.allclose(sqdists_11.triu(1), M.pdist2(X1).triu(1)), \"sqdists_11 and pdist2 diverge for X1\"\n",
    "\n",
    "    # Log-likelihood\n",
    "    lls = M.log_likelihood(X1)\n",
    "    if curv == 0:\n",
    "        # Evaluate as ll of gaussian with mean 0, variance 1:\n",
    "        assert torch.allclose(\n",
    "            lls,\n",
    "            -0.5 * (torch.sum(X1**2, dim=-1) + X1.size(-1) * math.log(2 * math.pi)),\n",
    "        ), \"Log-likelihood mismatch for Gaussian\"\n",
    "    assert (lls <= 0).all(), \"Log-likelihood should be non-positive\"\n",
    "\n",
    "    # Logmap and expmap\n",
    "    logmap_x1 = M.logmap(X1)\n",
    "    assert M.manifold.check_vector(logmap_x1), \"Logmap point should be in the tangent plane\"\n",
    "    expmap_x1 = M.expmap(logmap_x1)\n",
    "    assert M.manifold.check_point(expmap_x1), \"Expmap point should be on the manifold\"\n",
    "    assert torch.allclose(expmap_x1, X1, atol=1e-5), \"Expmap does not return the original points\"\n",
    "\n",
    "    # Stereographic conversions\n",
    "    M_stereo, X1_stereo, X2_stereo = M.stereographic(X1, X2)\n",
    "    assert M_stereo.is_stereographic\n",
    "    X_inv_stereo, X1_inv_stereo, X2_inv_stereo = M_stereo.inverse_stereographic(X1_stereo, X2_stereo)\n",
    "    assert not X_inv_stereo.is_stereographic\n",
    "    assert torch.allclose(X1_inv_stereo, X1), \"Inverse stereographic conversion mismatch for X1\"\n",
    "    assert torch.allclose(X2_inv_stereo, X2), \"Inverse stereographic conversion mismatch for X2\"\n",
    "\n",
    "    # Apply\n",
    "    @M.apply\n",
    "    def apply_function(x):\n",
    "        return torch.nn.functional.relu(x)\n",
    "\n",
    "    result = apply_function(X1)\n",
    "    assert result.shape == X1.shape, \"Result shape mismatch for apply_function\"\n",
    "    assert M.manifold.check_point(result)"
   ]
  },
  {
   "cell_type": "code",
   "execution_count": null,
   "id": "84491262",
   "metadata": {},
   "outputs": [
    {
     "data": {
      "text/plain": [
       "tensor([[ 1.0011,  0.0458,  0.0055],\n",
       "        [ 1.0001, -0.0142, -0.0087],\n",
       "        [ 1.0121,  0.1557,  0.0073],\n",
       "        [ 1.0099, -0.0979,  0.1019],\n",
       "        [ 1.0033,  0.0339,  0.0737],\n",
       "        [ 1.0008,  0.0300,  0.0255],\n",
       "        [ 1.0006,  0.0211,  0.0289],\n",
       "        [ 1.0040, -0.0701, -0.0553],\n",
       "        [ 1.0160,  0.1332, -0.1208],\n",
       "        [ 1.0026,  0.0174,  0.0700]], grad_fn=<CatBackward0>)"
      ]
     },
     "execution_count": 72,
     "metadata": {},
     "output_type": "execute_result"
    }
   ],
   "source": [
    "expmap_x1"
   ]
  },
  {
   "cell_type": "markdown",
   "id": "be661a96",
   "metadata": {},
   "source": []
  },
  {
   "cell_type": "code",
   "execution_count": null,
   "id": "a3edd57e",
   "metadata": {},
   "outputs": [
    {
     "data": {
      "text/plain": [
       "tensor([[ 1.0011,  0.0458,  0.0055],\n",
       "        [ 1.0001, -0.0142, -0.0087],\n",
       "        [ 1.0121,  0.1557,  0.0073],\n",
       "        [ 1.0099, -0.0979,  0.1019],\n",
       "        [ 1.0033,  0.0339,  0.0737],\n",
       "        [ 1.0008,  0.0300,  0.0255],\n",
       "        [ 1.0006,  0.0211,  0.0289],\n",
       "        [ 1.0040, -0.0701, -0.0553],\n",
       "        [ 1.0160,  0.1332, -0.1208],\n",
       "        [ 1.0026,  0.0174,  0.0700]], grad_fn=<CatBackward0>)"
      ]
     },
     "execution_count": 73,
     "metadata": {},
     "output_type": "execute_result"
    }
   ],
   "source": [
    "X1"
   ]
  },
  {
   "cell_type": "code",
   "execution_count": null,
   "id": "2ea982c6",
   "metadata": {},
   "outputs": [],
   "source": [
    "# make a stack of (10, 2, 2) from this\n",
    "my_stack = torch.stack([cov] * 10, dim=0)  # create a stack of 10 copies of cov"
   ]
  },
  {
   "cell_type": "code",
   "execution_count": null,
   "id": "8cb6c755",
   "metadata": {},
   "outputs": [
    {
     "data": {
      "text/plain": [
       "torch.Size([1, 10, 3])"
      ]
     },
     "execution_count": 66,
     "metadata": {},
     "output_type": "execute_result"
    }
   ],
   "source": [
    "torch.stack([M.mu0] * 10, dim=1).shape"
   ]
  },
  {
   "cell_type": "code",
   "execution_count": null,
   "id": "585ed32e",
   "metadata": {},
   "outputs": [
    {
     "data": {
      "text/plain": [
       "tensor([[1., 0., 0.]])"
      ]
     },
     "execution_count": 67,
     "metadata": {},
     "output_type": "execute_result"
    }
   ],
   "source": [
    "M.mu0"
   ]
  },
  {
   "cell_type": "code",
   "execution_count": null,
   "id": "72cdf03f",
   "metadata": {},
   "outputs": [
    {
     "data": {
      "text/plain": [
       "tensor([[1., 0., 0.],\n",
       "        [1., 0., 0.],\n",
       "        [1., 0., 0.],\n",
       "        [1., 0., 0.],\n",
       "        [1., 0., 0.],\n",
       "        [1., 0., 0.],\n",
       "        [1., 0., 0.],\n",
       "        [1., 0., 0.],\n",
       "        [1., 0., 0.],\n",
       "        [1., 0., 0.]])"
      ]
     },
     "execution_count": 70,
     "metadata": {},
     "output_type": "execute_result"
    }
   ],
   "source": [
    "torch.vstack([M.mu0] * 10)"
   ]
  },
  {
   "cell_type": "code",
   "execution_count": null,
   "id": "46564821",
   "metadata": {},
   "outputs": [
    {
     "ename": "IndexError",
     "evalue": "index 6 is out of bounds for dimension 0 with size 6",
     "output_type": "error",
     "traceback": [
      "\u001b[0;31m---------------------------------------------------------------------------\u001b[0m",
      "\u001b[0;31mIndexError\u001b[0m                                Traceback (most recent call last)",
      "Cell \u001b[0;32mIn[76], line 11\u001b[0m\n\u001b[1;32m      9\u001b[0m means \u001b[38;5;241m=\u001b[39m torch\u001b[38;5;241m.\u001b[39mvstack([pm\u001b[38;5;241m.\u001b[39mmu0] \u001b[38;5;241m*\u001b[39m \u001b[38;5;241m10\u001b[39m)\n\u001b[1;32m     10\u001b[0m covs \u001b[38;5;241m=\u001b[39m torch\u001b[38;5;241m.\u001b[39mstack([cov] \u001b[38;5;241m*\u001b[39m \u001b[38;5;241m10\u001b[39m)\n\u001b[0;32m---> 11\u001b[0m sigma_factorized \u001b[38;5;241m=\u001b[39m \u001b[43mpm\u001b[49m\u001b[38;5;241;43m.\u001b[39;49m\u001b[43mfactorize\u001b[49m\u001b[43m(\u001b[49m\u001b[43mcovs\u001b[49m\u001b[43m)\u001b[49m\n\u001b[1;32m     12\u001b[0m torch\u001b[38;5;241m.\u001b[39mrandom\u001b[38;5;241m.\u001b[39mmanual_seed(\u001b[38;5;241m42\u001b[39m)\n\u001b[1;32m     13\u001b[0m X1, _ \u001b[38;5;241m=\u001b[39m M\u001b[38;5;241m.\u001b[39msample(z_mean\u001b[38;5;241m=\u001b[39mmeans, sigma_factorized\u001b[38;5;241m=\u001b[39msigma_factorized)\n",
      "File \u001b[0;32m~/manify/manify/manifolds.py:537\u001b[0m, in \u001b[0;36mProductManifold.factorize\u001b[0;34m(self, X, intrinsic)\u001b[0m\n\u001b[1;32m    526\u001b[0m \u001b[38;5;250m\u001b[39m\u001b[38;5;124;03m\"\"\"\u001b[39;00m\n\u001b[1;32m    527\u001b[0m \u001b[38;5;124;03mFactorize the embeddings into the individual manifolds.\u001b[39;00m\n\u001b[1;32m    528\u001b[0m \n\u001b[0;32m   (...)\u001b[0m\n\u001b[1;32m    534\u001b[0m \u001b[38;5;124;03m    (List[Tensor]) list of tensors representing the factorized embeddings in each manifold.\u001b[39;00m\n\u001b[1;32m    535\u001b[0m \u001b[38;5;124;03m\"\"\"\u001b[39;00m\n\u001b[1;32m    536\u001b[0m dims_dict \u001b[38;5;241m=\u001b[39m \u001b[38;5;28mself\u001b[39m\u001b[38;5;241m.\u001b[39mman2intrinsic \u001b[38;5;28;01mif\u001b[39;00m intrinsic \u001b[38;5;28;01melse\u001b[39;00m \u001b[38;5;28mself\u001b[39m\u001b[38;5;241m.\u001b[39mman2dim\n\u001b[0;32m--> 537\u001b[0m \u001b[38;5;28;01mreturn\u001b[39;00m [X[\u001b[38;5;241m.\u001b[39m\u001b[38;5;241m.\u001b[39m\u001b[38;5;241m.\u001b[39m, dims_dict[i]] \u001b[38;5;28;01mfor\u001b[39;00m i \u001b[38;5;129;01min\u001b[39;00m \u001b[38;5;28mrange\u001b[39m(\u001b[38;5;28mlen\u001b[39m(\u001b[38;5;28mself\u001b[39m\u001b[38;5;241m.\u001b[39mP))]\n",
      "File \u001b[0;32m~/manify/manify/manifolds.py:537\u001b[0m, in \u001b[0;36m<listcomp>\u001b[0;34m(.0)\u001b[0m\n\u001b[1;32m    526\u001b[0m \u001b[38;5;250m\u001b[39m\u001b[38;5;124;03m\"\"\"\u001b[39;00m\n\u001b[1;32m    527\u001b[0m \u001b[38;5;124;03mFactorize the embeddings into the individual manifolds.\u001b[39;00m\n\u001b[1;32m    528\u001b[0m \n\u001b[0;32m   (...)\u001b[0m\n\u001b[1;32m    534\u001b[0m \u001b[38;5;124;03m    (List[Tensor]) list of tensors representing the factorized embeddings in each manifold.\u001b[39;00m\n\u001b[1;32m    535\u001b[0m \u001b[38;5;124;03m\"\"\"\u001b[39;00m\n\u001b[1;32m    536\u001b[0m dims_dict \u001b[38;5;241m=\u001b[39m \u001b[38;5;28mself\u001b[39m\u001b[38;5;241m.\u001b[39mman2intrinsic \u001b[38;5;28;01mif\u001b[39;00m intrinsic \u001b[38;5;28;01melse\u001b[39;00m \u001b[38;5;28mself\u001b[39m\u001b[38;5;241m.\u001b[39mman2dim\n\u001b[0;32m--> 537\u001b[0m \u001b[38;5;28;01mreturn\u001b[39;00m [\u001b[43mX\u001b[49m\u001b[43m[\u001b[49m\u001b[38;5;241;43m.\u001b[39;49m\u001b[38;5;241;43m.\u001b[39;49m\u001b[38;5;241;43m.\u001b[39;49m\u001b[43m,\u001b[49m\u001b[43m \u001b[49m\u001b[43mdims_dict\u001b[49m\u001b[43m[\u001b[49m\u001b[43mi\u001b[49m\u001b[43m]\u001b[49m\u001b[43m]\u001b[49m \u001b[38;5;28;01mfor\u001b[39;00m i \u001b[38;5;129;01min\u001b[39;00m \u001b[38;5;28mrange\u001b[39m(\u001b[38;5;28mlen\u001b[39m(\u001b[38;5;28mself\u001b[39m\u001b[38;5;241m.\u001b[39mP))]\n",
      "\u001b[0;31mIndexError\u001b[0m: index 6 is out of bounds for dimension 0 with size 6"
     ]
    }
   ],
   "source": [
    "from manify.manifolds import ProductManifold\n",
    "\n",
    "signature = [(-1, 2), (0, 2), (1, 2)]\n",
    "\n",
    "pm = ProductManifold(signature=signature)\n",
    "\n",
    "# get some vectors via gaussian mixture\n",
    "cov = torch.eye(pm.dim) / pm.dim / 100\n",
    "means = torch.vstack([pm.mu0] * 10)\n",
    "covs = torch.stack([cov] * 10)\n",
    "sigma_factorized = pm.factorize(covs)\n",
    "torch.random.manual_seed(42)\n",
    "X1, _ = M.sample(z_mean=means, sigma_factorized=sigma_factorized)\n",
    "X2, _ = M.sample(z_mean=means[:5], sigma=sigma_factorized[:5])"
   ]
  },
  {
   "cell_type": "code",
   "execution_count": null,
   "id": "77988096",
   "metadata": {},
   "outputs": [
    {
     "data": {
      "text/plain": [
       "[tensor([0.0017, 0.0000, 0.0000]),\n",
       " tensor([0., 0.]),\n",
       " tensor([0.0000, 0.0000, 0.0017])]"
      ]
     },
     "execution_count": 79,
     "metadata": {},
     "output_type": "execute_result"
    }
   ],
   "source": [
    "pm.factorize(covs.flatten())"
   ]
  },
  {
   "cell_type": "code",
   "execution_count": null,
   "id": "fff63623",
   "metadata": {},
   "outputs": [
    {
     "data": {
      "text/plain": [
       "tensor([[0.0017, 0.0000, 0.0000, 0.0000, 0.0000, 0.0000, 0.0000, 0.0017, 0.0000,\n",
       "         0.0000, 0.0000, 0.0000, 0.0000, 0.0000, 0.0017, 0.0000, 0.0000, 0.0000,\n",
       "         0.0000, 0.0000, 0.0000, 0.0017, 0.0000, 0.0000, 0.0000, 0.0000, 0.0000,\n",
       "         0.0000, 0.0017, 0.0000, 0.0000, 0.0000, 0.0000, 0.0000, 0.0000, 0.0017],\n",
       "        [0.0017, 0.0000, 0.0000, 0.0000, 0.0000, 0.0000, 0.0000, 0.0017, 0.0000,\n",
       "         0.0000, 0.0000, 0.0000, 0.0000, 0.0000, 0.0017, 0.0000, 0.0000, 0.0000,\n",
       "         0.0000, 0.0000, 0.0000, 0.0017, 0.0000, 0.0000, 0.0000, 0.0000, 0.0000,\n",
       "         0.0000, 0.0017, 0.0000, 0.0000, 0.0000, 0.0000, 0.0000, 0.0000, 0.0017],\n",
       "        [0.0017, 0.0000, 0.0000, 0.0000, 0.0000, 0.0000, 0.0000, 0.0017, 0.0000,\n",
       "         0.0000, 0.0000, 0.0000, 0.0000, 0.0000, 0.0017, 0.0000, 0.0000, 0.0000,\n",
       "         0.0000, 0.0000, 0.0000, 0.0017, 0.0000, 0.0000, 0.0000, 0.0000, 0.0000,\n",
       "         0.0000, 0.0017, 0.0000, 0.0000, 0.0000, 0.0000, 0.0000, 0.0000, 0.0017],\n",
       "        [0.0017, 0.0000, 0.0000, 0.0000, 0.0000, 0.0000, 0.0000, 0.0017, 0.0000,\n",
       "         0.0000, 0.0000, 0.0000, 0.0000, 0.0000, 0.0017, 0.0000, 0.0000, 0.0000,\n",
       "         0.0000, 0.0000, 0.0000, 0.0017, 0.0000, 0.0000, 0.0000, 0.0000, 0.0000,\n",
       "         0.0000, 0.0017, 0.0000, 0.0000, 0.0000, 0.0000, 0.0000, 0.0000, 0.0017],\n",
       "        [0.0017, 0.0000, 0.0000, 0.0000, 0.0000, 0.0000, 0.0000, 0.0017, 0.0000,\n",
       "         0.0000, 0.0000, 0.0000, 0.0000, 0.0000, 0.0017, 0.0000, 0.0000, 0.0000,\n",
       "         0.0000, 0.0000, 0.0000, 0.0017, 0.0000, 0.0000, 0.0000, 0.0000, 0.0000,\n",
       "         0.0000, 0.0017, 0.0000, 0.0000, 0.0000, 0.0000, 0.0000, 0.0000, 0.0017],\n",
       "        [0.0017, 0.0000, 0.0000, 0.0000, 0.0000, 0.0000, 0.0000, 0.0017, 0.0000,\n",
       "         0.0000, 0.0000, 0.0000, 0.0000, 0.0000, 0.0017, 0.0000, 0.0000, 0.0000,\n",
       "         0.0000, 0.0000, 0.0000, 0.0017, 0.0000, 0.0000, 0.0000, 0.0000, 0.0000,\n",
       "         0.0000, 0.0017, 0.0000, 0.0000, 0.0000, 0.0000, 0.0000, 0.0000, 0.0017],\n",
       "        [0.0017, 0.0000, 0.0000, 0.0000, 0.0000, 0.0000, 0.0000, 0.0017, 0.0000,\n",
       "         0.0000, 0.0000, 0.0000, 0.0000, 0.0000, 0.0017, 0.0000, 0.0000, 0.0000,\n",
       "         0.0000, 0.0000, 0.0000, 0.0017, 0.0000, 0.0000, 0.0000, 0.0000, 0.0000,\n",
       "         0.0000, 0.0017, 0.0000, 0.0000, 0.0000, 0.0000, 0.0000, 0.0000, 0.0017],\n",
       "        [0.0017, 0.0000, 0.0000, 0.0000, 0.0000, 0.0000, 0.0000, 0.0017, 0.0000,\n",
       "         0.0000, 0.0000, 0.0000, 0.0000, 0.0000, 0.0017, 0.0000, 0.0000, 0.0000,\n",
       "         0.0000, 0.0000, 0.0000, 0.0017, 0.0000, 0.0000, 0.0000, 0.0000, 0.0000,\n",
       "         0.0000, 0.0017, 0.0000, 0.0000, 0.0000, 0.0000, 0.0000, 0.0000, 0.0017],\n",
       "        [0.0017, 0.0000, 0.0000, 0.0000, 0.0000, 0.0000, 0.0000, 0.0017, 0.0000,\n",
       "         0.0000, 0.0000, 0.0000, 0.0000, 0.0000, 0.0017, 0.0000, 0.0000, 0.0000,\n",
       "         0.0000, 0.0000, 0.0000, 0.0017, 0.0000, 0.0000, 0.0000, 0.0000, 0.0000,\n",
       "         0.0000, 0.0017, 0.0000, 0.0000, 0.0000, 0.0000, 0.0000, 0.0000, 0.0017],\n",
       "        [0.0017, 0.0000, 0.0000, 0.0000, 0.0000, 0.0000, 0.0000, 0.0017, 0.0000,\n",
       "         0.0000, 0.0000, 0.0000, 0.0000, 0.0000, 0.0017, 0.0000, 0.0000, 0.0000,\n",
       "         0.0000, 0.0000, 0.0000, 0.0017, 0.0000, 0.0000, 0.0000, 0.0000, 0.0000,\n",
       "         0.0000, 0.0017, 0.0000, 0.0000, 0.0000, 0.0000, 0.0000, 0.0000, 0.0017]])"
      ]
     },
     "execution_count": 81,
     "metadata": {},
     "output_type": "execute_result"
    }
   ],
   "source": [
    "covs.reshape(10, -1)"
   ]
  },
  {
   "cell_type": "code",
   "execution_count": null,
   "id": "379de925",
   "metadata": {},
   "outputs": [
    {
     "name": "stdout",
     "output_type": "stream",
     "text": [
      "False\n",
      "True\n",
      "False\n",
      "False\n",
      "False\n",
      "True\n"
     ]
    }
   ],
   "source": [
    "for signature in [[(-1, 8)], [(0, 8)], [(1, 8)], [(-1, 8), (1, 8)], [(-1, 8), (0, 8), (1, 8)], [(0, 8), (0, 8)]]:\n",
    "    pm = ProductManifold(signature=signature)\n",
    "\n",
    "    # get some vectors via gaussian mixture\n",
    "    covs = [torch.stack([torch.eye(M.dim) / M.dim / 100] * 10) for M in pm.P]\n",
    "    means = torch.vstack([pm.mu0] * 10)\n",
    "    torch.random.manual_seed(42)\n",
    "    X1, _ = pm.sample(z_mean=means, sigma_factorized=covs)\n",
    "    X2, _ = pm.sample(z_mean=means[:5], sigma_factorized=[cov[:5] for cov in covs])\n",
    "\n",
    "    # Do attributes work correctly?\n",
    "    for M in pm.P:\n",
    "        curv = M.curvature\n",
    "        if curv < 0:\n",
    "            assert M.type == \"H\" and isinstance(M.manifold.base, geoopt.Lorentz)\n",
    "        elif curv == 0:\n",
    "            assert M.type == \"E\" and isinstance(M.manifold.base, geoopt.Euclidean)\n",
    "        else:\n",
    "            assert M.type == \"S\" and isinstance(M.manifold.base, geoopt.Sphere)\n",
    "\n",
    "    # _shared_tests(pm, X1, X2, is_euclidean=all(M.curvature == 0 for M in pm.P))\n",
    "    print(all(M.curvature == 0 for M in pm.P))"
   ]
  },
  {
   "cell_type": "code",
   "execution_count": null,
   "id": "86cae471",
   "metadata": {},
   "outputs": [],
   "source": [
    "pm = ProductManifold(signature=[(0, 8), (0, 8), (0, 8)])\n",
    "\n",
    "X, y = pm.gaussian_mixture()\n",
    "pm_stereo, X_stereo = pm.stereographic(X)\n",
    "_, X2 = pm_stereo.inverse_stereographic(X_stereo)"
   ]
  },
  {
   "cell_type": "code",
   "execution_count": null,
   "id": "9aebe177",
   "metadata": {},
   "outputs": [
    {
     "name": "stdout",
     "output_type": "stream",
     "text": [
      "Testing basic classifier functionality\n",
      "  Testing class: KappaGCN \n"
     ]
    },
    {
     "ename": "ValueError",
     "evalue": "ProductManifold must be stereographic for KappaGCN to work. Please use pm.stereographic() to convert.",
     "output_type": "error",
     "traceback": [
      "\u001b[0;31m---------------------------------------------------------------------------\u001b[0m",
      "\u001b[0;31mValueError\u001b[0m                                Traceback (most recent call last)",
      "Cell \u001b[0;32mIn[1], line 26\u001b[0m\n\u001b[1;32m     18\u001b[0m \u001b[38;5;28;01mfor\u001b[39;00m model_class, args \u001b[38;5;129;01min\u001b[39;00m [\n\u001b[1;32m     19\u001b[0m     \u001b[38;5;66;03m# ProductSpaceDT,\u001b[39;00m\n\u001b[1;32m     20\u001b[0m     \u001b[38;5;66;03m# ProductSpaceRF,\u001b[39;00m\n\u001b[0;32m   (...)\u001b[0m\n\u001b[1;32m     23\u001b[0m     (ProductSpaceSVM, {}),\n\u001b[1;32m     24\u001b[0m ]:\n\u001b[1;32m     25\u001b[0m     \u001b[38;5;28mprint\u001b[39m(\u001b[38;5;124mf\u001b[39m\u001b[38;5;124m\"\u001b[39m\u001b[38;5;124m  Testing class: \u001b[39m\u001b[38;5;132;01m{\u001b[39;00mmodel_class\u001b[38;5;241m.\u001b[39m\u001b[38;5;18m__name__\u001b[39m\u001b[38;5;132;01m}\u001b[39;00m\u001b[38;5;124m \u001b[39m\u001b[38;5;124m\"\u001b[39m)\n\u001b[0;32m---> 26\u001b[0m     model \u001b[38;5;241m=\u001b[39m \u001b[43mmodel_class\u001b[49m\u001b[43m(\u001b[49m\u001b[43mpm\u001b[49m\u001b[38;5;241;43m=\u001b[39;49m\u001b[43mpm\u001b[49m\u001b[43m,\u001b[49m\u001b[43m \u001b[49m\u001b[38;5;241;43m*\u001b[39;49m\u001b[38;5;241;43m*\u001b[39;49m\u001b[43margs\u001b[49m\u001b[43m)\u001b[49m\n\u001b[1;32m     27\u001b[0m     model\u001b[38;5;241m.\u001b[39mfit(X_train, y_train)\n\u001b[1;32m     29\u001b[0m     \u001b[38;5;66;03m# Predictions\u001b[39;00m\n",
      "File \u001b[0;32m~/manify/manify/predictors/kappa_gcn.py:184\u001b[0m, in \u001b[0;36mKappaGCN.__init__\u001b[0;34m(self, pm, output_dim, hidden_dims, nonlinearity, task)\u001b[0m\n\u001b[1;32m    182\u001b[0m \u001b[38;5;66;03m# Ensure pm is stereographic\u001b[39;00m\n\u001b[1;32m    183\u001b[0m \u001b[38;5;28;01mif\u001b[39;00m \u001b[38;5;129;01mnot\u001b[39;00m pm\u001b[38;5;241m.\u001b[39mis_stereographic:\n\u001b[0;32m--> 184\u001b[0m     \u001b[38;5;28;01mraise\u001b[39;00m \u001b[38;5;167;01mValueError\u001b[39;00m(\n\u001b[1;32m    185\u001b[0m         \u001b[38;5;124m\"\u001b[39m\u001b[38;5;124mProductManifold must be stereographic for KappaGCN to work. Please use pm.stereographic() to convert.\u001b[39m\u001b[38;5;124m\"\u001b[39m\n\u001b[1;32m    186\u001b[0m     )\n\u001b[1;32m    188\u001b[0m \u001b[38;5;66;03m# Hidden layers\u001b[39;00m\n\u001b[1;32m    189\u001b[0m \u001b[38;5;28;01mif\u001b[39;00m hidden_dims \u001b[38;5;129;01mis\u001b[39;00m \u001b[38;5;28;01mNone\u001b[39;00m:\n",
      "\u001b[0;31mValueError\u001b[0m: ProductManifold must be stereographic for KappaGCN to work. Please use pm.stereographic() to convert."
     ]
    }
   ],
   "source": [
    "import torch\n",
    "\n",
    "from sklearn.model_selection import train_test_split\n",
    "\n",
    "from manify.predictors.decision_tree import ProductSpaceDT, ProductSpaceRF\n",
    "from manify.predictors.kappa_gcn import KappaGCN\n",
    "from manify.predictors.perceptron import ProductSpacePerceptron\n",
    "from manify.predictors.svm import ProductSpaceSVM\n",
    "from manify.manifolds import ProductManifold\n",
    "\n",
    "\n",
    "print(\"Testing basic classifier functionality\")\n",
    "pm = ProductManifold(signature=[(-1, 2), (0, 2), (1, 2)])\n",
    "X, y = pm.gaussian_mixture(num_points=100, num_classes=2, seed=42)\n",
    "X_train, X_test, y_train, y_test = train_test_split(X, y, test_size=0.2, random_state=42)\n",
    "\n",
    "# Init models\n",
    "for model_class, args in [\n",
    "    # ProductSpaceDT,\n",
    "    # ProductSpaceRF,\n",
    "    (KappaGCN, {\"output_dim\": 2, \"hidden_dims\": [pm.dim, pm.dim]}),\n",
    "    (ProductSpacePerceptron, {}),\n",
    "    (ProductSpaceSVM, {}),\n",
    "]:\n",
    "    print(f\"  Testing class: {model_class.__name__} \")\n",
    "    model = model_class(pm=pm, **args)\n",
    "    model.fit(X_train, y_train)\n",
    "\n",
    "    # Predictions\n",
    "    preds = model.predict(X_test)\n",
    "    assert preds.shape[0] == X_test.shape[0], \"Predictions should match the number of test samples\"\n",
    "    assert preds.ndim == 1, \"Predictions should be a 1D array\"\n",
    "\n",
    "    # Probabilities\n",
    "    probs = model.predict_proba(X_test)\n",
    "    assert probs.shape == (X_test.shape[0], 2)\n",
    "    assert probs.ndim == 2, \"Probabilities should be a 2D array\"\n",
    "    assert torch.argmax(probs, dim=1) == preds\n",
    "\n",
    "    # Accuracies\n",
    "    accuracy = model.score(X_test, y_test)\n",
    "    assert torch.isclose(accuracy, (preds == y_test).float().mean(), atol=1e-5), \"Accuracy calculation mismatch\"\n",
    "    assert accuracy >= 0.5, f\"Model {model_class.__name__} did not achieve sufficient accuracy\""
   ]
  },
  {
   "cell_type": "code",
   "execution_count": null,
   "id": "ba416b24",
   "metadata": {},
   "outputs": [
    {
     "name": "stdout",
     "output_type": "stream",
     "text": [
      "Testing basic classifier functionality\n"
     ]
    },
    {
     "ename": "NameError",
     "evalue": "name 'ProductManifold' is not defined",
     "output_type": "error",
     "traceback": [
      "\u001b[0;31m---------------------------------------------------------------------------\u001b[0m",
      "\u001b[0;31mNameError\u001b[0m                                 Traceback (most recent call last)",
      "Cell \u001b[0;32mIn[2], line 4\u001b[0m\n\u001b[1;32m      1\u001b[0m \u001b[38;5;28;01mfrom\u001b[39;00m\u001b[38;5;250m \u001b[39m\u001b[38;5;21;01mmanify\u001b[39;00m\u001b[38;5;21;01m.\u001b[39;00m\u001b[38;5;21;01mpredictors\u001b[39;00m\u001b[38;5;21;01m.\u001b[39;00m\u001b[38;5;21;01mkappa_gcn\u001b[39;00m\u001b[38;5;250m \u001b[39m\u001b[38;5;28;01mimport\u001b[39;00m get_A_hat\n\u001b[1;32m      3\u001b[0m \u001b[38;5;28mprint\u001b[39m(\u001b[38;5;124m\"\u001b[39m\u001b[38;5;124mTesting basic classifier functionality\u001b[39m\u001b[38;5;124m\"\u001b[39m)\n\u001b[0;32m----> 4\u001b[0m pm \u001b[38;5;241m=\u001b[39m \u001b[43mProductManifold\u001b[49m(signature\u001b[38;5;241m=\u001b[39m[(\u001b[38;5;241m-\u001b[39m\u001b[38;5;241m1\u001b[39m, \u001b[38;5;241m2\u001b[39m), (\u001b[38;5;241m0\u001b[39m, \u001b[38;5;241m2\u001b[39m), (\u001b[38;5;241m1\u001b[39m, \u001b[38;5;241m2\u001b[39m)])\n\u001b[1;32m      5\u001b[0m X, y \u001b[38;5;241m=\u001b[39m pm\u001b[38;5;241m.\u001b[39mgaussian_mixture(num_points\u001b[38;5;241m=\u001b[39m\u001b[38;5;241m100\u001b[39m, num_classes\u001b[38;5;241m=\u001b[39m\u001b[38;5;241m2\u001b[39m, seed\u001b[38;5;241m=\u001b[39m\u001b[38;5;241m42\u001b[39m)\n\u001b[1;32m      6\u001b[0m X_train, X_test, y_train, y_test \u001b[38;5;241m=\u001b[39m train_test_split(X, y, test_size\u001b[38;5;241m=\u001b[39m\u001b[38;5;241m0.2\u001b[39m, random_state\u001b[38;5;241m=\u001b[39m\u001b[38;5;241m42\u001b[39m, stratify\u001b[38;5;241m=\u001b[39my)\n",
      "\u001b[0;31mNameError\u001b[0m: name 'ProductManifold' is not defined"
     ]
    }
   ],
   "source": [
    "from manify.predictors.kappa_gcn import get_A_hat\n",
    "\n",
    "print(\"Testing basic classifier functionality\")\n",
    "pm = ProductManifold(signature=[(-1, 2), (0, 2), (1, 2)])\n",
    "X, y = pm.gaussian_mixture(num_points=100, num_classes=2, seed=42)\n",
    "X_train, X_test, y_train, y_test = train_test_split(X, y, test_size=0.2, random_state=42, stratify=y)\n",
    "\n",
    "pm_stereo, X_train_stereo, X_test_stereo = pm.stereographic(X_train, X_test)\n",
    "kappa_gcn = KappaGCN(pm=pm_stereo, output_dim=2, hidden_dims=[pm.dim, pm.dim])\n",
    "\n",
    "\n",
    "X_train_kernel = torch.exp(-pm.pdist2(X_train))\n",
    "X_test_kernel = torch.exp(-pm.pdist2(X_test))\n",
    "A_train = get_A_hat(X_train_kernel)\n",
    "A_test = get_A_hat(X_test_kernel)\n",
    "kappa_gcn.fit(X_train, y_train, A=A_train, use_tqdm=False, epochs=100)"
   ]
  },
  {
   "cell_type": "code",
   "execution_count": null,
   "id": "23652091",
   "metadata": {},
   "outputs": [],
   "source": [
    "# Test decision tree\n",
    "import manify\n",
    "from sklearn.model_selection import train_test_split\n",
    "\n",
    "pm = manify.manifolds.ProductManifold(signature=[(-1, 2), (0, 2), (1, 2)])\n",
    "\n",
    "X, y = pm.gaussian_mixture(num_points=100, num_classes=2, seed=42)\n",
    "X_train, X_test, y_train, y_test = train_test_split(X, y, test_size=0.2, random_state=42, stratify=y)\n",
    "\n",
    "dt = manify.predictors.decision_tree.ProductSpaceDT(pm=pm, max_depth=3)\n",
    "dt.fit(X_train, y_train)"
   ]
  },
  {
   "cell_type": "code",
   "execution_count": null,
   "id": "28506b40",
   "metadata": {},
   "outputs": [
    {
     "data": {
      "text/plain": [
       "tensor([ True,  True,  True,  True, False,  True, False,  True,  True,  True,\n",
       "         True,  True, False,  True,  True,  True,  True,  True,  True,  True])"
      ]
     },
     "execution_count": 2,
     "metadata": {},
     "output_type": "execute_result"
    }
   ],
   "source": [
    "import manify.predictors\n",
    "\n",
    "\n",
    "rf = manify.predictors.decision_tree.ProductSpaceRF(pm=pm, max_depth=3, n_estimators=10)\n",
    "rf.fit(X_train, y_train)\n",
    "\n",
    "(rf.predict(X_test) == y_test)"
   ]
  },
  {
   "cell_type": "code",
   "execution_count": null,
   "id": "dc45504e",
   "metadata": {},
   "outputs": [
    {
     "data": {
      "text/plain": [
       "tensor([1, 1, 1, 1, 1, 1, 0, 1, 0, 0, 1, 1, 1, 1, 0, 1, 1, 1, 1, 1])"
      ]
     },
     "execution_count": 3,
     "metadata": {},
     "output_type": "execute_result"
    }
   ],
   "source": [
    "perceptron = manify.predictors.perceptron.ProductSpacePerceptron(pm=pm)\n",
    "\n",
    "perceptron.fit(X_train, y_train)\n",
    "perceptron.predict(X_test)"
   ]
  },
  {
   "cell_type": "code",
   "execution_count": null,
   "id": "adf7a26f",
   "metadata": {},
   "outputs": [
    {
     "ename": "SyntaxError",
     "evalue": "invalid syntax. Perhaps you forgot a comma? (1149281247.py, line 1)",
     "output_type": "error",
     "traceback": [
      "\u001b[0;36m  Cell \u001b[0;32mIn[4], line 1\u001b[0;36m\u001b[0m\n\u001b[0;31m    perceptron.alpha[]\u001b[0m\n\u001b[0m    ^\u001b[0m\n\u001b[0;31mSyntaxError\u001b[0m\u001b[0;31m:\u001b[0m invalid syntax. Perhaps you forgot a comma?\n"
     ]
    }
   ],
   "source": [
    "perceptron.alpha[]"
   ]
  },
  {
   "cell_type": "code",
   "execution_count": null,
   "id": "35cb5bad",
   "metadata": {},
   "outputs": [
    {
     "data": {
      "application/vnd.jupyter.widget-view+json": {
       "model_id": "ec1825ee239a40dfafde2072bee60eb7",
       "version_major": 2,
       "version_minor": 0
      },
      "text/plain": [
       "README.md:   0%|          | 0.00/596 [00:00<?, ?B/s]"
      ]
     },
     "metadata": {},
     "output_type": "display_data"
    },
    {
     "data": {
      "application/vnd.jupyter.widget-view+json": {
       "model_id": "37039053ef7d4bd2998b345a53f94981",
       "version_major": 2,
       "version_minor": 0
      },
      "text/plain": [
       "train-00000-of-00001.parquet:   0%|          | 0.00/2.72M [00:00<?, ?B/s]"
      ]
     },
     "metadata": {},
     "output_type": "display_data"
    },
    {
     "data": {
      "application/vnd.jupyter.widget-view+json": {
       "model_id": "d26d66b8448e4f419bcb27cced30057e",
       "version_major": 2,
       "version_minor": 0
      },
      "text/plain": [
       "Generating train split:   0%|          | 0/1 [00:00<?, ? examples/s]"
      ]
     },
     "metadata": {},
     "output_type": "display_data"
    }
   ],
   "source": [
    "import manify\n",
    "\n",
    "a, b, c, d = manify.utils.dataloaders.load_hf(\"cora\")"
   ]
  },
  {
   "cell_type": "code",
   "execution_count": null,
   "id": "e4c9f312",
   "metadata": {},
   "outputs": [
    {
     "name": "stdout",
     "output_type": "stream",
     "text": [
      "features None\n",
      "dists torch.Size([2485, 2485])\n",
      "labels torch.Size([2485, 2485])\n",
      "adjacency torch.Size([2485])\n"
     ]
    }
   ],
   "source": [
    "for name, x in zip([\"features\", \"dists\", \"labels\", \"adjacency\"], [a, b, c, d]):\n",
    "    try:\n",
    "        print(name, x.shape)\n",
    "    except Exception:\n",
    "        print(name, \"None\")"
   ]
  },
  {
   "cell_type": "code",
   "execution_count": null,
   "id": "4f754422",
   "metadata": {},
   "outputs": [
    {
     "data": {
      "application/vnd.jupyter.widget-view+json": {
       "model_id": "cf517755bbb14bfdb5ce795950d3b4c0",
       "version_major": 2,
       "version_minor": 0
      },
      "text/plain": [
       "  0%|          | 0/100 [00:00<?, ?it/s]"
      ]
     },
     "metadata": {},
     "output_type": "display_data"
    },
    {
     "data": {
      "text/plain": [
       "{'train_train': [407.38525390625,\n",
       "  406.9979248046875,\n",
       "  406.6103515625,\n",
       "  406.222412109375,\n",
       "  405.83416748046875,\n",
       "  405.4454650878906,\n",
       "  405.05657958984375,\n",
       "  404.6674499511719,\n",
       "  404.28057861328125,\n",
       "  403.893310546875,\n",
       "  403.50567626953125,\n",
       "  399.615966796875,\n",
       "  395.69378662109375,\n",
       "  391.74444580078125,\n",
       "  387.99896240234375,\n",
       "  384.5290832519531,\n",
       "  381.21240234375,\n",
       "  377.8980407714844,\n",
       "  374.60894775390625,\n",
       "  371.4312438964844,\n",
       "  368.331298828125,\n",
       "  365.3991394042969,\n",
       "  362.5733947753906,\n",
       "  359.8371887207031,\n",
       "  357.2330322265625,\n",
       "  354.6155090332031,\n",
       "  351.9755859375,\n",
       "  349.33917236328125,\n",
       "  346.822021484375,\n",
       "  344.3118896484375,\n",
       "  341.82952880859375,\n",
       "  339.3853759765625,\n",
       "  336.925537109375,\n",
       "  334.455810546875,\n",
       "  331.9468994140625,\n",
       "  329.4891662597656,\n",
       "  327.0758972167969,\n",
       "  324.71466064453125,\n",
       "  322.3912353515625,\n",
       "  320.1859436035156,\n",
       "  317.9987487792969,\n",
       "  315.8346862792969,\n",
       "  313.648681640625,\n",
       "  311.5186767578125,\n",
       "  309.3787536621094,\n",
       "  307.2815246582031,\n",
       "  305.29876708984375,\n",
       "  303.319091796875,\n",
       "  301.3406982421875,\n",
       "  299.4322814941406,\n",
       "  297.60626220703125,\n",
       "  295.8001708984375,\n",
       "  293.9999084472656,\n",
       "  292.1712646484375,\n",
       "  290.322509765625,\n",
       "  288.53533935546875,\n",
       "  286.7626647949219,\n",
       "  285.0417175292969,\n",
       "  283.3115234375,\n",
       "  281.5830078125,\n",
       "  279.8786315917969,\n",
       "  278.1510925292969,\n",
       "  276.4441833496094,\n",
       "  274.73138427734375,\n",
       "  273.07421875,\n",
       "  271.4198303222656,\n",
       "  269.7965087890625,\n",
       "  268.1746826171875,\n",
       "  266.581787109375,\n",
       "  265.041259765625,\n",
       "  263.49505615234375,\n",
       "  261.99810791015625,\n",
       "  260.592529296875,\n",
       "  259.21380615234375,\n",
       "  257.8529052734375,\n",
       "  256.4649353027344,\n",
       "  255.08665466308594,\n",
       "  253.71878051757812,\n",
       "  252.32864379882812,\n",
       "  250.95248413085938,\n",
       "  249.59439086914062,\n",
       "  248.2535400390625,\n",
       "  246.91815185546875,\n",
       "  245.5960235595703,\n",
       "  244.32107543945312,\n",
       "  243.0702667236328,\n",
       "  241.84066772460938,\n",
       "  240.5913543701172,\n",
       "  239.3257293701172,\n",
       "  238.10328674316406,\n",
       "  236.8737030029297,\n",
       "  235.6004638671875,\n",
       "  234.31964111328125,\n",
       "  233.096435546875,\n",
       "  231.86961364746094,\n",
       "  230.6658935546875,\n",
       "  229.5022430419922,\n",
       "  228.34683227539062,\n",
       "  227.1968231201172,\n",
       "  226.04092407226562],\n",
       " 'test_test': [],\n",
       " 'train_test': [],\n",
       " 'total': [407.38525390625,\n",
       "  406.9979248046875,\n",
       "  406.6103515625,\n",
       "  406.222412109375,\n",
       "  405.83416748046875,\n",
       "  405.4454650878906,\n",
       "  405.05657958984375,\n",
       "  404.6674499511719,\n",
       "  404.28057861328125,\n",
       "  403.893310546875,\n",
       "  403.50567626953125,\n",
       "  399.615966796875,\n",
       "  395.69378662109375,\n",
       "  391.74444580078125,\n",
       "  387.99896240234375,\n",
       "  384.5290832519531,\n",
       "  381.21240234375,\n",
       "  377.8980407714844,\n",
       "  374.60894775390625,\n",
       "  371.4312438964844,\n",
       "  368.331298828125,\n",
       "  365.3991394042969,\n",
       "  362.5733947753906,\n",
       "  359.8371887207031,\n",
       "  357.2330322265625,\n",
       "  354.6155090332031,\n",
       "  351.9755859375,\n",
       "  349.33917236328125,\n",
       "  346.822021484375,\n",
       "  344.3118896484375,\n",
       "  341.82952880859375,\n",
       "  339.3853759765625,\n",
       "  336.925537109375,\n",
       "  334.455810546875,\n",
       "  331.9468994140625,\n",
       "  329.4891662597656,\n",
       "  327.0758972167969,\n",
       "  324.71466064453125,\n",
       "  322.3912353515625,\n",
       "  320.1859436035156,\n",
       "  317.9987487792969,\n",
       "  315.8346862792969,\n",
       "  313.648681640625,\n",
       "  311.5186767578125,\n",
       "  309.3787536621094,\n",
       "  307.2815246582031,\n",
       "  305.29876708984375,\n",
       "  303.319091796875,\n",
       "  301.3406982421875,\n",
       "  299.4322814941406,\n",
       "  297.60626220703125,\n",
       "  295.8001708984375,\n",
       "  293.9999084472656,\n",
       "  292.1712646484375,\n",
       "  290.322509765625,\n",
       "  288.53533935546875,\n",
       "  286.7626647949219,\n",
       "  285.0417175292969,\n",
       "  283.3115234375,\n",
       "  281.5830078125,\n",
       "  279.8786315917969,\n",
       "  278.1510925292969,\n",
       "  276.4441833496094,\n",
       "  274.73138427734375,\n",
       "  273.07421875,\n",
       "  271.4198303222656,\n",
       "  269.7965087890625,\n",
       "  268.1746826171875,\n",
       "  266.581787109375,\n",
       "  265.041259765625,\n",
       "  263.49505615234375,\n",
       "  261.99810791015625,\n",
       "  260.592529296875,\n",
       "  259.21380615234375,\n",
       "  257.8529052734375,\n",
       "  256.4649353027344,\n",
       "  255.08665466308594,\n",
       "  253.71878051757812,\n",
       "  252.32864379882812,\n",
       "  250.95248413085938,\n",
       "  249.59439086914062,\n",
       "  248.2535400390625,\n",
       "  246.91815185546875,\n",
       "  245.5960235595703,\n",
       "  244.32107543945312,\n",
       "  243.0702667236328,\n",
       "  241.84066772460938,\n",
       "  240.5913543701172,\n",
       "  239.3257293701172,\n",
       "  238.10328674316406,\n",
       "  236.8737030029297,\n",
       "  235.6004638671875,\n",
       "  234.31964111328125,\n",
       "  233.096435546875,\n",
       "  231.86961364746094,\n",
       "  230.6658935546875,\n",
       "  229.5022430419922,\n",
       "  228.34683227539062,\n",
       "  227.1968231201172,\n",
       "  226.04092407226562]}"
      ]
     },
     "execution_count": 2,
     "metadata": {},
     "output_type": "execute_result"
    }
   ],
   "source": [
    "import manify\n",
    "\n",
    "# Load karate club dataset\n",
    "_, dists, adj, _ = manify.utils.dataloaders.load_hf(\"karate_club\")\n",
    "pm = manify.manifolds.ProductManifold(signature=[(-1, 2), (0, 2), (1, 2)])\n",
    "\n",
    "# Run without train_test_split\n",
    "X, losses = manify.embedders.coordinate_learning.train_coords(\n",
    "    pm=pm, dists=dists, burn_in_iterations=10, training_iterations=90\n",
    ")\n",
    "losses"
   ]
  },
  {
   "cell_type": "code",
   "execution_count": null,
   "id": "1b49c6c6",
   "metadata": {},
   "outputs": [
    {
     "data": {
      "application/vnd.jupyter.widget-view+json": {
       "model_id": "a61ffd27fd13481a9faa4e2b026ab8e1",
       "version_major": 2,
       "version_minor": 0
      },
      "text/plain": [
       "ambient_mlp:   0%|          | 0/10 [00:00<?, ?it/s]"
      ]
     },
     "metadata": {},
     "output_type": "display_data"
    },
    {
     "data": {
      "application/vnd.jupyter.widget-view+json": {
       "model_id": "3ec43cf9e553487f9f347284b47329d1",
       "version_major": 2,
       "version_minor": 0
      },
      "text/plain": [
       "  0%|          | 0/10 [00:00<?, ?it/s]"
      ]
     },
     "metadata": {},
     "output_type": "display_data"
    },
    {
     "data": {
      "application/vnd.jupyter.widget-view+json": {
       "model_id": "7a1376c0cc58401ab399b8c587d1e304",
       "version_major": 2,
       "version_minor": 0
      },
      "text/plain": [
       "tangent_gcn:   0%|          | 0/10 [00:00<?, ?it/s]"
      ]
     },
     "metadata": {},
     "output_type": "display_data"
    },
    {
     "data": {
      "application/vnd.jupyter.widget-view+json": {
       "model_id": "a678d09a8d80476cb933342000a9cdce",
       "version_major": 2,
       "version_minor": 0
      },
      "text/plain": [
       "kappa_gcn:   0%|          | 0/10 [00:00<?, ?it/s]"
      ]
     },
     "metadata": {},
     "output_type": "display_data"
    },
    {
     "data": {
      "application/vnd.jupyter.widget-view+json": {
       "model_id": "b9f23ba6045e4dafa011b84a1f195fbb",
       "version_major": 2,
       "version_minor": 0
      },
      "text/plain": [
       "kappa_mlr:   0%|          | 0/10 [00:00<?, ?it/s]"
      ]
     },
     "metadata": {},
     "output_type": "display_data"
    },
    {
     "data": {
      "application/vnd.jupyter.widget-view+json": {
       "model_id": "cfcbe90258b948709d13870ddb185924",
       "version_major": 2,
       "version_minor": 0
      },
      "text/plain": [
       "tangent_mlr:   0%|          | 0/10 [00:00<?, ?it/s]"
      ]
     },
     "metadata": {},
     "output_type": "display_data"
    },
    {
     "data": {
      "application/vnd.jupyter.widget-view+json": {
       "model_id": "d95459861fa34b58896709b3620e6814",
       "version_major": 2,
       "version_minor": 0
      },
      "text/plain": [
       "ambient_mlr:   0%|          | 0/10 [00:00<?, ?it/s]"
      ]
     },
     "metadata": {},
     "output_type": "display_data"
    }
   ],
   "source": [
    "pm = manify.manifolds.ProductManifold(signature=[(-1, 4), (-1, 2), (0, 2), (1, 2), (1, 4)])\n",
    "X, y = pm.gaussian_mixture(num_points=100)\n",
    "out = manify.utils.benchmarks.benchmark(X, y, pm, task=\"classification\", epochs=10)"
   ]
  },
  {
   "cell_type": "code",
   "execution_count": null,
   "id": "0eb1b3ea",
   "metadata": {},
   "outputs": [
    {
     "data": {
      "text/plain": [
       "dict_keys(['sklearn_dt_accuracy', 'sklearn_dt_f1-micro', 'sklearn_dt_f1-macro', 'sklearn_dt_time', 'sklearn_rf_accuracy', 'sklearn_rf_f1-micro', 'sklearn_rf_f1-macro', 'sklearn_rf_time', 'product_dt_accuracy', 'product_dt_f1-micro', 'product_dt_f1-macro', 'product_dt_time', 'product_rf_accuracy', 'product_rf_f1-micro', 'product_rf_f1-macro', 'product_rf_time', 'tangent_dt_accuracy', 'tangent_dt_f1-micro', 'tangent_dt_f1-macro', 'tangent_dt_time', 'tangent_rf_accuracy', 'tangent_rf_f1-micro', 'tangent_rf_f1-macro', 'tangent_rf_time', 'knn_accuracy', 'knn_f1-micro', 'knn_f1-macro', 'knn_time', 'ps_perceptron_accuracy', 'ps_perceptron_f1-micro', 'ps_perceptron_f1-macro', 'ps_perceptron_time', 'ambient_mlp_accuracy', 'ambient_mlp_f1-micro', 'ambient_mlp_f1-macro', 'ambient_mlp_time', 'ambient_gcn_accuracy', 'ambient_gcn_f1-micro', 'ambient_gcn_f1-macro', 'ambient_gcn_time', 'tangent_gcn_accuracy', 'tangent_gcn_f1-micro', 'tangent_gcn_f1-macro', 'tangent_gcn_time', 'kappa_gcn_accuracy', 'kappa_gcn_f1-micro', 'kappa_gcn_f1-macro', 'kappa_gcn_time', 'kappa_mlr_accuracy', 'kappa_mlr_f1-micro', 'kappa_mlr_f1-macro', 'kappa_mlr_time', 'tangent_mlr_accuracy', 'tangent_mlr_f1-micro', 'tangent_mlr_f1-macro', 'tangent_mlr_time', 'ambient_mlr_accuracy', 'ambient_mlr_f1-micro', 'ambient_mlr_f1-macro', 'ambient_mlr_time'])"
      ]
     },
     "execution_count": 5,
     "metadata": {},
     "output_type": "execute_result"
    }
   ],
   "source": [
    "out.keys()\n",
    "set"
   ]
  },
  {
   "cell_type": "code",
   "execution_count": null,
   "id": "ac008728",
   "metadata": {},
   "outputs": [
    {
     "data": {
      "text/plain": [
       "True"
      ]
     },
     "execution_count": 7,
     "metadata": {},
     "output_type": "execute_result"
    }
   ],
   "source": [
    "target_keys = set(\n",
    "    [\n",
    "        \"sklearn_dt_accuracy\",\n",
    "        \"sklearn_dt_f1-micro\",\n",
    "        \"sklearn_dt_f1-macro\",\n",
    "        \"sklearn_dt_time\",\n",
    "        \"sklearn_rf_accuracy\",\n",
    "        \"sklearn_rf_f1-micro\",\n",
    "        \"sklearn_rf_f1-macro\",\n",
    "        \"sklearn_rf_time\",\n",
    "        \"product_dt_accuracy\",\n",
    "        \"product_dt_f1-micro\",\n",
    "        \"product_dt_f1-macro\",\n",
    "        \"product_dt_time\",\n",
    "        \"product_rf_accuracy\",\n",
    "        \"product_rf_f1-micro\",\n",
    "        \"product_rf_f1-macro\",\n",
    "        \"product_rf_time\",\n",
    "        \"tangent_dt_accuracy\",\n",
    "        \"tangent_dt_f1-micro\",\n",
    "        \"tangent_dt_f1-macro\",\n",
    "        \"tangent_dt_time\",\n",
    "        \"tangent_rf_accuracy\",\n",
    "        \"tangent_rf_f1-micro\",\n",
    "        \"tangent_rf_f1-macro\",\n",
    "        \"tangent_rf_time\",\n",
    "        \"knn_accuracy\",\n",
    "        \"knn_f1-micro\",\n",
    "        \"knn_f1-macro\",\n",
    "        \"knn_time\",\n",
    "        \"ps_perceptron_accuracy\",\n",
    "        \"ps_perceptron_f1-micro\",\n",
    "        \"ps_perceptron_f1-macro\",\n",
    "        \"ps_perceptron_time\",\n",
    "        \"ambient_mlp_accuracy\",\n",
    "        \"ambient_mlp_f1-micro\",\n",
    "        \"ambient_mlp_f1-macro\",\n",
    "        \"ambient_mlp_time\",\n",
    "        \"ambient_gcn_accuracy\",\n",
    "        \"ambient_gcn_f1-micro\",\n",
    "        \"ambient_gcn_f1-macro\",\n",
    "        \"ambient_gcn_time\",\n",
    "        \"tangent_gcn_accuracy\",\n",
    "        \"tangent_gcn_f1-micro\",\n",
    "        \"tangent_gcn_f1-macro\",\n",
    "        \"tangent_gcn_time\",\n",
    "        \"kappa_gcn_accuracy\",\n",
    "        \"kappa_gcn_f1-micro\",\n",
    "        \"kappa_gcn_f1-macro\",\n",
    "        \"kappa_gcn_time\",\n",
    "        \"kappa_mlr_accuracy\",\n",
    "        \"kappa_mlr_f1-micro\",\n",
    "        \"kappa_mlr_f1-macro\",\n",
    "        \"kappa_mlr_time\",\n",
    "        \"tangent_mlr_accuracy\",\n",
    "        \"tangent_mlr_f1-micro\",\n",
    "        \"tangent_mlr_f1-macro\",\n",
    "        \"tangent_mlr_time\",\n",
    "        \"ambient_mlr_accuracy\",\n",
    "        \"ambient_mlr_f1-micro\",\n",
    "        \"ambient_mlr_f1-macro\",\n",
    "        \"ambient_mlr_time\",\n",
    "    ]\n",
    ")\n",
    "\n",
    "target_keys == out.keys()"
   ]
  },
  {
   "cell_type": "code",
   "execution_count": null,
   "id": "0aef49a0",
   "metadata": {},
   "outputs": [
    {
     "ename": "AssertionError",
     "evalue": "Sampled deltas should be close to vectorized deltas.",
     "output_type": "error",
     "traceback": [
      "\u001b[0;31m---------------------------------------------------------------------------\u001b[0m",
      "\u001b[0;31mAssertionError\u001b[0m                            Traceback (most recent call last)",
      "Cell \u001b[0;32mIn[9], line 38\u001b[0m\n\u001b[1;32m     36\u001b[0m \u001b[38;5;28;01massert\u001b[39;00m (sampled_deltas \u001b[38;5;241m>\u001b[39m\u001b[38;5;241m=\u001b[39m \u001b[38;5;241m-\u001b[39m\u001b[38;5;241m2\u001b[39m)\u001b[38;5;241m.\u001b[39mall(), \u001b[38;5;124m\"\u001b[39m\u001b[38;5;124mSampled deltas should be in the range [-2, 1]\u001b[39m\u001b[38;5;124m\"\u001b[39m\n\u001b[1;32m     37\u001b[0m \u001b[38;5;28;01massert\u001b[39;00m sampled_deltas\u001b[38;5;241m.\u001b[39mshape \u001b[38;5;241m==\u001b[39m (\u001b[38;5;241m10\u001b[39m,), \u001b[38;5;124m\"\u001b[39m\u001b[38;5;124mThere should be 10 sampled deltas\u001b[39m\u001b[38;5;124m\"\u001b[39m\n\u001b[0;32m---> 38\u001b[0m \u001b[38;5;28;01massert\u001b[39;00m torch\u001b[38;5;241m.\u001b[39mallclose(\n\u001b[1;32m     39\u001b[0m     sampled_deltas, vectorized_deltas[indices], atol\u001b[38;5;241m=\u001b[39m\u001b[38;5;241m1e-5\u001b[39m\n\u001b[1;32m     40\u001b[0m ), \u001b[38;5;124m\"\u001b[39m\u001b[38;5;124mSampled deltas should be close to vectorized deltas.\u001b[39m\u001b[38;5;124m\"\u001b[39m\n",
      "\u001b[0;31mAssertionError\u001b[0m: Sampled deltas should be close to vectorized deltas."
     ]
    }
   ],
   "source": [
    "from manify.curvature_estimation.delta_hyperbolicity import (\n",
    "    iterative_delta_hyperbolicity,\n",
    "    sampled_delta_hyperbolicity,\n",
    "    delta_hyperbolicity,\n",
    ")\n",
    "from manify.manifolds import ProductManifold\n",
    "import torch\n",
    "\n",
    "\n",
    "torch.manual_seed(42)\n",
    "pm = ProductManifold(signature=[(-1, 2)])\n",
    "X, _ = pm.sample(z_mean=torch.stack([pm.mu0] * 10))\n",
    "dists = pm.pdist(X)\n",
    "dists_max = dists.max()\n",
    "\n",
    "# Iterative deltas\n",
    "iterative_deltas, gromov_products = iterative_delta_hyperbolicity(dists, relative=True)\n",
    "assert (gromov_products >= 0).all()\n",
    "assert (gromov_products <= dists_max).all()\n",
    "assert (iterative_deltas <= 1).all(), \"Deltas should be in the range [-2, 1]\"\n",
    "assert (iterative_deltas >= -2).all(), \"Deltas should be in the range [-2, 1]\"\n",
    "assert iterative_deltas.shape == (10, 10, 10)\n",
    "\n",
    "# Vectorized deltas\n",
    "vectorized_deltas = delta_hyperbolicity(dists, full=True, relative=True)\n",
    "assert (vectorized_deltas <= 1).all(), \"Deltas should be in the range [-2, 1]\"\n",
    "assert (vectorized_deltas >= -2).all(), \"Deltas should be in the range [-2, 1]\"\n",
    "assert vectorized_deltas.shape == (10, 10, 10)\n",
    "assert torch.allclose(\n",
    "    vectorized_deltas, iterative_deltas, atol=1e-5\n",
    "), \"Vectorized deltas should be close to iterative deltas.\"\n",
    "\n",
    "# Sampled deltas\n",
    "sampled_deltas, indices = sampled_delta_hyperbolicity(dists, n_samples=10, relative=True)\n",
    "assert (sampled_deltas <= 1).all(), \"Sampled deltas should be in the range [-2, 1]\"\n",
    "assert (sampled_deltas >= -2).all(), \"Sampled deltas should be in the range [-2, 1]\"\n",
    "assert sampled_deltas.shape == (10,), \"There should be 10 sampled deltas\"\n",
    "assert torch.allclose(\n",
    "    sampled_deltas, vectorized_deltas[indices], atol=1e-5\n",
    "), \"Sampled deltas should be close to vectorized deltas.\""
   ]
  },
  {
   "cell_type": "code",
   "execution_count": null,
   "id": "8ae24ccd",
   "metadata": {},
   "outputs": [
    {
     "data": {
      "text/plain": [
       "tensor([ 0.1396,  0.0000, -0.3900,  0.0000,  0.0000, -1.2526, -0.2728,  0.0000,\n",
       "         0.0000,  0.0000], grad_fn=<DivBackward0>)"
      ]
     },
     "execution_count": 10,
     "metadata": {},
     "output_type": "execute_result"
    }
   ],
   "source": [
    "sampled_deltas"
   ]
  },
  {
   "cell_type": "code",
   "execution_count": null,
   "id": "b67286d0",
   "metadata": {},
   "outputs": [
    {
     "data": {
      "text/plain": [
       "tensor([ 0.1396,  0.0000, -0.3900,  0.0000,  0.0000, -1.2526, -0.2728,  0.0000,\n",
       "         0.0000,  0.0000], grad_fn=<IndexBackward0>)"
      ]
     },
     "execution_count": 13,
     "metadata": {},
     "output_type": "execute_result"
    }
   ],
   "source": []
  },
  {
   "cell_type": "code",
   "execution_count": null,
   "id": "56b70c36",
   "metadata": {},
   "outputs": [
    {
     "name": "stdout",
     "output_type": "stream",
     "text": [
      "torch.Size([100, 2])\n",
      "torch.Size([100])\n"
     ]
    }
   ],
   "source": [
    "import manify\n",
    "\n",
    "pm = manify.ProductManifold(signature=[(-1, 2), (0, 2), (1, 2)])\n",
    "X, y = pm.gaussian_mixture(num_points=100, num_classes=2, seed=42)\n",
    "\n",
    "rf = manify.predictors.decision_tree.ProductSpaceRF(pm=pm, max_depth=3, n_estimators=10)\n",
    "rf.fit(X, y)\n",
    "print(rf.predict_proba(X).shape)\n",
    "print(rf.predict(X).shape)"
   ]
  },
  {
   "cell_type": "code",
   "execution_count": null,
   "id": "d28b36f6",
   "metadata": {},
   "outputs": [
    {
     "name": "stdout",
     "output_type": "stream",
     "text": [
      "torch.Size([100, 2])\n"
     ]
    }
   ],
   "source": [
    "import manify\n",
    "\n",
    "pm = manify.ProductManifold(signature=[(-1, 2), (0, 2), (1, 2)])\n",
    "X, y = pm.gaussian_mixture(num_points=100, num_classes=2, seed=42)\n",
    "\n",
    "pn = manify.ProductSpacePerceptron(pm=pm)\n",
    "pn.fit(X, y)\n",
    "print(pn.predict_proba(X).shape)\n",
    "# print(pn.predict(X).shape)"
   ]
  },
  {
   "cell_type": "code",
   "execution_count": null,
   "id": "6a72e2f3",
   "metadata": {},
   "outputs": [
    {
     "data": {
      "application/vnd.jupyter.widget-view+json": {
       "model_id": "8f892c7fca2a47bb909b569302bd60b8",
       "version_major": 2,
       "version_minor": 0
      },
      "text/plain": [
       "  0%|          | 0/2000 [00:00<?, ?it/s]"
      ]
     },
     "metadata": {},
     "output_type": "display_data"
    },
    {
     "name": "stdout",
     "output_type": "stream",
     "text": [
      "torch.Size([100, 2])\n"
     ]
    }
   ],
   "source": [
    "import manify\n",
    "\n",
    "pm = manify.ProductManifold(signature=[(-1, 2), (0, 2), (1, 2)])\n",
    "X, y = pm.gaussian_mixture(num_points=100, num_classes=2, seed=42)\n",
    "\n",
    "pm, X = pm.stereographic(X)\n",
    "\n",
    "kg = manify.KappaGCN(pm=pm, output_dim=2)\n",
    "kg.fit(X, y)\n",
    "print(kg.predict_proba(X).shape)\n",
    "# print(kg.predict(X).shape)"
   ]
  },
  {
   "cell_type": "code",
   "execution_count": 1,
   "id": "bf731c2f",
   "metadata": {},
   "outputs": [],
   "source": [
    "%load_ext autoreload\n",
    "%autoreload 2"
   ]
  },
  {
   "cell_type": "code",
   "execution_count": 2,
   "id": "0bade46e",
   "metadata": {},
   "outputs": [
    {
     "name": "stdout",
     "output_type": "stream",
     "text": [
      "torch.Size([100, 2])\n"
     ]
    }
   ],
   "source": [
    "import manify\n",
    "\n",
    "pm = manify.ProductManifold(signature=[(-1, 2), (0, 2), (1, 2)])\n",
    "X, y = pm.gaussian_mixture(num_points=100, num_classes=2, seed=42)\n",
    "\n",
    "svm = manify.ProductSpaceSVM(pm=pm)\n",
    "svm.fit(X, y)\n",
    "print(svm.predict_proba(X).shape)"
   ]
  },
  {
   "cell_type": "code",
   "execution_count": 6,
   "id": "ee419786",
   "metadata": {},
   "outputs": [
    {
     "data": {
      "text/plain": [
       "tensor(1.)"
      ]
     },
     "execution_count": 6,
     "metadata": {},
     "output_type": "execute_result"
    }
   ],
   "source": [
    "(svm.predict(X) == y).float().mean()"
   ]
  },
  {
   "cell_type": "code",
   "execution_count": null,
   "id": "0441a754",
   "metadata": {},
   "outputs": [],
   "source": []
  }
 ],
 "metadata": {
  "kernelspec": {
   "display_name": "manify",
   "language": "python",
   "name": "python3"
  },
  "language_info": {
   "codemirror_mode": {
    "name": "ipython",
    "version": 3
   },
   "file_extension": ".py",
   "mimetype": "text/x-python",
   "name": "python",
   "nbconvert_exporter": "python",
   "pygments_lexer": "ipython3",
   "version": "3.12.0"
  }
 },
 "nbformat": 4,
 "nbformat_minor": 5
}
