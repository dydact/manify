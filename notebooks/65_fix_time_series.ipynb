{
 "cells": [
  {
   "cell_type": "code",
   "execution_count": 1,
   "id": "5d29fbd2",
   "metadata": {},
   "outputs": [],
   "source": [
    "%load_ext autoreload\n",
    "%autoreload 2"
   ]
  },
  {
   "cell_type": "markdown",
   "id": "0c045523",
   "metadata": {},
   "source": [
    "# Fixed time series\n",
    "> Use time-based splits rather than random splits\n",
    "\n",
    "Context: the `neuron_33`, `neuron_46`, and `traffic` datasets were split randomly during the initial paper and rebuttal.\n",
    "It would be better to use time-based splits, as the data is time series data.\n",
    "\n",
    "I overwrote the `neuron_33` and `neuron_46` datasets in HuggingFace with transforms based on the first 80% of time \n",
    "points, so let's use those:"
   ]
  },
  {
   "cell_type": "code",
   "execution_count": 2,
   "id": "56b1a19a",
   "metadata": {},
   "outputs": [],
   "source": [
    "import pandas as pd\n",
    "import numpy as np\n",
    "import matplotlib.pyplot as plt\n",
    "\n",
    "import manify\n",
    "from manify.utils.dataloaders import load_hf\n",
    "from manify.utils.benchmarks import benchmark"
   ]
  },
  {
   "cell_type": "code",
   "execution_count": 3,
   "id": "57f1cc45",
   "metadata": {},
   "outputs": [],
   "source": [
    "MODELS = [\"product_rf\", \"sklearn_rf\", \"tangent_rf\", \"knn\", \"ambient_mlp\", \"kappa_gcn\"]\n",
    "# MODELS = [\"sklearn_rf\"]"
   ]
  },
  {
   "cell_type": "code",
   "execution_count": 4,
   "id": "56723bf8",
   "metadata": {},
   "outputs": [],
   "source": [
    "# Agg\n",
    "def agg(vals):\n",
    "    mean = np.mean(vals)\n",
    "    std = np.std(vals)\n",
    "    ci = 1.96 * std / np.sqrt(len(vals))\n",
    "    return f\"{mean * 100:.1f} ± {ci * 100:.1f}\""
   ]
  },
  {
   "cell_type": "code",
   "execution_count": null,
   "id": "5b1e5fb2",
   "metadata": {},
   "outputs": [
    {
     "name": "stdout",
     "output_type": "stream",
     "text": [
      "torch.Size([401000, 20]) torch.Size([401000]) tensor(0.4978)\n",
      "torch.Size([320800, 20]) torch.Size([320800]) torch.Size([80200, 20]) torch.Size([80200])\n"
     ]
    },
    {
     "data": {
      "application/vnd.jupyter.widget-view+json": {
       "model_id": "30bc993b7cd944c69b14ad6a2cbd52a7",
       "version_major": 2,
       "version_minor": 0
      },
      "text/plain": [
       "ambient_mlp:   0%|          | 0/4000 [00:00<?, ?it/s]"
      ]
     },
     "metadata": {},
     "output_type": "display_data"
    },
    {
     "data": {
      "application/vnd.jupyter.widget-view+json": {
       "model_id": "135172347c6740ce8d877eeba1bf3818",
       "version_major": 2,
       "version_minor": 0
      },
      "text/plain": [
       "kappa_gcn:   0%|          | 0/4000 [00:00<?, ?it/s]"
      ]
     },
     "metadata": {},
     "output_type": "display_data"
    },
    {
     "data": {
      "application/vnd.jupyter.widget-view+json": {
       "model_id": "4b653a06a0c64f5e88875a141e800b86",
       "version_major": 2,
       "version_minor": 0
      },
      "text/plain": [
       "ambient_mlp:   0%|          | 0/4000 [00:00<?, ?it/s]"
      ]
     },
     "metadata": {},
     "output_type": "display_data"
    },
    {
     "data": {
      "application/vnd.jupyter.widget-view+json": {
       "model_id": "957fbc510770411d89bb4f5527da7f8d",
       "version_major": 2,
       "version_minor": 0
      },
      "text/plain": [
       "kappa_gcn:   0%|          | 0/4000 [00:00<?, ?it/s]"
      ]
     },
     "metadata": {},
     "output_type": "display_data"
    },
    {
     "data": {
      "application/vnd.jupyter.widget-view+json": {
       "model_id": "daf328e659004fe7af098c5a55e52ec0",
       "version_major": 2,
       "version_minor": 0
      },
      "text/plain": [
       "ambient_mlp:   0%|          | 0/4000 [00:00<?, ?it/s]"
      ]
     },
     "metadata": {},
     "output_type": "display_data"
    },
    {
     "data": {
      "application/vnd.jupyter.widget-view+json": {
       "model_id": "b29eb4dfdf4a4ee99fc10b91bbd8e0e7",
       "version_major": 2,
       "version_minor": 0
      },
      "text/plain": [
       "kappa_gcn:   0%|          | 0/4000 [00:00<?, ?it/s]"
      ]
     },
     "metadata": {},
     "output_type": "display_data"
    },
    {
     "data": {
      "application/vnd.jupyter.widget-view+json": {
       "model_id": "fb73842f7f114e4b929f5bd873306739",
       "version_major": 2,
       "version_minor": 0
      },
      "text/plain": [
       "ambient_mlp:   0%|          | 0/4000 [00:00<?, ?it/s]"
      ]
     },
     "metadata": {},
     "output_type": "display_data"
    },
    {
     "data": {
      "application/vnd.jupyter.widget-view+json": {
       "model_id": "35df4fcd94844da2a66c8e4300ec529c",
       "version_major": 2,
       "version_minor": 0
      },
      "text/plain": [
       "kappa_gcn:   0%|          | 0/4000 [00:00<?, ?it/s]"
      ]
     },
     "metadata": {},
     "output_type": "display_data"
    },
    {
     "data": {
      "application/vnd.jupyter.widget-view+json": {
       "model_id": "9d895abbbfab490d820365c1af0da5af",
       "version_major": 2,
       "version_minor": 0
      },
      "text/plain": [
       "ambient_mlp:   0%|          | 0/4000 [00:00<?, ?it/s]"
      ]
     },
     "metadata": {},
     "output_type": "display_data"
    },
    {
     "data": {
      "application/vnd.jupyter.widget-view+json": {
       "model_id": "c34ebaf1c630459f860d4390547ffb84",
       "version_major": 2,
       "version_minor": 0
      },
      "text/plain": [
       "kappa_gcn:   0%|          | 0/4000 [00:00<?, ?it/s]"
      ]
     },
     "metadata": {},
     "output_type": "display_data"
    },
    {
     "data": {
      "application/vnd.jupyter.widget-view+json": {
       "model_id": "f38c0858fb2e4cd39143f2fb2467bc42",
       "version_major": 2,
       "version_minor": 0
      },
      "text/plain": [
       "ambient_mlp:   0%|          | 0/4000 [00:00<?, ?it/s]"
      ]
     },
     "metadata": {},
     "output_type": "display_data"
    },
    {
     "data": {
      "application/vnd.jupyter.widget-view+json": {
       "model_id": "da619bfbbb2a4d648581ab7dc69650a1",
       "version_major": 2,
       "version_minor": 0
      },
      "text/plain": [
       "kappa_gcn:   0%|          | 0/4000 [00:00<?, ?it/s]"
      ]
     },
     "metadata": {},
     "output_type": "display_data"
    },
    {
     "data": {
      "application/vnd.jupyter.widget-view+json": {
       "model_id": "2121efd13cc74288b876074033ea8705",
       "version_major": 2,
       "version_minor": 0
      },
      "text/plain": [
       "ambient_mlp:   0%|          | 0/4000 [00:00<?, ?it/s]"
      ]
     },
     "metadata": {},
     "output_type": "display_data"
    },
    {
     "data": {
      "application/vnd.jupyter.widget-view+json": {
       "model_id": "91d67f73db65464eb105b0dd44a308b0",
       "version_major": 2,
       "version_minor": 0
      },
      "text/plain": [
       "kappa_gcn:   0%|          | 0/4000 [00:00<?, ?it/s]"
      ]
     },
     "metadata": {},
     "output_type": "display_data"
    },
    {
     "data": {
      "application/vnd.jupyter.widget-view+json": {
       "model_id": "8de47440a2764c30a78eddd836879d31",
       "version_major": 2,
       "version_minor": 0
      },
      "text/plain": [
       "ambient_mlp:   0%|          | 0/4000 [00:00<?, ?it/s]"
      ]
     },
     "metadata": {},
     "output_type": "display_data"
    },
    {
     "data": {
      "application/vnd.jupyter.widget-view+json": {
       "model_id": "38de9f390d144abe94ae2a542302cad8",
       "version_major": 2,
       "version_minor": 0
      },
      "text/plain": [
       "kappa_gcn:   0%|          | 0/4000 [00:00<?, ?it/s]"
      ]
     },
     "metadata": {},
     "output_type": "display_data"
    },
    {
     "data": {
      "application/vnd.jupyter.widget-view+json": {
       "model_id": "f074e291c2544a5ab166aeac459eaff2",
       "version_major": 2,
       "version_minor": 0
      },
      "text/plain": [
       "ambient_mlp:   0%|          | 0/4000 [00:00<?, ?it/s]"
      ]
     },
     "metadata": {},
     "output_type": "display_data"
    },
    {
     "data": {
      "application/vnd.jupyter.widget-view+json": {
       "model_id": "79afe5ea402f4d7cbae8851bc85b99e3",
       "version_major": 2,
       "version_minor": 0
      },
      "text/plain": [
       "kappa_gcn:   0%|          | 0/4000 [00:00<?, ?it/s]"
      ]
     },
     "metadata": {},
     "output_type": "display_data"
    },
    {
     "data": {
      "application/vnd.jupyter.widget-view+json": {
       "model_id": "cad5cc29b0bf457ab406c501c3b6e219",
       "version_major": 2,
       "version_minor": 0
      },
      "text/plain": [
       "ambient_mlp:   0%|          | 0/4000 [00:00<?, ?it/s]"
      ]
     },
     "metadata": {},
     "output_type": "display_data"
    },
    {
     "data": {
      "application/vnd.jupyter.widget-view+json": {
       "model_id": "de8d56b91c024d36b43a5fc230b850ac",
       "version_major": 2,
       "version_minor": 0
      },
      "text/plain": [
       "kappa_gcn:   0%|          | 0/4000 [00:00<?, ?it/s]"
      ]
     },
     "metadata": {},
     "output_type": "display_data"
    },
    {
     "data": {
      "text/plain": [
       "sklearn_rf_accuracy         66.3 ± 2.9\n",
       "sklearn_rf_f1-micro         66.3 ± 2.9\n",
       "sklearn_rf_f1-macro         65.8 ± 3.0\n",
       "sklearn_rf_time              3.4 ± 0.0\n",
       "product_rf_accuracy         64.2 ± 2.2\n",
       "product_rf_f1-micro         64.2 ± 2.2\n",
       "product_rf_f1-macro         63.0 ± 2.4\n",
       "product_rf_time             30.5 ± 1.7\n",
       "tangent_rf_accuracy         66.5 ± 3.0\n",
       "tangent_rf_f1-micro         66.5 ± 3.0\n",
       "tangent_rf_f1-macro         65.3 ± 3.5\n",
       "tangent_rf_time              3.4 ± 0.0\n",
       "knn_accuracy                50.7 ± 1.9\n",
       "knn_f1-micro                50.7 ± 1.9\n",
       "knn_f1-macro                49.0 ± 2.3\n",
       "knn_time                     0.5 ± 0.0\n",
       "ambient_mlp_accuracy        47.3 ± 2.0\n",
       "ambient_mlp_f1-micro        47.3 ± 2.0\n",
       "ambient_mlp_f1-macro        43.1 ± 3.9\n",
       "ambient_mlp_time          3264.0 ± 8.8\n",
       "kappa_gcn_accuracy          47.3 ± 2.0\n",
       "kappa_gcn_f1-micro          47.3 ± 2.0\n",
       "kappa_gcn_f1-macro          41.8 ± 4.3\n",
       "kappa_gcn_time          32178.1 ± 76.7\n",
       "dtype: object"
      ]
     },
     "execution_count": 7,
     "metadata": {},
     "output_type": "execute_result"
    }
   ],
   "source": [
    "# Neuron 33\n",
    "\n",
    "features, _, _, labels = load_hf(\"neuron_33\")\n",
    "print(features.shape, labels.shape, labels.float().mean())\n",
    "\n",
    "# Take first 80% of samples for training and last 20% for testing\n",
    "train_size = int(0.8 * len(features))\n",
    "X_train, y_train = features[:train_size], labels[:train_size]\n",
    "X_test, y_test = features[train_size:], labels[train_size:]\n",
    "print(X_train.shape, y_train.shape, X_test.shape, y_test.shape)\n",
    "\n",
    "# Manifold\n",
    "pm = manify.ProductManifold(signature=[(1.0, 1) for _ in range(10)])\n",
    "\n",
    "res = []\n",
    "for trial in range(10):\n",
    "    # Subsample training data\n",
    "    idx = np.random.choice(len(X_train), size=800, replace=False)\n",
    "    X_train_sub = X_train[idx]\n",
    "    y_train_sub = y_train[idx]\n",
    "\n",
    "    # Subsample testing data\n",
    "    idx = np.random.choice(len(X_test), size=200, replace=False)\n",
    "    X_test_sub = X_test[idx]\n",
    "    y_test_sub = y_test[idx]\n",
    "\n",
    "    # Benchmark: Product RF Ambient RF Tangent RF k-Neighbors Ambient MLP κ-GCN\n",
    "    res.append(\n",
    "        benchmark(\n",
    "            X=None,\n",
    "            y=None,\n",
    "            X_train=X_train_sub,\n",
    "            y_train=y_train_sub,\n",
    "            X_test=X_test_sub,\n",
    "            y_test=y_test_sub,\n",
    "            pm=pm,\n",
    "            models=MODELS,\n",
    "            device=\"cuda\",\n",
    "        )\n",
    "    )\n",
    "res = pd.DataFrame(res)\n",
    "res.agg(agg)"
   ]
  },
  {
   "cell_type": "code",
   "execution_count": null,
   "id": "42e3492c",
   "metadata": {},
   "outputs": [
    {
     "name": "stdout",
     "output_type": "stream",
     "text": [
      "torch.Size([1401000, 20]) torch.Size([1401000]) tensor(0.4867)\n",
      "torch.Size([1120800, 20]) torch.Size([1120800]) torch.Size([280200, 20]) torch.Size([280200])\n"
     ]
    },
    {
     "data": {
      "application/vnd.jupyter.widget-view+json": {
       "model_id": "ed759571c3fb4d2c8ceea32f983721c8",
       "version_major": 2,
       "version_minor": 0
      },
      "text/plain": [
       "ambient_mlp:   0%|          | 0/4000 [00:00<?, ?it/s]"
      ]
     },
     "metadata": {},
     "output_type": "display_data"
    },
    {
     "data": {
      "application/vnd.jupyter.widget-view+json": {
       "model_id": "df4b8c4832fc418a82b6729a110e9048",
       "version_major": 2,
       "version_minor": 0
      },
      "text/plain": [
       "kappa_gcn:   0%|          | 0/4000 [00:00<?, ?it/s]"
      ]
     },
     "metadata": {},
     "output_type": "display_data"
    },
    {
     "name": "stdout",
     "output_type": "stream",
     "text": [
      "Loss is NaN, stopping training.\n"
     ]
    },
    {
     "data": {
      "application/vnd.jupyter.widget-view+json": {
       "model_id": "7a5dfe7826834ff7bbf0a044f23ed9d4",
       "version_major": 2,
       "version_minor": 0
      },
      "text/plain": [
       "ambient_mlp:   0%|          | 0/4000 [00:00<?, ?it/s]"
      ]
     },
     "metadata": {},
     "output_type": "display_data"
    },
    {
     "data": {
      "application/vnd.jupyter.widget-view+json": {
       "model_id": "969e53b03db3457793c7ff706ad27b2e",
       "version_major": 2,
       "version_minor": 0
      },
      "text/plain": [
       "kappa_gcn:   0%|          | 0/4000 [00:00<?, ?it/s]"
      ]
     },
     "metadata": {},
     "output_type": "display_data"
    },
    {
     "name": "stdout",
     "output_type": "stream",
     "text": [
      "Loss is NaN, stopping training.\n"
     ]
    },
    {
     "data": {
      "application/vnd.jupyter.widget-view+json": {
       "model_id": "0ba7a2dd5a174652914ad4417373fb30",
       "version_major": 2,
       "version_minor": 0
      },
      "text/plain": [
       "ambient_mlp:   0%|          | 0/4000 [00:00<?, ?it/s]"
      ]
     },
     "metadata": {},
     "output_type": "display_data"
    },
    {
     "data": {
      "application/vnd.jupyter.widget-view+json": {
       "model_id": "5dce4ecf9c78402185e0915522e49f53",
       "version_major": 2,
       "version_minor": 0
      },
      "text/plain": [
       "kappa_gcn:   0%|          | 0/4000 [00:00<?, ?it/s]"
      ]
     },
     "metadata": {},
     "output_type": "display_data"
    },
    {
     "name": "stdout",
     "output_type": "stream",
     "text": [
      "Loss is NaN, stopping training.\n"
     ]
    },
    {
     "data": {
      "application/vnd.jupyter.widget-view+json": {
       "model_id": "67d6dccf95244aeca43252f17d9a8f33",
       "version_major": 2,
       "version_minor": 0
      },
      "text/plain": [
       "ambient_mlp:   0%|          | 0/4000 [00:00<?, ?it/s]"
      ]
     },
     "metadata": {},
     "output_type": "display_data"
    },
    {
     "data": {
      "application/vnd.jupyter.widget-view+json": {
       "model_id": "9fbef29723794df69d489d3edf98775d",
       "version_major": 2,
       "version_minor": 0
      },
      "text/plain": [
       "kappa_gcn:   0%|          | 0/4000 [00:00<?, ?it/s]"
      ]
     },
     "metadata": {},
     "output_type": "display_data"
    },
    {
     "name": "stdout",
     "output_type": "stream",
     "text": [
      "Loss is NaN, stopping training.\n"
     ]
    },
    {
     "data": {
      "application/vnd.jupyter.widget-view+json": {
       "model_id": "ee0bf06bc2424ed59cc7e4797fe5d887",
       "version_major": 2,
       "version_minor": 0
      },
      "text/plain": [
       "ambient_mlp:   0%|          | 0/4000 [00:00<?, ?it/s]"
      ]
     },
     "metadata": {},
     "output_type": "display_data"
    },
    {
     "data": {
      "application/vnd.jupyter.widget-view+json": {
       "model_id": "663f6443ccfc4d799ab81fec6f694b06",
       "version_major": 2,
       "version_minor": 0
      },
      "text/plain": [
       "kappa_gcn:   0%|          | 0/4000 [00:00<?, ?it/s]"
      ]
     },
     "metadata": {},
     "output_type": "display_data"
    },
    {
     "name": "stdout",
     "output_type": "stream",
     "text": [
      "Loss is NaN, stopping training.\n"
     ]
    },
    {
     "data": {
      "application/vnd.jupyter.widget-view+json": {
       "model_id": "de2ddef7ced342e5bfc331cdac8eae7b",
       "version_major": 2,
       "version_minor": 0
      },
      "text/plain": [
       "ambient_mlp:   0%|          | 0/4000 [00:00<?, ?it/s]"
      ]
     },
     "metadata": {},
     "output_type": "display_data"
    },
    {
     "data": {
      "application/vnd.jupyter.widget-view+json": {
       "model_id": "f3263758706d4ccf94575b63a739e382",
       "version_major": 2,
       "version_minor": 0
      },
      "text/plain": [
       "kappa_gcn:   0%|          | 0/4000 [00:00<?, ?it/s]"
      ]
     },
     "metadata": {},
     "output_type": "display_data"
    },
    {
     "data": {
      "application/vnd.jupyter.widget-view+json": {
       "model_id": "a40eacad7065466c954e0e336c48ce8d",
       "version_major": 2,
       "version_minor": 0
      },
      "text/plain": [
       "ambient_mlp:   0%|          | 0/4000 [00:00<?, ?it/s]"
      ]
     },
     "metadata": {},
     "output_type": "display_data"
    },
    {
     "data": {
      "application/vnd.jupyter.widget-view+json": {
       "model_id": "548c643acd1349559d474fccb4798590",
       "version_major": 2,
       "version_minor": 0
      },
      "text/plain": [
       "kappa_gcn:   0%|          | 0/4000 [00:00<?, ?it/s]"
      ]
     },
     "metadata": {},
     "output_type": "display_data"
    },
    {
     "data": {
      "application/vnd.jupyter.widget-view+json": {
       "model_id": "f52a235441d94bcab267bfc7da1dafff",
       "version_major": 2,
       "version_minor": 0
      },
      "text/plain": [
       "ambient_mlp:   0%|          | 0/4000 [00:00<?, ?it/s]"
      ]
     },
     "metadata": {},
     "output_type": "display_data"
    },
    {
     "data": {
      "application/vnd.jupyter.widget-view+json": {
       "model_id": "a2a396730f97460497263056ebeaf6d3",
       "version_major": 2,
       "version_minor": 0
      },
      "text/plain": [
       "kappa_gcn:   0%|          | 0/4000 [00:00<?, ?it/s]"
      ]
     },
     "metadata": {},
     "output_type": "display_data"
    },
    {
     "name": "stdout",
     "output_type": "stream",
     "text": [
      "Loss is NaN, stopping training.\n"
     ]
    },
    {
     "data": {
      "application/vnd.jupyter.widget-view+json": {
       "model_id": "1dd73caf91644c57a67245d31cd34ce9",
       "version_major": 2,
       "version_minor": 0
      },
      "text/plain": [
       "ambient_mlp:   0%|          | 0/4000 [00:00<?, ?it/s]"
      ]
     },
     "metadata": {},
     "output_type": "display_data"
    },
    {
     "data": {
      "application/vnd.jupyter.widget-view+json": {
       "model_id": "a2fca3cc84224631b0cea2ae527bc0ac",
       "version_major": 2,
       "version_minor": 0
      },
      "text/plain": [
       "kappa_gcn:   0%|          | 0/4000 [00:00<?, ?it/s]"
      ]
     },
     "metadata": {},
     "output_type": "display_data"
    },
    {
     "name": "stdout",
     "output_type": "stream",
     "text": [
      "Loss is NaN, stopping training.\n"
     ]
    },
    {
     "data": {
      "application/vnd.jupyter.widget-view+json": {
       "model_id": "eac1e53165664a808a4e8357a5b26220",
       "version_major": 2,
       "version_minor": 0
      },
      "text/plain": [
       "ambient_mlp:   0%|          | 0/4000 [00:00<?, ?it/s]"
      ]
     },
     "metadata": {},
     "output_type": "display_data"
    },
    {
     "data": {
      "application/vnd.jupyter.widget-view+json": {
       "model_id": "ceeff848517b4ce0bdf3ac961f38fc52",
       "version_major": 2,
       "version_minor": 0
      },
      "text/plain": [
       "kappa_gcn:   0%|          | 0/4000 [00:00<?, ?it/s]"
      ]
     },
     "metadata": {},
     "output_type": "display_data"
    },
    {
     "name": "stdout",
     "output_type": "stream",
     "text": [
      "Loss is NaN, stopping training.\n"
     ]
    },
    {
     "data": {
      "text/plain": [
       "sklearn_rf_accuracy           24.4 ± 3.5\n",
       "sklearn_rf_f1-micro           24.4 ± 3.5\n",
       "sklearn_rf_f1-macro           21.1 ± 2.3\n",
       "sklearn_rf_time                3.4 ± 0.0\n",
       "product_rf_accuracy           24.1 ± 3.7\n",
       "product_rf_f1-micro           24.1 ± 3.7\n",
       "product_rf_f1-macro           20.9 ± 2.6\n",
       "product_rf_time               30.2 ± 0.8\n",
       "tangent_rf_accuracy           22.0 ± 5.7\n",
       "tangent_rf_f1-micro           22.0 ± 5.7\n",
       "tangent_rf_f1-macro           19.3 ± 4.3\n",
       "tangent_rf_time                3.4 ± 0.0\n",
       "knn_accuracy                  30.4 ± 4.7\n",
       "knn_f1-micro                  30.4 ± 4.7\n",
       "knn_f1-macro                  25.1 ± 3.2\n",
       "knn_time                       0.5 ± 0.0\n",
       "ambient_mlp_accuracy           3.1 ± 1.0\n",
       "ambient_mlp_f1-micro           3.1 ± 1.0\n",
       "ambient_mlp_f1-macro           3.0 ± 0.9\n",
       "ambient_mlp_time           3273.2 ± 17.6\n",
       "kappa_gcn_accuracy           79.1 ± 22.8\n",
       "kappa_gcn_f1-micro           79.1 ± 22.8\n",
       "kappa_gcn_f1-macro           45.5 ± 15.6\n",
       "kappa_gcn_time          19524.8 ± 4528.2\n",
       "dtype: object"
      ]
     },
     "execution_count": 6,
     "metadata": {},
     "output_type": "execute_result"
    }
   ],
   "source": [
    "# Neuron 46\n",
    "\n",
    "features, _, _, labels = load_hf(\"neuron_46\")\n",
    "print(features.shape, labels.shape, labels.float().mean())\n",
    "\n",
    "# Take first 80% of samples for training and last 20% for testing\n",
    "train_size = int(0.8 * len(features))\n",
    "X_train, y_train = features[:train_size], labels[:train_size]\n",
    "X_test, y_test = features[train_size:], labels[train_size:]\n",
    "print(X_train.shape, y_train.shape, X_test.shape, y_test.shape)\n",
    "\n",
    "# Manifold\n",
    "pm = manify.ProductManifold(signature=[(1.0, 1) for _ in range(10)])\n",
    "\n",
    "res = []\n",
    "for trial in range(10):\n",
    "    # Subsample training data\n",
    "    idx = np.random.choice(len(X_train), size=800, replace=False)\n",
    "    X_train_sub = X_train[idx]\n",
    "    y_train_sub = y_train[idx]\n",
    "\n",
    "    # Subsample testing data\n",
    "    idx = np.random.choice(len(X_test), size=200, replace=False)\n",
    "    X_test_sub = X_test[idx]\n",
    "    y_test_sub = y_test[idx]\n",
    "\n",
    "    # Benchmark: Product RF Ambient RF Tangent RF k-Neighbors Ambient MLP κ-GCN\n",
    "    res.append(\n",
    "        benchmark(\n",
    "            X=None,\n",
    "            y=None,\n",
    "            X_train=X_train_sub,\n",
    "            y_train=y_train_sub,\n",
    "            X_test=X_test_sub,\n",
    "            y_test=y_test_sub,\n",
    "            pm=pm,\n",
    "            models=MODELS,\n",
    "            device=\"cuda\",\n",
    "        )\n",
    "    )\n",
    "res = pd.DataFrame(res)\n",
    "res.agg(agg)"
   ]
  },
  {
   "cell_type": "code",
   "execution_count": 9,
   "id": "c7418bc5",
   "metadata": {},
   "outputs": [
    {
     "name": "stdout",
     "output_type": "stream",
     "text": [
      "torch.Size([48120, 9]) torch.Size([48120]) tensor(2.7724)\n",
      "torch.Size([38496, 9]) torch.Size([38496]) torch.Size([9624, 9]) torch.Size([9624])\n"
     ]
    },
    {
     "data": {
      "application/vnd.jupyter.widget-view+json": {
       "model_id": "d0f0739bcb994dce8f2ca7d5146a361e",
       "version_major": 2,
       "version_minor": 0
      },
      "text/plain": [
       "ambient_mlp:   0%|          | 0/4000 [00:00<?, ?it/s]"
      ]
     },
     "metadata": {},
     "output_type": "display_data"
    },
    {
     "data": {
      "application/vnd.jupyter.widget-view+json": {
       "model_id": "9d71e73662d94116b55c412ce6655d71",
       "version_major": 2,
       "version_minor": 0
      },
      "text/plain": [
       "kappa_gcn:   0%|          | 0/4000 [00:00<?, ?it/s]"
      ]
     },
     "metadata": {},
     "output_type": "display_data"
    },
    {
     "name": "stdout",
     "output_type": "stream",
     "text": [
      "Loss is NaN, stopping training.\n"
     ]
    },
    {
     "ename": "ValueError",
     "evalue": "Input contains NaN.",
     "output_type": "error",
     "traceback": [
      "\u001b[0;31m---------------------------------------------------------------------------\u001b[0m",
      "\u001b[0;31mValueError\u001b[0m                                Traceback (most recent call last)",
      "Cell \u001b[0;32mIn[9], line 34\u001b[0m\n\u001b[1;32m     30\u001b[0m     y_test_sub \u001b[38;5;241m=\u001b[39m y_test[idx]\n\u001b[1;32m     32\u001b[0m     \u001b[38;5;66;03m# Benchmark: Product RF Ambient RF Tangent RF k-Neighbors Ambient MLP κ-GCN\u001b[39;00m\n\u001b[1;32m     33\u001b[0m     res\u001b[38;5;241m.\u001b[39mappend(\n\u001b[0;32m---> 34\u001b[0m         \u001b[43mbenchmark\u001b[49m\u001b[43m(\u001b[49m\n\u001b[1;32m     35\u001b[0m \u001b[43m            \u001b[49m\u001b[43mX\u001b[49m\u001b[38;5;241;43m=\u001b[39;49m\u001b[38;5;28;43;01mNone\u001b[39;49;00m\u001b[43m,\u001b[49m\n\u001b[1;32m     36\u001b[0m \u001b[43m            \u001b[49m\u001b[43my\u001b[49m\u001b[38;5;241;43m=\u001b[39;49m\u001b[38;5;28;43;01mNone\u001b[39;49;00m\u001b[43m,\u001b[49m\n\u001b[1;32m     37\u001b[0m \u001b[43m            \u001b[49m\u001b[43mX_train\u001b[49m\u001b[38;5;241;43m=\u001b[39;49m\u001b[43mX_train_sub\u001b[49m\u001b[43m,\u001b[49m\n\u001b[1;32m     38\u001b[0m \u001b[43m            \u001b[49m\u001b[43my_train\u001b[49m\u001b[38;5;241;43m=\u001b[39;49m\u001b[43my_train_sub\u001b[49m\u001b[43m,\u001b[49m\n\u001b[1;32m     39\u001b[0m \u001b[43m            \u001b[49m\u001b[43mX_test\u001b[49m\u001b[38;5;241;43m=\u001b[39;49m\u001b[43mX_test_sub\u001b[49m\u001b[43m,\u001b[49m\n\u001b[1;32m     40\u001b[0m \u001b[43m            \u001b[49m\u001b[43my_test\u001b[49m\u001b[38;5;241;43m=\u001b[39;49m\u001b[43my_test_sub\u001b[49m\u001b[43m,\u001b[49m\n\u001b[1;32m     41\u001b[0m \u001b[43m            \u001b[49m\u001b[43mpm\u001b[49m\u001b[38;5;241;43m=\u001b[39;49m\u001b[43mpm\u001b[49m\u001b[43m,\u001b[49m\n\u001b[1;32m     42\u001b[0m \u001b[43m            \u001b[49m\u001b[43mmodels\u001b[49m\u001b[38;5;241;43m=\u001b[39;49m\u001b[43mMODELS\u001b[49m\u001b[43m,\u001b[49m\n\u001b[1;32m     43\u001b[0m \u001b[43m            \u001b[49m\u001b[43mdevice\u001b[49m\u001b[38;5;241;43m=\u001b[39;49m\u001b[38;5;124;43m\"\u001b[39;49m\u001b[38;5;124;43mcuda\u001b[39;49m\u001b[38;5;124;43m\"\u001b[39;49m\u001b[43m,\u001b[49m\n\u001b[1;32m     44\u001b[0m \u001b[43m            \u001b[49m\u001b[43mtask\u001b[49m\u001b[38;5;241;43m=\u001b[39;49m\u001b[38;5;124;43m\"\u001b[39;49m\u001b[38;5;124;43mregression\u001b[39;49m\u001b[38;5;124;43m\"\u001b[39;49m\u001b[43m,\u001b[49m\n\u001b[1;32m     45\u001b[0m \u001b[43m            \u001b[49m\u001b[43mscore\u001b[49m\u001b[38;5;241;43m=\u001b[39;49m\u001b[43m[\u001b[49m\u001b[38;5;124;43m\"\u001b[39;49m\u001b[38;5;124;43mrmse\u001b[39;49m\u001b[38;5;124;43m\"\u001b[39;49m\u001b[43m]\u001b[49m\u001b[43m,\u001b[49m\n\u001b[1;32m     46\u001b[0m \u001b[43m        \u001b[49m\u001b[43m)\u001b[49m\n\u001b[1;32m     47\u001b[0m     )\n\u001b[1;32m     48\u001b[0m res \u001b[38;5;241m=\u001b[39m pd\u001b[38;5;241m.\u001b[39mDataFrame(res)\n\u001b[1;32m     49\u001b[0m res\u001b[38;5;241m.\u001b[39magg(agg)\n",
      "File \u001b[0;32m~/manify/manify/utils/benchmarks.py:540\u001b[0m, in \u001b[0;36mbenchmark\u001b[0;34m(X, y, pm, device, score, models, max_depth, n_estimators, min_samples_split, min_samples_leaf, task, seed, use_special_dims, n_features, X_train, X_test, y_train, y_test, batch_size, adj, A_train, A_test, hidden_dims, epochs, lr, kappa_gcn_layers, lp_train_idx, lp_test_idx)\u001b[0m\n\u001b[1;32m    538\u001b[0m     \u001b[38;5;28;01mif\u001b[39;00m lp_test_idx:\n\u001b[1;32m    539\u001b[0m         y_pred \u001b[38;5;241m=\u001b[39m y_pred[lp_test_idx]\n\u001b[0;32m--> 540\u001b[0m     accs[\u001b[38;5;124m\"\u001b[39m\u001b[38;5;124mkappa_gcn\u001b[39m\u001b[38;5;124m\"\u001b[39m] \u001b[38;5;241m=\u001b[39m \u001b[43m_score\u001b[49m\u001b[43m(\u001b[49m\u001b[38;5;28;43;01mNone\u001b[39;49;00m\u001b[43m,\u001b[49m\u001b[43m \u001b[49m\u001b[43my_test_np\u001b[49m\u001b[43m,\u001b[49m\u001b[43m \u001b[49m\u001b[38;5;28;43;01mNone\u001b[39;49;00m\u001b[43m,\u001b[49m\u001b[43m \u001b[49m\u001b[43my_pred_override\u001b[49m\u001b[38;5;241;43m=\u001b[39;49m\u001b[43my_pred\u001b[49m\u001b[43m,\u001b[49m\u001b[43m \u001b[49m\u001b[43muse_torch\u001b[49m\u001b[38;5;241;43m=\u001b[39;49m\u001b[38;5;28;43;01mTrue\u001b[39;49;00m\u001b[43m,\u001b[49m\u001b[43m \u001b[49m\u001b[43mscore\u001b[49m\u001b[38;5;241;43m=\u001b[39;49m\u001b[43mscore\u001b[49m\u001b[43m)\u001b[49m\n\u001b[1;32m    541\u001b[0m     accs[\u001b[38;5;124m\"\u001b[39m\u001b[38;5;124mkappa_gcn\u001b[39m\u001b[38;5;124m\"\u001b[39m][\u001b[38;5;124m\"\u001b[39m\u001b[38;5;124mtime\u001b[39m\u001b[38;5;124m\"\u001b[39m] \u001b[38;5;241m=\u001b[39m t2 \u001b[38;5;241m-\u001b[39m t1\n\u001b[1;32m    543\u001b[0m \u001b[38;5;28;01mif\u001b[39;00m \u001b[38;5;124m\"\u001b[39m\u001b[38;5;124mkappa_mlr\u001b[39m\u001b[38;5;124m\"\u001b[39m \u001b[38;5;129;01min\u001b[39;00m models:\n",
      "File \u001b[0;32m~/manify/manify/utils/benchmarks.py:77\u001b[0m, in \u001b[0;36m_score\u001b[0;34m(_X, _y, model, y_pred_override, use_torch, score)\u001b[0m\n\u001b[1;32m     68\u001b[0m     y_pred \u001b[38;5;241m=\u001b[39m y_pred\u001b[38;5;241m.\u001b[39mdetach()\u001b[38;5;241m.\u001b[39mcpu()\u001b[38;5;241m.\u001b[39mnumpy()\n\u001b[1;32m     69\u001b[0m scoring_funcs \u001b[38;5;241m=\u001b[39m {\n\u001b[1;32m     70\u001b[0m     \u001b[38;5;124m\"\u001b[39m\u001b[38;5;124maccuracy\u001b[39m\u001b[38;5;124m\"\u001b[39m: accuracy_score,\n\u001b[1;32m     71\u001b[0m     \u001b[38;5;124m\"\u001b[39m\u001b[38;5;124mf1-micro\u001b[39m\u001b[38;5;124m\"\u001b[39m: \u001b[38;5;28;01mlambda\u001b[39;00m y, p: f1_score(y, p, average\u001b[38;5;241m=\u001b[39m\u001b[38;5;124m\"\u001b[39m\u001b[38;5;124mmicro\u001b[39m\u001b[38;5;124m\"\u001b[39m),\n\u001b[0;32m   (...)\u001b[0m\n\u001b[1;32m     75\u001b[0m     \u001b[38;5;124m\"\u001b[39m\u001b[38;5;124mpercent_rmse\u001b[39m\u001b[38;5;124m\"\u001b[39m: \u001b[38;5;28;01mlambda\u001b[39;00m y, p: (root_mean_squared_error(y, p, multioutput\u001b[38;5;241m=\u001b[39m\u001b[38;5;124m\"\u001b[39m\u001b[38;5;124mraw_values\u001b[39m\u001b[38;5;124m\"\u001b[39m) \u001b[38;5;241m/\u001b[39m np\u001b[38;5;241m.\u001b[39mabs(y))\u001b[38;5;241m.\u001b[39mmean(),\n\u001b[1;32m     76\u001b[0m }\n\u001b[0;32m---> 77\u001b[0m \u001b[38;5;28;01mreturn\u001b[39;00m {s: scoring_funcs[s](_y, y_pred) \u001b[38;5;28;01mif\u001b[39;00m s \u001b[38;5;129;01min\u001b[39;00m scoring_funcs \u001b[38;5;28;01melse\u001b[39;00m np\u001b[38;5;241m.\u001b[39mnan \u001b[38;5;28;01mfor\u001b[39;00m s \u001b[38;5;129;01min\u001b[39;00m score}\n",
      "File \u001b[0;32m~/manify/manify/utils/benchmarks.py:77\u001b[0m, in \u001b[0;36m<dictcomp>\u001b[0;34m(.0)\u001b[0m\n\u001b[1;32m     68\u001b[0m     y_pred \u001b[38;5;241m=\u001b[39m y_pred\u001b[38;5;241m.\u001b[39mdetach()\u001b[38;5;241m.\u001b[39mcpu()\u001b[38;5;241m.\u001b[39mnumpy()\n\u001b[1;32m     69\u001b[0m scoring_funcs \u001b[38;5;241m=\u001b[39m {\n\u001b[1;32m     70\u001b[0m     \u001b[38;5;124m\"\u001b[39m\u001b[38;5;124maccuracy\u001b[39m\u001b[38;5;124m\"\u001b[39m: accuracy_score,\n\u001b[1;32m     71\u001b[0m     \u001b[38;5;124m\"\u001b[39m\u001b[38;5;124mf1-micro\u001b[39m\u001b[38;5;124m\"\u001b[39m: \u001b[38;5;28;01mlambda\u001b[39;00m y, p: f1_score(y, p, average\u001b[38;5;241m=\u001b[39m\u001b[38;5;124m\"\u001b[39m\u001b[38;5;124mmicro\u001b[39m\u001b[38;5;124m\"\u001b[39m),\n\u001b[0;32m   (...)\u001b[0m\n\u001b[1;32m     75\u001b[0m     \u001b[38;5;124m\"\u001b[39m\u001b[38;5;124mpercent_rmse\u001b[39m\u001b[38;5;124m\"\u001b[39m: \u001b[38;5;28;01mlambda\u001b[39;00m y, p: (root_mean_squared_error(y, p, multioutput\u001b[38;5;241m=\u001b[39m\u001b[38;5;124m\"\u001b[39m\u001b[38;5;124mraw_values\u001b[39m\u001b[38;5;124m\"\u001b[39m) \u001b[38;5;241m/\u001b[39m np\u001b[38;5;241m.\u001b[39mabs(y))\u001b[38;5;241m.\u001b[39mmean(),\n\u001b[1;32m     76\u001b[0m }\n\u001b[0;32m---> 77\u001b[0m \u001b[38;5;28;01mreturn\u001b[39;00m {s: \u001b[43mscoring_funcs\u001b[49m\u001b[43m[\u001b[49m\u001b[43ms\u001b[49m\u001b[43m]\u001b[49m\u001b[43m(\u001b[49m\u001b[43m_y\u001b[49m\u001b[43m,\u001b[49m\u001b[43m \u001b[49m\u001b[43my_pred\u001b[49m\u001b[43m)\u001b[49m \u001b[38;5;28;01mif\u001b[39;00m s \u001b[38;5;129;01min\u001b[39;00m scoring_funcs \u001b[38;5;28;01melse\u001b[39;00m np\u001b[38;5;241m.\u001b[39mnan \u001b[38;5;28;01mfor\u001b[39;00m s \u001b[38;5;129;01min\u001b[39;00m score}\n",
      "File \u001b[0;32m~/miniconda3/envs/manify/lib/python3.10/site-packages/sklearn/utils/_param_validation.py:213\u001b[0m, in \u001b[0;36mvalidate_params.<locals>.decorator.<locals>.wrapper\u001b[0;34m(*args, **kwargs)\u001b[0m\n\u001b[1;32m    207\u001b[0m \u001b[38;5;28;01mtry\u001b[39;00m:\n\u001b[1;32m    208\u001b[0m     \u001b[38;5;28;01mwith\u001b[39;00m config_context(\n\u001b[1;32m    209\u001b[0m         skip_parameter_validation\u001b[38;5;241m=\u001b[39m(\n\u001b[1;32m    210\u001b[0m             prefer_skip_nested_validation \u001b[38;5;129;01mor\u001b[39;00m global_skip_validation\n\u001b[1;32m    211\u001b[0m         )\n\u001b[1;32m    212\u001b[0m     ):\n\u001b[0;32m--> 213\u001b[0m         \u001b[38;5;28;01mreturn\u001b[39;00m \u001b[43mfunc\u001b[49m\u001b[43m(\u001b[49m\u001b[38;5;241;43m*\u001b[39;49m\u001b[43margs\u001b[49m\u001b[43m,\u001b[49m\u001b[43m \u001b[49m\u001b[38;5;241;43m*\u001b[39;49m\u001b[38;5;241;43m*\u001b[39;49m\u001b[43mkwargs\u001b[49m\u001b[43m)\u001b[49m\n\u001b[1;32m    214\u001b[0m \u001b[38;5;28;01mexcept\u001b[39;00m InvalidParameterError \u001b[38;5;28;01mas\u001b[39;00m e:\n\u001b[1;32m    215\u001b[0m     \u001b[38;5;66;03m# When the function is just a wrapper around an estimator, we allow\u001b[39;00m\n\u001b[1;32m    216\u001b[0m     \u001b[38;5;66;03m# the function to delegate validation to the estimator, but we replace\u001b[39;00m\n\u001b[1;32m    217\u001b[0m     \u001b[38;5;66;03m# the name of the estimator by the name of the function in the error\u001b[39;00m\n\u001b[1;32m    218\u001b[0m     \u001b[38;5;66;03m# message to avoid confusion.\u001b[39;00m\n\u001b[1;32m    219\u001b[0m     msg \u001b[38;5;241m=\u001b[39m re\u001b[38;5;241m.\u001b[39msub(\n\u001b[1;32m    220\u001b[0m         \u001b[38;5;124mr\u001b[39m\u001b[38;5;124m\"\u001b[39m\u001b[38;5;124mparameter of \u001b[39m\u001b[38;5;124m\\\u001b[39m\u001b[38;5;124mw+ must be\u001b[39m\u001b[38;5;124m\"\u001b[39m,\n\u001b[1;32m    221\u001b[0m         \u001b[38;5;124mf\u001b[39m\u001b[38;5;124m\"\u001b[39m\u001b[38;5;124mparameter of \u001b[39m\u001b[38;5;132;01m{\u001b[39;00mfunc\u001b[38;5;241m.\u001b[39m\u001b[38;5;18m__qualname__\u001b[39m\u001b[38;5;132;01m}\u001b[39;00m\u001b[38;5;124m must be\u001b[39m\u001b[38;5;124m\"\u001b[39m,\n\u001b[1;32m    222\u001b[0m         \u001b[38;5;28mstr\u001b[39m(e),\n\u001b[1;32m    223\u001b[0m     )\n",
      "File \u001b[0;32m~/miniconda3/envs/manify/lib/python3.10/site-packages/sklearn/metrics/_regression.py:581\u001b[0m, in \u001b[0;36mroot_mean_squared_error\u001b[0;34m(y_true, y_pred, sample_weight, multioutput)\u001b[0m\n\u001b[1;32m    522\u001b[0m \u001b[38;5;129m@validate_params\u001b[39m(\n\u001b[1;32m    523\u001b[0m     {\n\u001b[1;32m    524\u001b[0m         \u001b[38;5;124m\"\u001b[39m\u001b[38;5;124my_true\u001b[39m\u001b[38;5;124m\"\u001b[39m: [\u001b[38;5;124m\"\u001b[39m\u001b[38;5;124marray-like\u001b[39m\u001b[38;5;124m\"\u001b[39m],\n\u001b[0;32m   (...)\u001b[0m\n\u001b[1;32m    532\u001b[0m     y_true, y_pred, \u001b[38;5;241m*\u001b[39m, sample_weight\u001b[38;5;241m=\u001b[39m\u001b[38;5;28;01mNone\u001b[39;00m, multioutput\u001b[38;5;241m=\u001b[39m\u001b[38;5;124m\"\u001b[39m\u001b[38;5;124muniform_average\u001b[39m\u001b[38;5;124m\"\u001b[39m\n\u001b[1;32m    533\u001b[0m ):\n\u001b[1;32m    534\u001b[0m \u001b[38;5;250m    \u001b[39m\u001b[38;5;124;03m\"\"\"Root mean squared error regression loss.\u001b[39;00m\n\u001b[1;32m    535\u001b[0m \n\u001b[1;32m    536\u001b[0m \u001b[38;5;124;03m    Read more in the :ref:`User Guide <mean_squared_error>`.\u001b[39;00m\n\u001b[0;32m   (...)\u001b[0m\n\u001b[1;32m    578\u001b[0m \u001b[38;5;124;03m    0.822...\u001b[39;00m\n\u001b[1;32m    579\u001b[0m \u001b[38;5;124;03m    \"\"\"\u001b[39;00m\n\u001b[1;32m    580\u001b[0m     output_errors \u001b[38;5;241m=\u001b[39m np\u001b[38;5;241m.\u001b[39msqrt(\n\u001b[0;32m--> 581\u001b[0m         \u001b[43mmean_squared_error\u001b[49m\u001b[43m(\u001b[49m\n\u001b[1;32m    582\u001b[0m \u001b[43m            \u001b[49m\u001b[43my_true\u001b[49m\u001b[43m,\u001b[49m\u001b[43m \u001b[49m\u001b[43my_pred\u001b[49m\u001b[43m,\u001b[49m\u001b[43m \u001b[49m\u001b[43msample_weight\u001b[49m\u001b[38;5;241;43m=\u001b[39;49m\u001b[43msample_weight\u001b[49m\u001b[43m,\u001b[49m\u001b[43m \u001b[49m\u001b[43mmultioutput\u001b[49m\u001b[38;5;241;43m=\u001b[39;49m\u001b[38;5;124;43m\"\u001b[39;49m\u001b[38;5;124;43mraw_values\u001b[39;49m\u001b[38;5;124;43m\"\u001b[39;49m\n\u001b[1;32m    583\u001b[0m \u001b[43m        \u001b[49m\u001b[43m)\u001b[49m\n\u001b[1;32m    584\u001b[0m     )\n\u001b[1;32m    586\u001b[0m     \u001b[38;5;28;01mif\u001b[39;00m \u001b[38;5;28misinstance\u001b[39m(multioutput, \u001b[38;5;28mstr\u001b[39m):\n\u001b[1;32m    587\u001b[0m         \u001b[38;5;28;01mif\u001b[39;00m multioutput \u001b[38;5;241m==\u001b[39m \u001b[38;5;124m\"\u001b[39m\u001b[38;5;124mraw_values\u001b[39m\u001b[38;5;124m\"\u001b[39m:\n",
      "File \u001b[0;32m~/miniconda3/envs/manify/lib/python3.10/site-packages/sklearn/utils/_param_validation.py:186\u001b[0m, in \u001b[0;36mvalidate_params.<locals>.decorator.<locals>.wrapper\u001b[0;34m(*args, **kwargs)\u001b[0m\n\u001b[1;32m    184\u001b[0m global_skip_validation \u001b[38;5;241m=\u001b[39m get_config()[\u001b[38;5;124m\"\u001b[39m\u001b[38;5;124mskip_parameter_validation\u001b[39m\u001b[38;5;124m\"\u001b[39m]\n\u001b[1;32m    185\u001b[0m \u001b[38;5;28;01mif\u001b[39;00m global_skip_validation:\n\u001b[0;32m--> 186\u001b[0m     \u001b[38;5;28;01mreturn\u001b[39;00m \u001b[43mfunc\u001b[49m\u001b[43m(\u001b[49m\u001b[38;5;241;43m*\u001b[39;49m\u001b[43margs\u001b[49m\u001b[43m,\u001b[49m\u001b[43m \u001b[49m\u001b[38;5;241;43m*\u001b[39;49m\u001b[38;5;241;43m*\u001b[39;49m\u001b[43mkwargs\u001b[49m\u001b[43m)\u001b[49m\n\u001b[1;32m    188\u001b[0m func_sig \u001b[38;5;241m=\u001b[39m signature(func)\n\u001b[1;32m    190\u001b[0m \u001b[38;5;66;03m# Map *args/**kwargs to the function signature\u001b[39;00m\n",
      "File \u001b[0;32m~/miniconda3/envs/manify/lib/python3.10/site-packages/sklearn/metrics/_regression.py:506\u001b[0m, in \u001b[0;36mmean_squared_error\u001b[0;34m(y_true, y_pred, sample_weight, multioutput, squared)\u001b[0m\n\u001b[1;32m    501\u001b[0m     \u001b[38;5;28;01mif\u001b[39;00m \u001b[38;5;129;01mnot\u001b[39;00m squared:\n\u001b[1;32m    502\u001b[0m         \u001b[38;5;28;01mreturn\u001b[39;00m root_mean_squared_error(\n\u001b[1;32m    503\u001b[0m             y_true, y_pred, sample_weight\u001b[38;5;241m=\u001b[39msample_weight, multioutput\u001b[38;5;241m=\u001b[39mmultioutput\n\u001b[1;32m    504\u001b[0m         )\n\u001b[0;32m--> 506\u001b[0m y_type, y_true, y_pred, multioutput \u001b[38;5;241m=\u001b[39m \u001b[43m_check_reg_targets\u001b[49m\u001b[43m(\u001b[49m\n\u001b[1;32m    507\u001b[0m \u001b[43m    \u001b[49m\u001b[43my_true\u001b[49m\u001b[43m,\u001b[49m\u001b[43m \u001b[49m\u001b[43my_pred\u001b[49m\u001b[43m,\u001b[49m\u001b[43m \u001b[49m\u001b[43mmultioutput\u001b[49m\n\u001b[1;32m    508\u001b[0m \u001b[43m\u001b[49m\u001b[43m)\u001b[49m\n\u001b[1;32m    509\u001b[0m check_consistent_length(y_true, y_pred, sample_weight)\n\u001b[1;32m    510\u001b[0m output_errors \u001b[38;5;241m=\u001b[39m np\u001b[38;5;241m.\u001b[39maverage((y_true \u001b[38;5;241m-\u001b[39m y_pred) \u001b[38;5;241m*\u001b[39m\u001b[38;5;241m*\u001b[39m \u001b[38;5;241m2\u001b[39m, axis\u001b[38;5;241m=\u001b[39m\u001b[38;5;241m0\u001b[39m, weights\u001b[38;5;241m=\u001b[39msample_weight)\n",
      "File \u001b[0;32m~/miniconda3/envs/manify/lib/python3.10/site-packages/sklearn/metrics/_regression.py:113\u001b[0m, in \u001b[0;36m_check_reg_targets\u001b[0;34m(y_true, y_pred, multioutput, dtype, xp)\u001b[0m\n\u001b[1;32m    111\u001b[0m check_consistent_length(y_true, y_pred)\n\u001b[1;32m    112\u001b[0m y_true \u001b[38;5;241m=\u001b[39m check_array(y_true, ensure_2d\u001b[38;5;241m=\u001b[39m\u001b[38;5;28;01mFalse\u001b[39;00m, dtype\u001b[38;5;241m=\u001b[39mdtype)\n\u001b[0;32m--> 113\u001b[0m y_pred \u001b[38;5;241m=\u001b[39m \u001b[43mcheck_array\u001b[49m\u001b[43m(\u001b[49m\u001b[43my_pred\u001b[49m\u001b[43m,\u001b[49m\u001b[43m \u001b[49m\u001b[43mensure_2d\u001b[49m\u001b[38;5;241;43m=\u001b[39;49m\u001b[38;5;28;43;01mFalse\u001b[39;49;00m\u001b[43m,\u001b[49m\u001b[43m \u001b[49m\u001b[43mdtype\u001b[49m\u001b[38;5;241;43m=\u001b[39;49m\u001b[43mdtype\u001b[49m\u001b[43m)\u001b[49m\n\u001b[1;32m    115\u001b[0m \u001b[38;5;28;01mif\u001b[39;00m y_true\u001b[38;5;241m.\u001b[39mndim \u001b[38;5;241m==\u001b[39m \u001b[38;5;241m1\u001b[39m:\n\u001b[1;32m    116\u001b[0m     y_true \u001b[38;5;241m=\u001b[39m xp\u001b[38;5;241m.\u001b[39mreshape(y_true, (\u001b[38;5;241m-\u001b[39m\u001b[38;5;241m1\u001b[39m, \u001b[38;5;241m1\u001b[39m))\n",
      "File \u001b[0;32m~/miniconda3/envs/manify/lib/python3.10/site-packages/sklearn/utils/validation.py:1064\u001b[0m, in \u001b[0;36mcheck_array\u001b[0;34m(array, accept_sparse, accept_large_sparse, dtype, order, copy, force_writeable, force_all_finite, ensure_2d, allow_nd, ensure_min_samples, ensure_min_features, estimator, input_name)\u001b[0m\n\u001b[1;32m   1058\u001b[0m     \u001b[38;5;28;01mraise\u001b[39;00m \u001b[38;5;167;01mValueError\u001b[39;00m(\n\u001b[1;32m   1059\u001b[0m         \u001b[38;5;124m\"\u001b[39m\u001b[38;5;124mFound array with dim \u001b[39m\u001b[38;5;132;01m%d\u001b[39;00m\u001b[38;5;124m. \u001b[39m\u001b[38;5;132;01m%s\u001b[39;00m\u001b[38;5;124m expected <= 2.\u001b[39m\u001b[38;5;124m\"\u001b[39m\n\u001b[1;32m   1060\u001b[0m         \u001b[38;5;241m%\u001b[39m (array\u001b[38;5;241m.\u001b[39mndim, estimator_name)\n\u001b[1;32m   1061\u001b[0m     )\n\u001b[1;32m   1063\u001b[0m \u001b[38;5;28;01mif\u001b[39;00m force_all_finite:\n\u001b[0;32m-> 1064\u001b[0m     \u001b[43m_assert_all_finite\u001b[49m\u001b[43m(\u001b[49m\n\u001b[1;32m   1065\u001b[0m \u001b[43m        \u001b[49m\u001b[43marray\u001b[49m\u001b[43m,\u001b[49m\n\u001b[1;32m   1066\u001b[0m \u001b[43m        \u001b[49m\u001b[43minput_name\u001b[49m\u001b[38;5;241;43m=\u001b[39;49m\u001b[43minput_name\u001b[49m\u001b[43m,\u001b[49m\n\u001b[1;32m   1067\u001b[0m \u001b[43m        \u001b[49m\u001b[43mestimator_name\u001b[49m\u001b[38;5;241;43m=\u001b[39;49m\u001b[43mestimator_name\u001b[49m\u001b[43m,\u001b[49m\n\u001b[1;32m   1068\u001b[0m \u001b[43m        \u001b[49m\u001b[43mallow_nan\u001b[49m\u001b[38;5;241;43m=\u001b[39;49m\u001b[43mforce_all_finite\u001b[49m\u001b[43m \u001b[49m\u001b[38;5;241;43m==\u001b[39;49m\u001b[43m \u001b[49m\u001b[38;5;124;43m\"\u001b[39;49m\u001b[38;5;124;43mallow-nan\u001b[39;49m\u001b[38;5;124;43m\"\u001b[39;49m\u001b[43m,\u001b[49m\n\u001b[1;32m   1069\u001b[0m \u001b[43m    \u001b[49m\u001b[43m)\u001b[49m\n\u001b[1;32m   1071\u001b[0m \u001b[38;5;28;01mif\u001b[39;00m copy:\n\u001b[1;32m   1072\u001b[0m     \u001b[38;5;28;01mif\u001b[39;00m _is_numpy_namespace(xp):\n\u001b[1;32m   1073\u001b[0m         \u001b[38;5;66;03m# only make a copy if `array` and `array_orig` may share memory`\u001b[39;00m\n",
      "File \u001b[0;32m~/miniconda3/envs/manify/lib/python3.10/site-packages/sklearn/utils/validation.py:123\u001b[0m, in \u001b[0;36m_assert_all_finite\u001b[0;34m(X, allow_nan, msg_dtype, estimator_name, input_name)\u001b[0m\n\u001b[1;32m    120\u001b[0m \u001b[38;5;28;01mif\u001b[39;00m first_pass_isfinite:\n\u001b[1;32m    121\u001b[0m     \u001b[38;5;28;01mreturn\u001b[39;00m\n\u001b[0;32m--> 123\u001b[0m \u001b[43m_assert_all_finite_element_wise\u001b[49m\u001b[43m(\u001b[49m\n\u001b[1;32m    124\u001b[0m \u001b[43m    \u001b[49m\u001b[43mX\u001b[49m\u001b[43m,\u001b[49m\n\u001b[1;32m    125\u001b[0m \u001b[43m    \u001b[49m\u001b[43mxp\u001b[49m\u001b[38;5;241;43m=\u001b[39;49m\u001b[43mxp\u001b[49m\u001b[43m,\u001b[49m\n\u001b[1;32m    126\u001b[0m \u001b[43m    \u001b[49m\u001b[43mallow_nan\u001b[49m\u001b[38;5;241;43m=\u001b[39;49m\u001b[43mallow_nan\u001b[49m\u001b[43m,\u001b[49m\n\u001b[1;32m    127\u001b[0m \u001b[43m    \u001b[49m\u001b[43mmsg_dtype\u001b[49m\u001b[38;5;241;43m=\u001b[39;49m\u001b[43mmsg_dtype\u001b[49m\u001b[43m,\u001b[49m\n\u001b[1;32m    128\u001b[0m \u001b[43m    \u001b[49m\u001b[43mestimator_name\u001b[49m\u001b[38;5;241;43m=\u001b[39;49m\u001b[43mestimator_name\u001b[49m\u001b[43m,\u001b[49m\n\u001b[1;32m    129\u001b[0m \u001b[43m    \u001b[49m\u001b[43minput_name\u001b[49m\u001b[38;5;241;43m=\u001b[39;49m\u001b[43minput_name\u001b[49m\u001b[43m,\u001b[49m\n\u001b[1;32m    130\u001b[0m \u001b[43m\u001b[49m\u001b[43m)\u001b[49m\n",
      "File \u001b[0;32m~/miniconda3/envs/manify/lib/python3.10/site-packages/sklearn/utils/validation.py:172\u001b[0m, in \u001b[0;36m_assert_all_finite_element_wise\u001b[0;34m(X, xp, allow_nan, msg_dtype, estimator_name, input_name)\u001b[0m\n\u001b[1;32m    155\u001b[0m \u001b[38;5;28;01mif\u001b[39;00m estimator_name \u001b[38;5;129;01mand\u001b[39;00m input_name \u001b[38;5;241m==\u001b[39m \u001b[38;5;124m\"\u001b[39m\u001b[38;5;124mX\u001b[39m\u001b[38;5;124m\"\u001b[39m \u001b[38;5;129;01mand\u001b[39;00m has_nan_error:\n\u001b[1;32m    156\u001b[0m     \u001b[38;5;66;03m# Improve the error message on how to handle missing values in\u001b[39;00m\n\u001b[1;32m    157\u001b[0m     \u001b[38;5;66;03m# scikit-learn.\u001b[39;00m\n\u001b[1;32m    158\u001b[0m     msg_err \u001b[38;5;241m+\u001b[39m\u001b[38;5;241m=\u001b[39m (\n\u001b[1;32m    159\u001b[0m         \u001b[38;5;124mf\u001b[39m\u001b[38;5;124m\"\u001b[39m\u001b[38;5;130;01m\\n\u001b[39;00m\u001b[38;5;132;01m{\u001b[39;00mestimator_name\u001b[38;5;132;01m}\u001b[39;00m\u001b[38;5;124m does not accept missing values\u001b[39m\u001b[38;5;124m\"\u001b[39m\n\u001b[1;32m    160\u001b[0m         \u001b[38;5;124m\"\u001b[39m\u001b[38;5;124m encoded as NaN natively. For supervised learning, you might want\u001b[39m\u001b[38;5;124m\"\u001b[39m\n\u001b[0;32m   (...)\u001b[0m\n\u001b[1;32m    170\u001b[0m         \u001b[38;5;124m\"\u001b[39m\u001b[38;5;124m#estimators-that-handle-nan-values\u001b[39m\u001b[38;5;124m\"\u001b[39m\n\u001b[1;32m    171\u001b[0m     )\n\u001b[0;32m--> 172\u001b[0m \u001b[38;5;28;01mraise\u001b[39;00m \u001b[38;5;167;01mValueError\u001b[39;00m(msg_err)\n",
      "\u001b[0;31mValueError\u001b[0m: Input contains NaN."
     ]
    }
   ],
   "source": [
    "# Traffic\n",
    "\n",
    "features, _, _, labels = load_hf(\"traffic\")\n",
    "print(features.shape, labels.shape, labels.float().mean())\n",
    "\n",
    "# Sort features by time\n",
    "traffic_df = pd.read_csv(\"/home/phil/manify/data/traffic/traffic.csv\")\n",
    "idx = np.argsort(traffic_df[\"DateTime\"])\n",
    "features = features[idx]\n",
    "\n",
    "# Take first 80% of samples for training and last 20% for testing\n",
    "train_size = int(0.8 * len(features))\n",
    "X_train, y_train = features[:train_size], labels[:train_size]\n",
    "X_test, y_test = features[train_size:], labels[train_size:]\n",
    "print(X_train.shape, y_train.shape, X_test.shape, y_test.shape)\n",
    "\n",
    "# Manifold\n",
    "pm = manify.ProductManifold(signature=[(0.0, 1), (1.0, 1), (1.0, 1), (1.0, 1), (1.0, 1)])\n",
    "\n",
    "res = []\n",
    "for trial in range(10):\n",
    "    # Subsample training data\n",
    "    idx = np.random.choice(len(X_train), size=800, replace=False)\n",
    "    X_train_sub = X_train[idx]\n",
    "    y_train_sub = y_train[idx]\n",
    "\n",
    "    # Subsample testing data\n",
    "    idx = np.random.choice(len(X_test), size=200, replace=False)\n",
    "    X_test_sub = X_test[idx]\n",
    "    y_test_sub = y_test[idx]\n",
    "\n",
    "    # Benchmark: Product RF Ambient RF Tangent RF k-Neighbors Ambient MLP κ-GCN\n",
    "    res.append(\n",
    "        benchmark(\n",
    "            X=None,\n",
    "            y=None,\n",
    "            X_train=X_train_sub,\n",
    "            y_train=y_train_sub,\n",
    "            X_test=X_test_sub,\n",
    "            y_test=y_test_sub,\n",
    "            pm=pm,\n",
    "            models=MODELS,\n",
    "            device=\"cuda\",\n",
    "            task=\"regression\",\n",
    "            score=[\"rmse\"],\n",
    "        )\n",
    "    )\n",
    "res = pd.DataFrame(res)\n",
    "res.agg(agg)"
   ]
  },
  {
   "cell_type": "code",
   "execution_count": null,
   "id": "3dcb095b",
   "metadata": {},
   "outputs": [
    {
     "name": "stdout",
     "output_type": "stream",
     "text": [
      "torch.Size([5352, 5]) torch.Size([5352]) tensor(17.8066)\n",
      "torch.Size([4460, 5]) torch.Size([4460]) torch.Size([892, 5]) torch.Size([892])\n"
     ]
    },
    {
     "data": {
      "application/vnd.jupyter.widget-view+json": {
       "model_id": "86107f8453ce4ee287fbc5f11d26712c",
       "version_major": 2,
       "version_minor": 0
      },
      "text/plain": [
       "ambient_mlp:   0%|          | 0/4000 [00:00<?, ?it/s]"
      ]
     },
     "metadata": {},
     "output_type": "display_data"
    },
    {
     "ename": "KeyboardInterrupt",
     "evalue": "",
     "output_type": "error",
     "traceback": [
      "\u001b[0;31m---------------------------------------------------------------------------\u001b[0m",
      "\u001b[0;31mKeyboardInterrupt\u001b[0m                         Traceback (most recent call last)",
      "Cell \u001b[0;32mIn[6], line 58\u001b[0m\n\u001b[1;32m     54\u001b[0m     y_test_sub \u001b[38;5;241m=\u001b[39m y_test[idx]\n\u001b[1;32m     56\u001b[0m     \u001b[38;5;66;03m# Benchmark: Product RF Ambient RF Tangent RF k-Neighbors Ambient MLP κ-GCN\u001b[39;00m\n\u001b[1;32m     57\u001b[0m     res\u001b[38;5;241m.\u001b[39mappend(\n\u001b[0;32m---> 58\u001b[0m         \u001b[43mbenchmark\u001b[49m\u001b[43m(\u001b[49m\n\u001b[1;32m     59\u001b[0m \u001b[43m            \u001b[49m\u001b[43mX\u001b[49m\u001b[38;5;241;43m=\u001b[39;49m\u001b[38;5;28;43;01mNone\u001b[39;49;00m\u001b[43m,\u001b[49m\n\u001b[1;32m     60\u001b[0m \u001b[43m            \u001b[49m\u001b[43my\u001b[49m\u001b[38;5;241;43m=\u001b[39;49m\u001b[38;5;28;43;01mNone\u001b[39;49;00m\u001b[43m,\u001b[49m\n\u001b[1;32m     61\u001b[0m \u001b[43m            \u001b[49m\u001b[43mX_train\u001b[49m\u001b[38;5;241;43m=\u001b[39;49m\u001b[43mX_train_sub\u001b[49m\u001b[43m,\u001b[49m\n\u001b[1;32m     62\u001b[0m \u001b[43m            \u001b[49m\u001b[43my_train\u001b[49m\u001b[38;5;241;43m=\u001b[39;49m\u001b[43my_train_sub\u001b[49m\u001b[43m,\u001b[49m\n\u001b[1;32m     63\u001b[0m \u001b[43m            \u001b[49m\u001b[43mX_test\u001b[49m\u001b[38;5;241;43m=\u001b[39;49m\u001b[43mX_test_sub\u001b[49m\u001b[43m,\u001b[49m\n\u001b[1;32m     64\u001b[0m \u001b[43m            \u001b[49m\u001b[43my_test\u001b[49m\u001b[38;5;241;43m=\u001b[39;49m\u001b[43my_test_sub\u001b[49m\u001b[43m,\u001b[49m\n\u001b[1;32m     65\u001b[0m \u001b[43m            \u001b[49m\u001b[43mpm\u001b[49m\u001b[38;5;241;43m=\u001b[39;49m\u001b[43mpm\u001b[49m\u001b[43m,\u001b[49m\n\u001b[1;32m     66\u001b[0m \u001b[43m            \u001b[49m\u001b[43mmodels\u001b[49m\u001b[38;5;241;43m=\u001b[39;49m\u001b[43mMODELS\u001b[49m\u001b[43m,\u001b[49m\n\u001b[1;32m     67\u001b[0m \u001b[43m            \u001b[49m\u001b[43mdevice\u001b[49m\u001b[38;5;241;43m=\u001b[39;49m\u001b[38;5;124;43m\"\u001b[39;49m\u001b[38;5;124;43mcuda\u001b[39;49m\u001b[38;5;124;43m\"\u001b[39;49m\u001b[43m,\u001b[49m\n\u001b[1;32m     68\u001b[0m \u001b[43m        \u001b[49m\u001b[43m)\u001b[49m\n\u001b[1;32m     69\u001b[0m     )\n\u001b[1;32m     70\u001b[0m res \u001b[38;5;241m=\u001b[39m pd\u001b[38;5;241m.\u001b[39mDataFrame(res)\n\u001b[1;32m     71\u001b[0m res\u001b[38;5;241m.\u001b[39magg(agg)\n",
      "File \u001b[0;32m~/manify/manify/utils/benchmarks.py:487\u001b[0m, in \u001b[0;36mbenchmark\u001b[0;34m(X, y, pm, device, score, models, max_depth, n_estimators, min_samples_split, min_samples_leaf, task, seed, use_special_dims, n_features, X_train, X_test, y_train, y_test, batch_size, adj, A_train, A_test, hidden_dims, epochs, lr, kappa_gcn_layers, lp_train_idx, lp_test_idx)\u001b[0m\n\u001b[1;32m    485\u001b[0m ambient_mlp \u001b[38;5;241m=\u001b[39m KappaGCN(pm\u001b[38;5;241m=\u001b[39mpm_euc, \u001b[38;5;241m*\u001b[39m\u001b[38;5;241m*\u001b[39mnn_kwargs)\u001b[38;5;241m.\u001b[39mto(device)  \u001b[38;5;66;03m# type: ignore\u001b[39;00m\n\u001b[1;32m    486\u001b[0m t1 \u001b[38;5;241m=\u001b[39m time\u001b[38;5;241m.\u001b[39mtime()\n\u001b[0;32m--> 487\u001b[0m \u001b[43mambient_mlp\u001b[49m\u001b[38;5;241;43m.\u001b[39;49m\u001b[43mfit\u001b[49m\u001b[43m(\u001b[49m\u001b[43mX_train\u001b[49m\u001b[43m,\u001b[49m\u001b[43m \u001b[49m\u001b[43my_train\u001b[49m\u001b[43m,\u001b[49m\u001b[43m \u001b[49m\u001b[43mA\u001b[49m\u001b[38;5;241;43m=\u001b[39;49m\u001b[38;5;28;43;01mNone\u001b[39;49;00m\u001b[43m,\u001b[49m\u001b[43m \u001b[49m\u001b[43mtqdm_prefix\u001b[49m\u001b[38;5;241;43m=\u001b[39;49m\u001b[38;5;124;43m\"\u001b[39;49m\u001b[38;5;124;43mambient_mlp\u001b[39;49m\u001b[38;5;124;43m\"\u001b[39;49m\u001b[43m,\u001b[49m\u001b[43m \u001b[49m\u001b[38;5;241;43m*\u001b[39;49m\u001b[38;5;241;43m*\u001b[39;49m\u001b[43mnn_train_kwargs\u001b[49m\u001b[43m)\u001b[49m\n\u001b[1;32m    488\u001b[0m t2 \u001b[38;5;241m=\u001b[39m time\u001b[38;5;241m.\u001b[39mtime()\n\u001b[1;32m    489\u001b[0m y_pred \u001b[38;5;241m=\u001b[39m ambient_mlp\u001b[38;5;241m.\u001b[39mpredict(X_test, A\u001b[38;5;241m=\u001b[39m\u001b[38;5;28;01mNone\u001b[39;00m)\n",
      "File \u001b[0;32m~/manify/manify/predictors/kappa_gcn.py:410\u001b[0m, in \u001b[0;36mKappaGCN.fit\u001b[0;34m(self, X, y, A, epochs, lr, use_tqdm, lp_indices, tqdm_prefix)\u001b[0m\n\u001b[1;32m    408\u001b[0m     y_pred \u001b[38;5;241m=\u001b[39m y_pred[lp_indices]\n\u001b[1;32m    409\u001b[0m loss \u001b[38;5;241m=\u001b[39m loss_fn(y_pred, y)\n\u001b[0;32m--> 410\u001b[0m \u001b[43mloss\u001b[49m\u001b[38;5;241;43m.\u001b[39;49m\u001b[43mbackward\u001b[49m\u001b[43m(\u001b[49m\u001b[43m)\u001b[49m\n\u001b[1;32m    411\u001b[0m opt\u001b[38;5;241m.\u001b[39mstep()\n\u001b[1;32m    412\u001b[0m \u001b[38;5;28;01mif\u001b[39;00m ropt_params:\n",
      "File \u001b[0;32m~/miniconda3/envs/manify/lib/python3.10/site-packages/torch/_tensor.py:626\u001b[0m, in \u001b[0;36mTensor.backward\u001b[0;34m(self, gradient, retain_graph, create_graph, inputs)\u001b[0m\n\u001b[1;32m    616\u001b[0m \u001b[38;5;28;01mif\u001b[39;00m has_torch_function_unary(\u001b[38;5;28mself\u001b[39m):\n\u001b[1;32m    617\u001b[0m     \u001b[38;5;28;01mreturn\u001b[39;00m handle_torch_function(\n\u001b[1;32m    618\u001b[0m         Tensor\u001b[38;5;241m.\u001b[39mbackward,\n\u001b[1;32m    619\u001b[0m         (\u001b[38;5;28mself\u001b[39m,),\n\u001b[0;32m   (...)\u001b[0m\n\u001b[1;32m    624\u001b[0m         inputs\u001b[38;5;241m=\u001b[39minputs,\n\u001b[1;32m    625\u001b[0m     )\n\u001b[0;32m--> 626\u001b[0m \u001b[43mtorch\u001b[49m\u001b[38;5;241;43m.\u001b[39;49m\u001b[43mautograd\u001b[49m\u001b[38;5;241;43m.\u001b[39;49m\u001b[43mbackward\u001b[49m\u001b[43m(\u001b[49m\n\u001b[1;32m    627\u001b[0m \u001b[43m    \u001b[49m\u001b[38;5;28;43mself\u001b[39;49m\u001b[43m,\u001b[49m\u001b[43m \u001b[49m\u001b[43mgradient\u001b[49m\u001b[43m,\u001b[49m\u001b[43m \u001b[49m\u001b[43mretain_graph\u001b[49m\u001b[43m,\u001b[49m\u001b[43m \u001b[49m\u001b[43mcreate_graph\u001b[49m\u001b[43m,\u001b[49m\u001b[43m \u001b[49m\u001b[43minputs\u001b[49m\u001b[38;5;241;43m=\u001b[39;49m\u001b[43minputs\u001b[49m\n\u001b[1;32m    628\u001b[0m \u001b[43m\u001b[49m\u001b[43m)\u001b[49m\n",
      "File \u001b[0;32m~/miniconda3/envs/manify/lib/python3.10/site-packages/torch/autograd/__init__.py:347\u001b[0m, in \u001b[0;36mbackward\u001b[0;34m(tensors, grad_tensors, retain_graph, create_graph, grad_variables, inputs)\u001b[0m\n\u001b[1;32m    342\u001b[0m     retain_graph \u001b[38;5;241m=\u001b[39m create_graph\n\u001b[1;32m    344\u001b[0m \u001b[38;5;66;03m# The reason we repeat the same comment below is that\u001b[39;00m\n\u001b[1;32m    345\u001b[0m \u001b[38;5;66;03m# some Python versions print out the first line of a multi-line function\u001b[39;00m\n\u001b[1;32m    346\u001b[0m \u001b[38;5;66;03m# calls in the traceback and some print out the last line\u001b[39;00m\n\u001b[0;32m--> 347\u001b[0m \u001b[43m_engine_run_backward\u001b[49m\u001b[43m(\u001b[49m\n\u001b[1;32m    348\u001b[0m \u001b[43m    \u001b[49m\u001b[43mtensors\u001b[49m\u001b[43m,\u001b[49m\n\u001b[1;32m    349\u001b[0m \u001b[43m    \u001b[49m\u001b[43mgrad_tensors_\u001b[49m\u001b[43m,\u001b[49m\n\u001b[1;32m    350\u001b[0m \u001b[43m    \u001b[49m\u001b[43mretain_graph\u001b[49m\u001b[43m,\u001b[49m\n\u001b[1;32m    351\u001b[0m \u001b[43m    \u001b[49m\u001b[43mcreate_graph\u001b[49m\u001b[43m,\u001b[49m\n\u001b[1;32m    352\u001b[0m \u001b[43m    \u001b[49m\u001b[43minputs\u001b[49m\u001b[43m,\u001b[49m\n\u001b[1;32m    353\u001b[0m \u001b[43m    \u001b[49m\u001b[43mallow_unreachable\u001b[49m\u001b[38;5;241;43m=\u001b[39;49m\u001b[38;5;28;43;01mTrue\u001b[39;49;00m\u001b[43m,\u001b[49m\n\u001b[1;32m    354\u001b[0m \u001b[43m    \u001b[49m\u001b[43maccumulate_grad\u001b[49m\u001b[38;5;241;43m=\u001b[39;49m\u001b[38;5;28;43;01mTrue\u001b[39;49;00m\u001b[43m,\u001b[49m\n\u001b[1;32m    355\u001b[0m \u001b[43m\u001b[49m\u001b[43m)\u001b[49m\n",
      "File \u001b[0;32m~/miniconda3/envs/manify/lib/python3.10/site-packages/torch/autograd/graph.py:823\u001b[0m, in \u001b[0;36m_engine_run_backward\u001b[0;34m(t_outputs, *args, **kwargs)\u001b[0m\n\u001b[1;32m    821\u001b[0m     unregister_hooks \u001b[38;5;241m=\u001b[39m _register_logging_hooks_on_whole_graph(t_outputs)\n\u001b[1;32m    822\u001b[0m \u001b[38;5;28;01mtry\u001b[39;00m:\n\u001b[0;32m--> 823\u001b[0m     \u001b[38;5;28;01mreturn\u001b[39;00m \u001b[43mVariable\u001b[49m\u001b[38;5;241;43m.\u001b[39;49m\u001b[43m_execution_engine\u001b[49m\u001b[38;5;241;43m.\u001b[39;49m\u001b[43mrun_backward\u001b[49m\u001b[43m(\u001b[49m\u001b[43m  \u001b[49m\u001b[38;5;66;43;03m# Calls into the C++ engine to run the backward pass\u001b[39;49;00m\n\u001b[1;32m    824\u001b[0m \u001b[43m        \u001b[49m\u001b[43mt_outputs\u001b[49m\u001b[43m,\u001b[49m\u001b[43m \u001b[49m\u001b[38;5;241;43m*\u001b[39;49m\u001b[43margs\u001b[49m\u001b[43m,\u001b[49m\u001b[43m \u001b[49m\u001b[38;5;241;43m*\u001b[39;49m\u001b[38;5;241;43m*\u001b[39;49m\u001b[43mkwargs\u001b[49m\n\u001b[1;32m    825\u001b[0m \u001b[43m    \u001b[49m\u001b[43m)\u001b[49m  \u001b[38;5;66;03m# Calls into the C++ engine to run the backward pass\u001b[39;00m\n\u001b[1;32m    826\u001b[0m \u001b[38;5;28;01mfinally\u001b[39;00m:\n\u001b[1;32m    827\u001b[0m     \u001b[38;5;28;01mif\u001b[39;00m attach_logging_hooks:\n",
      "\u001b[0;31mKeyboardInterrupt\u001b[0m: "
     ]
    }
   ],
   "source": [
    "# Temperature\n",
    "\n",
    "features, _, _, labels = load_hf(\"temperature\")\n",
    "print(features.shape, labels.shape, labels.float().mean())\n",
    "\n",
    "\n",
    "def _unit_circle_point_to_month(month_x, month_y):\n",
    "    \"\"\"Convert unit circle point back to month abbreviation.\"\"\"\n",
    "\n",
    "    # Get angle from coordinates\n",
    "    angle = np.arctan2(month_y, month_x)\n",
    "\n",
    "    # Convert to month index (handle negative angles)\n",
    "    index = int(round((angle % (2 * np.pi)) * 12 / (2 * np.pi))) % 12\n",
    "\n",
    "    return index\n",
    "\n",
    "\n",
    "# Usage with your feature matrix\n",
    "def get_months_from_features(features):\n",
    "    \"\"\"Extract months from feature matrix.\"\"\"\n",
    "    month_x = features[:, 3]  # Month_X column\n",
    "    month_y = features[:, 4]  # Month_Y column\n",
    "\n",
    "    months = []\n",
    "    for mx, my in zip(month_x, month_y):\n",
    "        months.append(_unit_circle_point_to_month(mx.item(), my.item()))\n",
    "\n",
    "    return months\n",
    "\n",
    "\n",
    "months = get_months_from_features(features)\n",
    "\n",
    "# Validation set is months 10, 11 (November, December)\n",
    "train_mask = np.isin(months, [0, 1, 2, 3, 4, 5, 6, 7, 8, 9])  # January to September\n",
    "train_size = len(features[train_mask])\n",
    "X_train, y_train = features[train_mask], labels[train_mask]\n",
    "X_test, y_test = features[~train_mask], labels[~train_mask]\n",
    "print(X_train.shape, y_train.shape, X_test.shape, y_test.shape)\n",
    "\n",
    "# Manifold\n",
    "pm = manify.ProductManifold(signature=[(1.0, 2), (1.0, 1)])\n",
    "\n",
    "res = []\n",
    "for trial in range(10):\n",
    "    # Subsample training data\n",
    "    idx = np.random.choice(len(X_train), size=800, replace=False)\n",
    "    X_train_sub = X_train[idx]\n",
    "    y_train_sub = y_train[idx]\n",
    "\n",
    "    # Subsample testing data\n",
    "    idx = np.random.choice(len(X_test), size=200, replace=False)\n",
    "    X_test_sub = X_test[idx]\n",
    "    y_test_sub = y_test[idx]\n",
    "\n",
    "    # Benchmark: Product RF Ambient RF Tangent RF k-Neighbors Ambient MLP κ-GCN\n",
    "    res.append(\n",
    "        benchmark(\n",
    "            X=None,\n",
    "            y=None,\n",
    "            X_train=X_train_sub,\n",
    "            y_train=y_train_sub,\n",
    "            X_test=X_test_sub,\n",
    "            y_test=y_test_sub,\n",
    "            pm=pm,\n",
    "            models=MODELS,\n",
    "            device=\"cuda\",\n",
    "            task=\"regression\",\n",
    "            score=[\"rmse\"],\n",
    "        )\n",
    "    )\n",
    "res = pd.DataFrame(res)\n",
    "res.agg(agg)"
   ]
  },
  {
   "cell_type": "code",
   "execution_count": null,
   "id": "5196b835",
   "metadata": {},
   "outputs": [],
   "source": []
  }
 ],
 "metadata": {
  "kernelspec": {
   "display_name": "manify",
   "language": "python",
   "name": "python3"
  },
  "language_info": {
   "codemirror_mode": {
    "name": "ipython",
    "version": 3
   },
   "file_extension": ".py",
   "mimetype": "text/x-python",
   "name": "python",
   "nbconvert_exporter": "python",
   "pygments_lexer": "ipython3",
   "version": "undefined.undefined.undefined"
  }
 },
 "nbformat": 4,
 "nbformat_minor": 5
}
