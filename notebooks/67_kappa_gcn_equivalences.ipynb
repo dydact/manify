{
 "cells": [
  {
   "cell_type": "code",
   "execution_count": 1,
   "id": "b3fb8c41",
   "metadata": {},
   "outputs": [],
   "source": [
    "%load_ext autoreload\n",
    "%autoreload 2"
   ]
  },
  {
   "cell_type": "code",
   "execution_count": 2,
   "id": "c889aaca",
   "metadata": {},
   "outputs": [],
   "source": [
    "import pandas as pd\n",
    "import torch\n",
    "import numpy as np\n",
    "import manify\n",
    "import matplotlib.pyplot as plt\n",
    "\n",
    "from tqdm.notebook import tqdm\n",
    "from sklearn.linear_model import LogisticRegression"
   ]
  },
  {
   "cell_type": "code",
   "execution_count": 3,
   "id": "9ccf73bf",
   "metadata": {},
   "outputs": [],
   "source": [
    "# Basic GCN implementation\n",
    "\n",
    "\n",
    "class VanillaGCNLayer(torch.nn.Module):\n",
    "    def __init__(self, in_features, out_features):\n",
    "        super().__init__()\n",
    "        self.W = torch.nn.Parameter(torch.randn(in_features, out_features) * 0.01)\n",
    "\n",
    "    def forward(self, X, A_hat):\n",
    "        return A_hat @ X @ self.W\n",
    "\n",
    "\n",
    "class VanillaGCN(torch.nn.Module):\n",
    "    def __init__(self, dim, classes, num_hidden=4):\n",
    "        super().__init__()\n",
    "        self.layers = torch.nn.ModuleList()\n",
    "        for i in range(num_hidden):\n",
    "            self.layers.append(VanillaGCNLayer(dim, dim))\n",
    "            self.layers.append(torch.nn.ReLU())\n",
    "        self.layers.append(torch.nn.Linear(dim, classes))\n",
    "\n",
    "    def forward(self, X, A_hat):\n",
    "        for layer in self.layers:\n",
    "            if isinstance(layer, VanillaGCNLayer):\n",
    "                X = layer(X, A_hat)\n",
    "            else:\n",
    "                X = layer(X)\n",
    "        return X"
   ]
  },
  {
   "cell_type": "code",
   "execution_count": null,
   "id": "0ab0baa1",
   "metadata": {},
   "outputs": [
    {
     "name": "stdout",
     "output_type": "stream",
     "text": [
      "Seed: 0\n"
     ]
    },
    {
     "data": {
      "application/vnd.jupyter.widget-view+json": {
       "model_id": "fc991ec58489467d9b953626b7343c2c",
       "version_major": 2,
       "version_minor": 0
      },
      "text/plain": [
       "  0%|          | 0/1000 [00:00<?, ?it/s]"
      ]
     },
     "metadata": {},
     "output_type": "display_data"
    },
    {
     "data": {
      "application/vnd.jupyter.widget-view+json": {
       "model_id": "28a7b3416e594687bdd84b06f28397de",
       "version_major": 2,
       "version_minor": 0
      },
      "text/plain": [
       "  0%|          | 0/1000 [00:00<?, ?it/s]"
      ]
     },
     "metadata": {},
     "output_type": "display_data"
    },
    {
     "data": {
      "application/vnd.jupyter.widget-view+json": {
       "model_id": "7affe925259149c4bbfaf4807e56cd51",
       "version_major": 2,
       "version_minor": 0
      },
      "text/plain": [
       "  0%|          | 0/1000 [00:00<?, ?it/s]"
      ]
     },
     "metadata": {},
     "output_type": "display_data"
    },
    {
     "data": {
      "application/vnd.jupyter.widget-view+json": {
       "model_id": "00a1710a71c849b2a0daeb0883551e41",
       "version_major": 2,
       "version_minor": 0
      },
      "text/plain": [
       "  0%|          | 0/1000 [00:00<?, ?it/s]"
      ]
     },
     "metadata": {},
     "output_type": "display_data"
    },
    {
     "data": {
      "application/vnd.jupyter.widget-view+json": {
       "model_id": "93956dd17069431f8501f600e55c68a7",
       "version_major": 2,
       "version_minor": 0
      },
      "text/plain": [
       "  0%|          | 0/1000 [00:00<?, ?it/s]"
      ]
     },
     "metadata": {},
     "output_type": "display_data"
    },
    {
     "data": {
      "application/vnd.jupyter.widget-view+json": {
       "model_id": "da533130e08644deaef532bf0540c294",
       "version_major": 2,
       "version_minor": 0
      },
      "text/plain": [
       "  0%|          | 0/1000 [00:00<?, ?it/s]"
      ]
     },
     "metadata": {},
     "output_type": "display_data"
    },
    {
     "name": "stdout",
     "output_type": "stream",
     "text": [
      "Seed: 1\n"
     ]
    },
    {
     "data": {
      "application/vnd.jupyter.widget-view+json": {
       "model_id": "4db79075efea47849e85330c746391c2",
       "version_major": 2,
       "version_minor": 0
      },
      "text/plain": [
       "  0%|          | 0/1000 [00:00<?, ?it/s]"
      ]
     },
     "metadata": {},
     "output_type": "display_data"
    },
    {
     "data": {
      "application/vnd.jupyter.widget-view+json": {
       "model_id": "9b161abf3a1f4d139f924647f00dc65b",
       "version_major": 2,
       "version_minor": 0
      },
      "text/plain": [
       "  0%|          | 0/1000 [00:00<?, ?it/s]"
      ]
     },
     "metadata": {},
     "output_type": "display_data"
    },
    {
     "data": {
      "application/vnd.jupyter.widget-view+json": {
       "model_id": "4c785d41b1ac489bb2218ad0f02c55dc",
       "version_major": 2,
       "version_minor": 0
      },
      "text/plain": [
       "  0%|          | 0/1000 [00:00<?, ?it/s]"
      ]
     },
     "metadata": {},
     "output_type": "display_data"
    },
    {
     "data": {
      "application/vnd.jupyter.widget-view+json": {
       "model_id": "48dcbc3cc7da485c86883cbe906092d5",
       "version_major": 2,
       "version_minor": 0
      },
      "text/plain": [
       "  0%|          | 0/1000 [00:00<?, ?it/s]"
      ]
     },
     "metadata": {},
     "output_type": "display_data"
    },
    {
     "data": {
      "application/vnd.jupyter.widget-view+json": {
       "model_id": "78a593292e564f0caf975e96b6f23214",
       "version_major": 2,
       "version_minor": 0
      },
      "text/plain": [
       "  0%|          | 0/1000 [00:00<?, ?it/s]"
      ]
     },
     "metadata": {},
     "output_type": "display_data"
    },
    {
     "data": {
      "application/vnd.jupyter.widget-view+json": {
       "model_id": "8300386826664764955ba78c7c70377e",
       "version_major": 2,
       "version_minor": 0
      },
      "text/plain": [
       "  0%|          | 0/1000 [00:00<?, ?it/s]"
      ]
     },
     "metadata": {},
     "output_type": "display_data"
    },
    {
     "name": "stdout",
     "output_type": "stream",
     "text": [
      "Seed: 2\n"
     ]
    },
    {
     "data": {
      "application/vnd.jupyter.widget-view+json": {
       "model_id": "f9cdec54db0a4d5c93e1aef69514b6e6",
       "version_major": 2,
       "version_minor": 0
      },
      "text/plain": [
       "  0%|          | 0/1000 [00:00<?, ?it/s]"
      ]
     },
     "metadata": {},
     "output_type": "display_data"
    },
    {
     "data": {
      "application/vnd.jupyter.widget-view+json": {
       "model_id": "458485d494cf4011a5cbbb58e23e0a5d",
       "version_major": 2,
       "version_minor": 0
      },
      "text/plain": [
       "  0%|          | 0/1000 [00:00<?, ?it/s]"
      ]
     },
     "metadata": {},
     "output_type": "display_data"
    },
    {
     "data": {
      "application/vnd.jupyter.widget-view+json": {
       "model_id": "524e8a0595ed47468d7070b3e8e2b3d9",
       "version_major": 2,
       "version_minor": 0
      },
      "text/plain": [
       "  0%|          | 0/1000 [00:00<?, ?it/s]"
      ]
     },
     "metadata": {},
     "output_type": "display_data"
    },
    {
     "data": {
      "application/vnd.jupyter.widget-view+json": {
       "model_id": "236231b775834b0696e942fd691c1f97",
       "version_major": 2,
       "version_minor": 0
      },
      "text/plain": [
       "  0%|          | 0/1000 [00:00<?, ?it/s]"
      ]
     },
     "metadata": {},
     "output_type": "display_data"
    },
    {
     "data": {
      "application/vnd.jupyter.widget-view+json": {
       "model_id": "20448ad11f0c485b9c6cbfd9fcdb2738",
       "version_major": 2,
       "version_minor": 0
      },
      "text/plain": [
       "  0%|          | 0/1000 [00:00<?, ?it/s]"
      ]
     },
     "metadata": {},
     "output_type": "display_data"
    },
    {
     "data": {
      "application/vnd.jupyter.widget-view+json": {
       "model_id": "a0fbbe6a37094b7fae1dcd60ca404d17",
       "version_major": 2,
       "version_minor": 0
      },
      "text/plain": [
       "  0%|          | 0/1000 [00:00<?, ?it/s]"
      ]
     },
     "metadata": {},
     "output_type": "display_data"
    },
    {
     "name": "stdout",
     "output_type": "stream",
     "text": [
      "Seed: 3\n"
     ]
    },
    {
     "data": {
      "application/vnd.jupyter.widget-view+json": {
       "model_id": "f3bcd0a3e6944c5ca6cc390360effd3f",
       "version_major": 2,
       "version_minor": 0
      },
      "text/plain": [
       "  0%|          | 0/1000 [00:00<?, ?it/s]"
      ]
     },
     "metadata": {},
     "output_type": "display_data"
    },
    {
     "data": {
      "application/vnd.jupyter.widget-view+json": {
       "model_id": "68cba9f6836e4675ad04f7b92d13482d",
       "version_major": 2,
       "version_minor": 0
      },
      "text/plain": [
       "  0%|          | 0/1000 [00:00<?, ?it/s]"
      ]
     },
     "metadata": {},
     "output_type": "display_data"
    },
    {
     "data": {
      "application/vnd.jupyter.widget-view+json": {
       "model_id": "1bf6faf0643e4d73b8b496cbeb626238",
       "version_major": 2,
       "version_minor": 0
      },
      "text/plain": [
       "  0%|          | 0/1000 [00:00<?, ?it/s]"
      ]
     },
     "metadata": {},
     "output_type": "display_data"
    },
    {
     "data": {
      "application/vnd.jupyter.widget-view+json": {
       "model_id": "32b0fe9cda9d43058cf09a6e3ace2731",
       "version_major": 2,
       "version_minor": 0
      },
      "text/plain": [
       "  0%|          | 0/1000 [00:00<?, ?it/s]"
      ]
     },
     "metadata": {},
     "output_type": "display_data"
    },
    {
     "data": {
      "application/vnd.jupyter.widget-view+json": {
       "model_id": "c28ede1aec0242f88f7a6de11c2f490b",
       "version_major": 2,
       "version_minor": 0
      },
      "text/plain": [
       "  0%|          | 0/1000 [00:00<?, ?it/s]"
      ]
     },
     "metadata": {},
     "output_type": "display_data"
    },
    {
     "data": {
      "application/vnd.jupyter.widget-view+json": {
       "model_id": "258eb64bf42a43aebca09d05d2b897cd",
       "version_major": 2,
       "version_minor": 0
      },
      "text/plain": [
       "  0%|          | 0/1000 [00:00<?, ?it/s]"
      ]
     },
     "metadata": {},
     "output_type": "display_data"
    },
    {
     "name": "stdout",
     "output_type": "stream",
     "text": [
      "Seed: 4\n"
     ]
    },
    {
     "data": {
      "application/vnd.jupyter.widget-view+json": {
       "model_id": "e46ef64852564476923fafddf24383ff",
       "version_major": 2,
       "version_minor": 0
      },
      "text/plain": [
       "  0%|          | 0/1000 [00:00<?, ?it/s]"
      ]
     },
     "metadata": {},
     "output_type": "display_data"
    },
    {
     "data": {
      "application/vnd.jupyter.widget-view+json": {
       "model_id": "6dbf168b24da4d2f817b843a9ab11e8e",
       "version_major": 2,
       "version_minor": 0
      },
      "text/plain": [
       "  0%|          | 0/1000 [00:00<?, ?it/s]"
      ]
     },
     "metadata": {},
     "output_type": "display_data"
    },
    {
     "data": {
      "application/vnd.jupyter.widget-view+json": {
       "model_id": "fce0017f815e441cbbf629e34d08893a",
       "version_major": 2,
       "version_minor": 0
      },
      "text/plain": [
       "  0%|          | 0/1000 [00:00<?, ?it/s]"
      ]
     },
     "metadata": {},
     "output_type": "display_data"
    },
    {
     "data": {
      "application/vnd.jupyter.widget-view+json": {
       "model_id": "b56bf674dbf640c4a135e06f3e3c0e1d",
       "version_major": 2,
       "version_minor": 0
      },
      "text/plain": [
       "  0%|          | 0/1000 [00:00<?, ?it/s]"
      ]
     },
     "metadata": {},
     "output_type": "display_data"
    },
    {
     "data": {
      "application/vnd.jupyter.widget-view+json": {
       "model_id": "81a94b6be64a41dd949ddc1b0d10b3e6",
       "version_major": 2,
       "version_minor": 0
      },
      "text/plain": [
       "  0%|          | 0/1000 [00:00<?, ?it/s]"
      ]
     },
     "metadata": {},
     "output_type": "display_data"
    },
    {
     "data": {
      "application/vnd.jupyter.widget-view+json": {
       "model_id": "ea35953e157e4b46a01ce0e93fb92181",
       "version_major": 2,
       "version_minor": 0
      },
      "text/plain": [
       "  0%|          | 0/1000 [00:00<?, ?it/s]"
      ]
     },
     "metadata": {},
     "output_type": "display_data"
    },
    {
     "name": "stdout",
     "output_type": "stream",
     "text": [
      "Seed: 5\n"
     ]
    },
    {
     "data": {
      "application/vnd.jupyter.widget-view+json": {
       "model_id": "3ce9d228cb3e495596d36398f50cf47c",
       "version_major": 2,
       "version_minor": 0
      },
      "text/plain": [
       "  0%|          | 0/1000 [00:00<?, ?it/s]"
      ]
     },
     "metadata": {},
     "output_type": "display_data"
    },
    {
     "data": {
      "application/vnd.jupyter.widget-view+json": {
       "model_id": "9a17b393f9a144559c5513f3b529f247",
       "version_major": 2,
       "version_minor": 0
      },
      "text/plain": [
       "  0%|          | 0/1000 [00:00<?, ?it/s]"
      ]
     },
     "metadata": {},
     "output_type": "display_data"
    },
    {
     "data": {
      "application/vnd.jupyter.widget-view+json": {
       "model_id": "b2afe1b2b78349e2a84ec1b6550521f3",
       "version_major": 2,
       "version_minor": 0
      },
      "text/plain": [
       "  0%|          | 0/1000 [00:00<?, ?it/s]"
      ]
     },
     "metadata": {},
     "output_type": "display_data"
    },
    {
     "data": {
      "application/vnd.jupyter.widget-view+json": {
       "model_id": "da76f63abecf4c47a815f4fade17ad98",
       "version_major": 2,
       "version_minor": 0
      },
      "text/plain": [
       "  0%|          | 0/1000 [00:00<?, ?it/s]"
      ]
     },
     "metadata": {},
     "output_type": "display_data"
    },
    {
     "data": {
      "application/vnd.jupyter.widget-view+json": {
       "model_id": "e76ec4a34c4047048067f0a63c823f6f",
       "version_major": 2,
       "version_minor": 0
      },
      "text/plain": [
       "  0%|          | 0/1000 [00:00<?, ?it/s]"
      ]
     },
     "metadata": {},
     "output_type": "display_data"
    },
    {
     "data": {
      "application/vnd.jupyter.widget-view+json": {
       "model_id": "e696f3a16d2749079a8329786a41e442",
       "version_major": 2,
       "version_minor": 0
      },
      "text/plain": [
       "  0%|          | 0/1000 [00:00<?, ?it/s]"
      ]
     },
     "metadata": {},
     "output_type": "display_data"
    },
    {
     "name": "stdout",
     "output_type": "stream",
     "text": [
      "Seed: 6\n"
     ]
    },
    {
     "data": {
      "application/vnd.jupyter.widget-view+json": {
       "model_id": "a741e975ed1d489aba1cea540ead7d36",
       "version_major": 2,
       "version_minor": 0
      },
      "text/plain": [
       "  0%|          | 0/1000 [00:00<?, ?it/s]"
      ]
     },
     "metadata": {},
     "output_type": "display_data"
    },
    {
     "data": {
      "application/vnd.jupyter.widget-view+json": {
       "model_id": "e617273b14e946de9f9dd88e069c184f",
       "version_major": 2,
       "version_minor": 0
      },
      "text/plain": [
       "  0%|          | 0/1000 [00:00<?, ?it/s]"
      ]
     },
     "metadata": {},
     "output_type": "display_data"
    },
    {
     "data": {
      "application/vnd.jupyter.widget-view+json": {
       "model_id": "2bc76e10a18144fcb8262caab17b47f5",
       "version_major": 2,
       "version_minor": 0
      },
      "text/plain": [
       "  0%|          | 0/1000 [00:00<?, ?it/s]"
      ]
     },
     "metadata": {},
     "output_type": "display_data"
    },
    {
     "data": {
      "application/vnd.jupyter.widget-view+json": {
       "model_id": "c7b07014532d404ebedfc785d15e9ce6",
       "version_major": 2,
       "version_minor": 0
      },
      "text/plain": [
       "  0%|          | 0/1000 [00:00<?, ?it/s]"
      ]
     },
     "metadata": {},
     "output_type": "display_data"
    },
    {
     "data": {
      "application/vnd.jupyter.widget-view+json": {
       "model_id": "bceb22aa7e5347439036aa660198d2eb",
       "version_major": 2,
       "version_minor": 0
      },
      "text/plain": [
       "  0%|          | 0/1000 [00:00<?, ?it/s]"
      ]
     },
     "metadata": {},
     "output_type": "display_data"
    },
    {
     "data": {
      "application/vnd.jupyter.widget-view+json": {
       "model_id": "cb141d29bf694ac2ba9ed3cf1ec9e101",
       "version_major": 2,
       "version_minor": 0
      },
      "text/plain": [
       "  0%|          | 0/1000 [00:00<?, ?it/s]"
      ]
     },
     "metadata": {},
     "output_type": "display_data"
    },
    {
     "name": "stdout",
     "output_type": "stream",
     "text": [
      "Seed: 7\n"
     ]
    },
    {
     "data": {
      "application/vnd.jupyter.widget-view+json": {
       "model_id": "2839ea8e9a9f4c00a7fc004eec01c7a7",
       "version_major": 2,
       "version_minor": 0
      },
      "text/plain": [
       "  0%|          | 0/1000 [00:00<?, ?it/s]"
      ]
     },
     "metadata": {},
     "output_type": "display_data"
    },
    {
     "data": {
      "application/vnd.jupyter.widget-view+json": {
       "model_id": "9cadb3c6931d4965bf785667bbf73d6b",
       "version_major": 2,
       "version_minor": 0
      },
      "text/plain": [
       "  0%|          | 0/1000 [00:00<?, ?it/s]"
      ]
     },
     "metadata": {},
     "output_type": "display_data"
    },
    {
     "data": {
      "application/vnd.jupyter.widget-view+json": {
       "model_id": "fcefc16134ce49fda1cfbdbe2d179dd0",
       "version_major": 2,
       "version_minor": 0
      },
      "text/plain": [
       "  0%|          | 0/1000 [00:00<?, ?it/s]"
      ]
     },
     "metadata": {},
     "output_type": "display_data"
    },
    {
     "data": {
      "application/vnd.jupyter.widget-view+json": {
       "model_id": "f97822b90a6f400b98afe3a66908e921",
       "version_major": 2,
       "version_minor": 0
      },
      "text/plain": [
       "  0%|          | 0/1000 [00:00<?, ?it/s]"
      ]
     },
     "metadata": {},
     "output_type": "display_data"
    },
    {
     "data": {
      "application/vnd.jupyter.widget-view+json": {
       "model_id": "fd9cb33dbf664c2cabfe5056f1b2a6dc",
       "version_major": 2,
       "version_minor": 0
      },
      "text/plain": [
       "  0%|          | 0/1000 [00:00<?, ?it/s]"
      ]
     },
     "metadata": {},
     "output_type": "display_data"
    },
    {
     "data": {
      "application/vnd.jupyter.widget-view+json": {
       "model_id": "1232250d57a94654a809228916d7a307",
       "version_major": 2,
       "version_minor": 0
      },
      "text/plain": [
       "  0%|          | 0/1000 [00:00<?, ?it/s]"
      ]
     },
     "metadata": {},
     "output_type": "display_data"
    },
    {
     "name": "stdout",
     "output_type": "stream",
     "text": [
      "Seed: 8\n"
     ]
    },
    {
     "data": {
      "application/vnd.jupyter.widget-view+json": {
       "model_id": "5b1cfba4b1eb438587a1ca2965182d0e",
       "version_major": 2,
       "version_minor": 0
      },
      "text/plain": [
       "  0%|          | 0/1000 [00:00<?, ?it/s]"
      ]
     },
     "metadata": {},
     "output_type": "display_data"
    },
    {
     "data": {
      "application/vnd.jupyter.widget-view+json": {
       "model_id": "3ac9f746e632478f8cd219fec8e6a140",
       "version_major": 2,
       "version_minor": 0
      },
      "text/plain": [
       "  0%|          | 0/1000 [00:00<?, ?it/s]"
      ]
     },
     "metadata": {},
     "output_type": "display_data"
    },
    {
     "data": {
      "application/vnd.jupyter.widget-view+json": {
       "model_id": "b2d95158ef6e45efba592f8ed8222330",
       "version_major": 2,
       "version_minor": 0
      },
      "text/plain": [
       "  0%|          | 0/1000 [00:00<?, ?it/s]"
      ]
     },
     "metadata": {},
     "output_type": "display_data"
    },
    {
     "data": {
      "application/vnd.jupyter.widget-view+json": {
       "model_id": "4cb0fb5f5d394cb4951cc26ba9da14df",
       "version_major": 2,
       "version_minor": 0
      },
      "text/plain": [
       "  0%|          | 0/1000 [00:00<?, ?it/s]"
      ]
     },
     "metadata": {},
     "output_type": "display_data"
    },
    {
     "data": {
      "application/vnd.jupyter.widget-view+json": {
       "model_id": "12478f3e54d24bb0a4c0fd0628e2055a",
       "version_major": 2,
       "version_minor": 0
      },
      "text/plain": [
       "  0%|          | 0/1000 [00:00<?, ?it/s]"
      ]
     },
     "metadata": {},
     "output_type": "display_data"
    },
    {
     "data": {
      "application/vnd.jupyter.widget-view+json": {
       "model_id": "95abac75c52c46a487eac8583951e2fa",
       "version_major": 2,
       "version_minor": 0
      },
      "text/plain": [
       "  0%|          | 0/1000 [00:00<?, ?it/s]"
      ]
     },
     "metadata": {},
     "output_type": "display_data"
    },
    {
     "name": "stdout",
     "output_type": "stream",
     "text": [
      "Seed: 9\n"
     ]
    },
    {
     "data": {
      "application/vnd.jupyter.widget-view+json": {
       "model_id": "2768538495f14b26883b95bf9338ab03",
       "version_major": 2,
       "version_minor": 0
      },
      "text/plain": [
       "  0%|          | 0/1000 [00:00<?, ?it/s]"
      ]
     },
     "metadata": {},
     "output_type": "display_data"
    },
    {
     "data": {
      "application/vnd.jupyter.widget-view+json": {
       "model_id": "e842a143eff944adb85362274844ea96",
       "version_major": 2,
       "version_minor": 0
      },
      "text/plain": [
       "  0%|          | 0/1000 [00:00<?, ?it/s]"
      ]
     },
     "metadata": {},
     "output_type": "display_data"
    },
    {
     "data": {
      "application/vnd.jupyter.widget-view+json": {
       "model_id": "afd257b66b9b429aa17257800779c85d",
       "version_major": 2,
       "version_minor": 0
      },
      "text/plain": [
       "  0%|          | 0/1000 [00:00<?, ?it/s]"
      ]
     },
     "metadata": {},
     "output_type": "display_data"
    },
    {
     "data": {
      "application/vnd.jupyter.widget-view+json": {
       "model_id": "ffa6cfd171a24b9daaf14befddec33e9",
       "version_major": 2,
       "version_minor": 0
      },
      "text/plain": [
       "  0%|          | 0/1000 [00:00<?, ?it/s]"
      ]
     },
     "metadata": {},
     "output_type": "display_data"
    },
    {
     "data": {
      "application/vnd.jupyter.widget-view+json": {
       "model_id": "9594d20245824366a2f7815247d1040d",
       "version_major": 2,
       "version_minor": 0
      },
      "text/plain": [
       "  0%|          | 0/1000 [00:00<?, ?it/s]"
      ]
     },
     "metadata": {},
     "output_type": "display_data"
    },
    {
     "data": {
      "application/vnd.jupyter.widget-view+json": {
       "model_id": "e122e1747de1403c853522eb981ec1ae",
       "version_major": 2,
       "version_minor": 0
      },
      "text/plain": [
       "  0%|          | 0/1000 [00:00<?, ?it/s]"
      ]
     },
     "metadata": {},
     "output_type": "display_data"
    },
    {
     "data": {
      "text/html": [
       "<div>\n",
       "<style scoped>\n",
       "    .dataframe tbody tr th:only-of-type {\n",
       "        vertical-align: middle;\n",
       "    }\n",
       "\n",
       "    .dataframe tbody tr th {\n",
       "        vertical-align: top;\n",
       "    }\n",
       "\n",
       "    .dataframe thead th {\n",
       "        text-align: right;\n",
       "    }\n",
       "</style>\n",
       "<table border=\"1\" class=\"dataframe\">\n",
       "  <thead>\n",
       "    <tr style=\"text-align: right;\">\n",
       "      <th></th>\n",
       "      <th>seed</th>\n",
       "      <th>kappa_gcn_acc</th>\n",
       "      <th>torch_gcn_acc</th>\n",
       "      <th>kappa_mlp_acc</th>\n",
       "      <th>torch_mlp_acc</th>\n",
       "      <th>kappa_mlr_acc</th>\n",
       "      <th>torch_mlr_acc</th>\n",
       "      <th>sklearn_mlr_acc</th>\n",
       "    </tr>\n",
       "  </thead>\n",
       "  <tbody>\n",
       "    <tr>\n",
       "      <th>0</th>\n",
       "      <td>0</td>\n",
       "      <td>0.906</td>\n",
       "      <td>0.591</td>\n",
       "      <td>0.918</td>\n",
       "      <td>0.591</td>\n",
       "      <td>0.903</td>\n",
       "      <td>0.904</td>\n",
       "      <td>0.903</td>\n",
       "    </tr>\n",
       "    <tr>\n",
       "      <th>1</th>\n",
       "      <td>1</td>\n",
       "      <td>0.433</td>\n",
       "      <td>0.433</td>\n",
       "      <td>0.433</td>\n",
       "      <td>0.531</td>\n",
       "      <td>0.519</td>\n",
       "      <td>0.519</td>\n",
       "      <td>0.519</td>\n",
       "    </tr>\n",
       "    <tr>\n",
       "      <th>2</th>\n",
       "      <td>2</td>\n",
       "      <td>0.204</td>\n",
       "      <td>0.517</td>\n",
       "      <td>0.204</td>\n",
       "      <td>0.517</td>\n",
       "      <td>0.595</td>\n",
       "      <td>0.595</td>\n",
       "      <td>0.595</td>\n",
       "    </tr>\n",
       "    <tr>\n",
       "      <th>3</th>\n",
       "      <td>3</td>\n",
       "      <td>0.651</td>\n",
       "      <td>0.651</td>\n",
       "      <td>0.650</td>\n",
       "      <td>0.651</td>\n",
       "      <td>0.669</td>\n",
       "      <td>0.669</td>\n",
       "      <td>0.669</td>\n",
       "    </tr>\n",
       "    <tr>\n",
       "      <th>4</th>\n",
       "      <td>4</td>\n",
       "      <td>0.633</td>\n",
       "      <td>0.456</td>\n",
       "      <td>0.680</td>\n",
       "      <td>0.677</td>\n",
       "      <td>0.780</td>\n",
       "      <td>0.780</td>\n",
       "      <td>0.780</td>\n",
       "    </tr>\n",
       "    <tr>\n",
       "      <th>5</th>\n",
       "      <td>5</td>\n",
       "      <td>0.573</td>\n",
       "      <td>0.625</td>\n",
       "      <td>0.669</td>\n",
       "      <td>0.669</td>\n",
       "      <td>0.626</td>\n",
       "      <td>0.626</td>\n",
       "      <td>0.626</td>\n",
       "    </tr>\n",
       "    <tr>\n",
       "      <th>6</th>\n",
       "      <td>6</td>\n",
       "      <td>0.390</td>\n",
       "      <td>0.793</td>\n",
       "      <td>0.390</td>\n",
       "      <td>0.804</td>\n",
       "      <td>0.781</td>\n",
       "      <td>0.781</td>\n",
       "      <td>0.781</td>\n",
       "    </tr>\n",
       "    <tr>\n",
       "      <th>7</th>\n",
       "      <td>7</td>\n",
       "      <td>0.479</td>\n",
       "      <td>0.479</td>\n",
       "      <td>0.638</td>\n",
       "      <td>0.479</td>\n",
       "      <td>0.675</td>\n",
       "      <td>0.675</td>\n",
       "      <td>0.675</td>\n",
       "    </tr>\n",
       "    <tr>\n",
       "      <th>8</th>\n",
       "      <td>8</td>\n",
       "      <td>0.654</td>\n",
       "      <td>0.654</td>\n",
       "      <td>0.654</td>\n",
       "      <td>0.654</td>\n",
       "      <td>0.803</td>\n",
       "      <td>0.802</td>\n",
       "      <td>0.802</td>\n",
       "    </tr>\n",
       "    <tr>\n",
       "      <th>9</th>\n",
       "      <td>9</td>\n",
       "      <td>0.665</td>\n",
       "      <td>0.602</td>\n",
       "      <td>0.700</td>\n",
       "      <td>0.602</td>\n",
       "      <td>0.655</td>\n",
       "      <td>0.655</td>\n",
       "      <td>0.655</td>\n",
       "    </tr>\n",
       "  </tbody>\n",
       "</table>\n",
       "</div>"
      ],
      "text/plain": [
       "   seed  kappa_gcn_acc  torch_gcn_acc  kappa_mlp_acc  torch_mlp_acc  \\\n",
       "0     0          0.906          0.591          0.918          0.591   \n",
       "1     1          0.433          0.433          0.433          0.531   \n",
       "2     2          0.204          0.517          0.204          0.517   \n",
       "3     3          0.651          0.651          0.650          0.651   \n",
       "4     4          0.633          0.456          0.680          0.677   \n",
       "5     5          0.573          0.625          0.669          0.669   \n",
       "6     6          0.390          0.793          0.390          0.804   \n",
       "7     7          0.479          0.479          0.638          0.479   \n",
       "8     8          0.654          0.654          0.654          0.654   \n",
       "9     9          0.665          0.602          0.700          0.602   \n",
       "\n",
       "   kappa_mlr_acc  torch_mlr_acc  sklearn_mlr_acc  \n",
       "0          0.903          0.904            0.903  \n",
       "1          0.519          0.519            0.519  \n",
       "2          0.595          0.595            0.595  \n",
       "3          0.669          0.669            0.669  \n",
       "4          0.780          0.780            0.780  \n",
       "5          0.626          0.626            0.626  \n",
       "6          0.781          0.781            0.781  \n",
       "7          0.675          0.675            0.675  \n",
       "8          0.803          0.802            0.802  \n",
       "9          0.655          0.655            0.655  "
      ]
     },
     "execution_count": 13,
     "metadata": {},
     "output_type": "execute_result"
    }
   ],
   "source": [
    "SEEDS = 10\n",
    "LR = 0.01\n",
    "EPOCHS = 1_000\n",
    "BIAS = False\n",
    "RBF_SCALE = 10  # Divide by this to get a reasonable scale for the RBF kernel\n",
    "\n",
    "results = []\n",
    "pm = manify.ProductManifold(signature=[(0, 2)], stereographic=True)\n",
    "\n",
    "\n",
    "def train_model(model, X_train, y_train, A_hat=None, num_epochs=EPOCHS, lr=LR):\n",
    "    loss_fn = torch.nn.CrossEntropyLoss()\n",
    "    optimizer = torch.optim.Adam(model.parameters(), lr=lr)\n",
    "    progress_bar = tqdm(total=num_epochs)\n",
    "\n",
    "    for i in range(num_epochs):\n",
    "        # Forward pass\n",
    "        if A_hat is not None:\n",
    "            y_pred = model(X_train, A_hat)\n",
    "        else:\n",
    "            y_pred = model(X_train)\n",
    "\n",
    "        # Compute loss\n",
    "        loss = loss_fn(y_pred, y_train)\n",
    "\n",
    "        # Backward pass\n",
    "        optimizer.zero_grad()\n",
    "        loss.backward()\n",
    "        optimizer.step()\n",
    "\n",
    "        # Update progress bar\n",
    "        progress_bar.update(1)\n",
    "        progress_bar.set_postfix(loss=loss.item())\n",
    "\n",
    "    return model\n",
    "\n",
    "\n",
    "def evaluate_model(model, X_test, y_test, A_hat=None):\n",
    "    with torch.no_grad():\n",
    "        if A_hat is not None:\n",
    "            y_pred = model(X_test, A_hat)\n",
    "        else:\n",
    "            y_pred = model(X_test)\n",
    "\n",
    "        acc = (y_pred.argmax(dim=1) == y_test).float().mean()\n",
    "    return acc.item()\n",
    "\n",
    "\n",
    "for seed in range(SEEDS):\n",
    "    print(f\"Seed: {seed}\")\n",
    "    # Get models\n",
    "    torch.manual_seed(seed)\n",
    "    kappa_gcn = manify.KappaGCN(pm=pm, num_hidden=4, output_dim=3)\n",
    "\n",
    "    torch.manual_seed(seed)\n",
    "    kappa_mlp = manify.KappaGCN(pm=pm, num_hidden=4, output_dim=3)\n",
    "\n",
    "    torch.manual_seed(seed)\n",
    "    kappa_mlr = manify.KappaGCN(pm=pm, num_hidden=0, output_dim=3)\n",
    "\n",
    "    torch.manual_seed(seed)\n",
    "    torch_gcn = VanillaGCN(dim=2, classes=3, num_hidden=4)\n",
    "\n",
    "    torch.manual_seed(seed)\n",
    "    torch_mlp = torch.nn.Sequential(\n",
    "        torch.nn.Linear(2, 2, bias=BIAS),\n",
    "        torch.nn.ReLU(),\n",
    "        torch.nn.Linear(2, 2, bias=BIAS),\n",
    "        torch.nn.ReLU(),\n",
    "        torch.nn.Linear(2, 2, bias=BIAS),\n",
    "        torch.nn.ReLU(),\n",
    "        torch.nn.Linear(2, 2, bias=BIAS),\n",
    "        torch.nn.ReLU(),\n",
    "        torch.nn.Linear(2, 3),\n",
    "    )\n",
    "    for layer in torch_mlp:\n",
    "        if isinstance(layer, torch.nn.Linear):\n",
    "            layer.weight = torch.nn.Parameter(torch.randn(layer.weight.shape) * 0.01)\n",
    "\n",
    "    torch.manual_seed(seed)\n",
    "    torch_mlr = torch.nn.Linear(2, 3)\n",
    "\n",
    "    sklearn_mlr = LogisticRegression(\n",
    "        solver=\"lbfgs\", max_iter=EPOCHS, fit_intercept=True, penalty=None,\n",
    "    )\n",
    "\n",
    "    # Generate data\n",
    "    X, y = pm.gaussian_mixture(num_points=1000, num_classes=3, seed=seed)\n",
    "\n",
    "    # Get adjacency matrix\n",
    "    A = manify.predictors.kappa_gcn.get_A_hat(torch.exp(-pm.pdist2(X) / RBF_SCALE))\n",
    "\n",
    "    # Train models...\n",
    "    # GCNs\n",
    "    # NB: divide by 4 because KappaGCN logits are scaled by 4 by default\n",
    "    kappa_gcn.fit(X, y, A=A, lr=LR / 4, epochs=EPOCHS)\n",
    "    kappa_gcn_acc = evaluate_model(kappa_gcn, X, y, A_hat=A)\n",
    "\n",
    "    torch_gcn = train_model(torch_gcn, X, y, A_hat=A)\n",
    "    torch_gcn_acc = evaluate_model(torch_gcn, X, y, A_hat=A)\n",
    "\n",
    "    # MLPs\n",
    "    kappa_mlp.fit(X, y, A=None, lr=LR / 4, epochs=EPOCHS)\n",
    "    kappa_mlp_acc = evaluate_model(kappa_mlp, X, y, A_hat=None)\n",
    "\n",
    "    torch_mlp = train_model(torch_mlp, X, y)\n",
    "    torch_mlp_acc = evaluate_model(torch_mlp, X, y)\n",
    "\n",
    "    # MLRs\n",
    "    kappa_mlr.fit(X, y, A=None, lr=LR / 4, epochs=EPOCHS)\n",
    "    kappa_mlr_acc = evaluate_model(kappa_mlr, X, y, A_hat=None)\n",
    "\n",
    "    torch_mlr = train_model(torch_mlr, X, y)\n",
    "    torch_mlr_acc = evaluate_model(torch_mlr, X, y)\n",
    "\n",
    "    sklearn_mlr.fit(X.numpy(), y.numpy())\n",
    "    sklearn_acc = sklearn_mlr.score(X.numpy(), y.numpy())\n",
    "\n",
    "    # Store results\n",
    "    results += [\n",
    "        {\n",
    "            \"seed\": seed,\n",
    "            \"kappa_gcn_acc\": kappa_gcn_acc,\n",
    "            \"torch_gcn_acc\": torch_gcn_acc,\n",
    "            \"kappa_mlp_acc\": kappa_mlp_acc,\n",
    "            \"torch_mlp_acc\": torch_mlp_acc,\n",
    "            \"kappa_mlr_acc\": kappa_mlr_acc,\n",
    "            \"torch_mlr_acc\": torch_mlr_acc,\n",
    "            \"sklearn_mlr_acc\": sklearn_acc,\n",
    "        }\n",
    "    ]\n",
    "\n",
    "results_df = pd.DataFrame(results)\n",
    "results_df"
   ]
  },
  {
   "cell_type": "code",
   "execution_count": 14,
   "id": "1ce6783e",
   "metadata": {},
   "outputs": [
    {
     "name": "stdout",
     "output_type": "stream",
     "text": [
      "\tkappa_gcn_acc\ttorch_gcn_acc\tkappa_mlp_acc\ttorch_mlp_acc\tkappa_mlr_acc\ttorch_mlr_acc\tsklearn_mlr_acc\n",
      "kappa_gcn_acc\t1.0000\t1.0000\t0.0625\t0.3750\t0.0098\t0.0098\t0.0098\t\n",
      "torch_gcn_acc\t1.0000\t1.0000\t0.7422\t0.1250\t0.0059\t0.0059\t0.0059\t\n",
      "kappa_mlp_acc\t0.0625\t0.7422\t1.0000\t0.9453\t0.0820\t0.0820\t0.0840\t\n",
      "torch_mlp_acc\t0.3750\t0.1250\t0.9453\t1.0000\t0.0488\t0.0488\t0.0488\t\n",
      "kappa_mlr_acc\t0.0098\t0.0059\t0.0820\t0.0488\t1.0000\t1.0000\t0.5547\t\n",
      "torch_mlr_acc\t0.0098\t0.0059\t0.0820\t0.0488\t1.0000\t1.0000\t0.6250\t\n",
      "sklearn_mlr_acc\t0.0098\t0.0059\t0.0840\t0.0488\t0.5547\t0.6250\t1.0000\t\n"
     ]
    }
   ],
   "source": [
    "from scipy.stats import wilcoxon\n",
    "import warnings\n",
    "\n",
    "warnings.filterwarnings(\"ignore\", category=RuntimeWarning)\n",
    "\n",
    "print(\"\\t\" + \"\\t\".join(results_df.columns[1:]))\n",
    "for col in results_df.columns:\n",
    "    if col == \"seed\":\n",
    "        continue\n",
    "    print(col, end=\"\\t\")\n",
    "    for col2 in results_df.columns:\n",
    "        if col2 == \"seed\":\n",
    "            continue\n",
    "        print(f\"{wilcoxon(results_df[col], results_df[col2]).pvalue:.4f}\", end=\"\\t\")\n",
    "    print()"
   ]
  },
  {
   "cell_type": "code",
   "execution_count": 6,
   "id": "7d1079d1",
   "metadata": {},
   "outputs": [
    {
     "name": "stdout",
     "output_type": "stream",
     "text": [
      "\tkappa_gcn_acc\ttorch_gcn_acc\tkappa_mlp_acc\ttorch_mlp_acc\tkappa_mlr_acc\ttorch_mlr_acc\tsklearn_mlr_acc\n",
      "kappa_gcn_acc\t1.0000\t0.0493\t0.9992\t0.0660\t0.5668\t0.5676\t0.5670\t\n",
      "torch_gcn_acc\t0.0493\t1.0000\t0.0454\t0.7737\t0.3605\t0.3597\t0.3603\t\n",
      "kappa_mlp_acc\t0.9992\t0.0454\t1.0000\t0.0693\t0.5814\t0.5822\t0.5816\t\n",
      "torch_mlp_acc\t0.0660\t0.7737\t0.0693\t1.0000\t0.4480\t0.4469\t0.4480\t\n",
      "kappa_mlr_acc\t0.5668\t0.3605\t0.5814\t0.4480\t1.0000\t1.0000\t1.0000\t\n",
      "torch_mlr_acc\t0.5676\t0.3597\t0.5822\t0.4469\t1.0000\t1.0000\t1.0000\t\n",
      "sklearn_mlr_acc\t0.5670\t0.3603\t0.5816\t0.4480\t1.0000\t1.0000\t1.0000\t\n"
     ]
    }
   ],
   "source": [
    "from scipy.stats import pearsonr\n",
    "\n",
    "print(\"\\t\" + \"\\t\".join(results_df.columns[1:]))\n",
    "for col in results_df.columns:\n",
    "    if col == \"seed\":\n",
    "        continue\n",
    "    print(col, end=\"\\t\")\n",
    "    for col2 in results_df.columns:\n",
    "        if col2 == \"seed\":\n",
    "            continue\n",
    "        print(f\"{pearsonr(results_df[col], results_df[col2]).statistic:.4f}\", end=\"\\t\")\n",
    "    print()"
   ]
  },
  {
   "cell_type": "code",
   "execution_count": 7,
   "id": "d135bf36",
   "metadata": {},
   "outputs": [],
   "source": [
    "# \tkappa_mlp_acc\ttorch_mlp_acc\tkappa_mlr_acc\ttorch_mlr_acc\tsklearn_mlr_acc\n",
    "# kappa_mlp_acc\t1.0000\t0.9375\t0.0820\t0.0840\t0.0840\n",
    "# torch_mlp_acc\t0.9375\t1.0000\t0.0098\t0.0098\t0.0098\n",
    "# kappa_mlr_acc\t0.0820\t0.0098\t1.0000\t1.0000\t0.4902\n",
    "# torch_mlr_acc\t0.0840\t0.0098\t1.0000\t1.0000\t0.5391\n",
    "# sklearn_mlr_acc\t0.0840\t0.0098\t0.4902\t0.5391\t1.0000"
   ]
  }
 ],
 "metadata": {
  "kernelspec": {
   "display_name": "manify",
   "language": "python",
   "name": "python3"
  },
  "language_info": {
   "codemirror_mode": {
    "name": "ipython",
    "version": 3
   },
   "file_extension": ".py",
   "mimetype": "text/x-python",
   "name": "python",
   "nbconvert_exporter": "python",
   "pygments_lexer": "ipython3",
   "version": "3.12.0"
  }
 },
 "nbformat": 4,
 "nbformat_minor": 5
}
